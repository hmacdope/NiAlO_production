{
 "cells": [
  {
   "cell_type": "code",
   "execution_count": 1,
   "id": "74bc23c8-3b39-4ad7-b8f0-88109c5bc5b0",
   "metadata": {},
   "outputs": [
    {
     "data": {
      "application/vnd.jupyter.widget-view+json": {
       "model_id": "386f47bde3f3430f8cf151e0eb0cef17",
       "version_major": 2,
       "version_minor": 0
      },
      "text/plain": []
     },
     "metadata": {},
     "output_type": "display_data"
    }
   ],
   "source": [
    "\n",
    "import ase\n",
    "import numpy as np\n",
    "from ase.visualize import view\n",
    "from ase.io import read, write\n",
    "from ase.io import cif, vasp, lammpsdata\n",
    "from ase.build import make_supercell, sort, add_adsorbate, add_vacuum\n",
    "import nglview"
   ]
  },
  {
   "cell_type": "code",
   "execution_count": 2,
   "id": "7c0d2b26-c6c7-4801-bf75-ee3c6f1460f8",
   "metadata": {},
   "outputs": [],
   "source": [
    "from ase.io.proteindatabank import read_proteindatabank"
   ]
  },
  {
   "cell_type": "code",
   "execution_count": 3,
   "id": "7539742a-72ae-41b2-af05-386ad08a1550",
   "metadata": {},
   "outputs": [],
   "source": [
    "import os"
   ]
  },
  {
   "cell_type": "code",
   "execution_count": 4,
   "id": "8d752402-78aa-4841-91a9-4970c122f0d3",
   "metadata": {},
   "outputs": [
    {
     "data": {
      "text/plain": [
       "['clean_2_4000_O.pdb']"
      ]
     },
     "execution_count": 4,
     "metadata": {},
     "output_type": "execute_result"
    }
   ],
   "source": [
    "pdb = [f for f in os.listdir() if '.pdb' in f]\n",
    "pdb"
   ]
  },
  {
   "cell_type": "code",
   "execution_count": 5,
   "id": "714628b1-f37d-4f66-8eb8-ea8f389084b6",
   "metadata": {},
   "outputs": [],
   "source": [
    "assert len(pdb) == 1"
   ]
  },
  {
   "cell_type": "code",
   "execution_count": 6,
   "id": "9e9d4392-a6d5-4275-a9f3-0e08b4f229a2",
   "metadata": {},
   "outputs": [],
   "source": [
    "pdb = pdb[0]"
   ]
  },
  {
   "cell_type": "code",
   "execution_count": 7,
   "id": "394dd7dc-1572-44e5-b3dc-8be33a6cb26d",
   "metadata": {},
   "outputs": [],
   "source": [
    "tokens = pdb.split(\"_\")\n",
    "n_oxygens = tokens[2]\n",
    "n_oxygens = int(n_oxygens)"
   ]
  },
  {
   "cell_type": "code",
   "execution_count": 8,
   "id": "180f9e69-1bcf-4220-98af-4ac01ef6eb65",
   "metadata": {},
   "outputs": [],
   "source": [
    "impactors_pdb = read_proteindatabank(pdb)\n",
    "total = len(impactors_pdb)"
   ]
  },
  {
   "cell_type": "code",
   "execution_count": 9,
   "id": "102efcf1-ea51-4a4c-aba9-3c3edea9f443",
   "metadata": {},
   "outputs": [],
   "source": [
    "impactors_pdb.set_atomic_numbers([13]*(total-n_oxygens) + [8]*n_oxygens)"
   ]
  },
  {
   "cell_type": "code",
   "execution_count": 10,
   "id": "d9465a2d-d98a-4be4-a41f-88e1c60113f2",
   "metadata": {},
   "outputs": [
    {
     "data": {
      "application/vnd.jupyter.widget-view+json": {
       "model_id": "a4d1cbb7898b49dab68456a933afaa7e",
       "version_major": 2,
       "version_minor": 0
      },
      "text/plain": [
       "HBox(children=(NGLWidget(), VBox(children=(Dropdown(description='Show', options=('All', 'O', 'Al'), value='All…"
      ]
     },
     "metadata": {},
     "output_type": "display_data"
    }
   ],
   "source": [
    "v = view(impactors_pdb, viewer='ngl')\n",
    "v"
   ]
  },
  {
   "cell_type": "code",
   "execution_count": 11,
   "id": "4514c2b0-1dbe-4312-8eac-4f9bceb33746",
   "metadata": {},
   "outputs": [
    {
     "data": {
      "text/plain": [
       "'Al25000O4000'"
      ]
     },
     "execution_count": 11,
     "metadata": {},
     "output_type": "execute_result"
    }
   ],
   "source": [
    "impactors_pdb.get_chemical_formula()"
   ]
  },
  {
   "cell_type": "code",
   "execution_count": 12,
   "id": "6b566640-190b-4901-95ef-4d745ed70e64",
   "metadata": {},
   "outputs": [],
   "source": [
    "from ase.build import bulk"
   ]
  },
  {
   "cell_type": "code",
   "execution_count": 13,
   "id": "7069be5a-7e6e-4507-b1c7-f0fc8313f6da",
   "metadata": {},
   "outputs": [
    {
     "data": {
      "text/plain": [
       "Cell([2.4946727240261395, 2.4946727240261395, 3.528])"
      ]
     },
     "execution_count": 13,
     "metadata": {},
     "output_type": "execute_result"
    }
   ],
   "source": [
    "NiPrimitive = bulk('Ni', 'fcc', a=3.528, orthorhombic=True)\n",
    "NiPrimitive.cell"
   ]
  },
  {
   "cell_type": "code",
   "execution_count": 14,
   "id": "1909318c-3dfe-4052-92ac-9e9fb1989cf2",
   "metadata": {},
   "outputs": [],
   "source": [
    "NiPrimitive_a_b = NiPrimitive.cell[0][0]\n",
    "NiPrimitive_c = NiPrimitive.cell[2][2]"
   ]
  },
  {
   "cell_type": "code",
   "execution_count": 15,
   "id": "736279c7-0708-4535-a922-a90e75c8ac33",
   "metadata": {},
   "outputs": [
    {
     "data": {
      "application/vnd.jupyter.widget-view+json": {
       "model_id": "d7877f4e553b44fda52ffe9427051e32",
       "version_major": 2,
       "version_minor": 0
      },
      "text/plain": [
       "HBox(children=(NGLWidget(), VBox(children=(Dropdown(description='Show', options=('All', 'Ni'), value='All'), D…"
      ]
     },
     "metadata": {},
     "output_type": "display_data"
    }
   ],
   "source": [
    "v = view(NiPrimitive, viewer='ngl')\n",
    "v"
   ]
  },
  {
   "cell_type": "code",
   "execution_count": 16,
   "id": "3cea861f-02d4-42a1-9848-98cde3148fec",
   "metadata": {},
   "outputs": [
    {
     "data": {
      "text/plain": [
       "41"
      ]
     },
     "execution_count": 16,
     "metadata": {},
     "output_type": "execute_result"
    }
   ],
   "source": [
    "target_height  = 101.8\n",
    "repeats_ni_a_b =  round(target_height/NiPrimitive_a_b)\n",
    "repeats_ni_a_b"
   ]
  },
  {
   "cell_type": "code",
   "execution_count": 17,
   "id": "73aa8106-e51a-4832-a8b3-eedb5d306d71",
   "metadata": {},
   "outputs": [
    {
     "data": {
      "text/plain": [
       "32"
      ]
     },
     "execution_count": 17,
     "metadata": {},
     "output_type": "execute_result"
    }
   ],
   "source": [
    "target_width_ni = 56\n",
    "repeats_ni_c = 2*round(target_width_ni/NiPrimitive_c)\n",
    "repeats_ni_c"
   ]
  },
  {
   "cell_type": "code",
   "execution_count": 18,
   "id": "095d3abd-c4aa-43b9-8cb0-f42d198f6103",
   "metadata": {},
   "outputs": [
    {
     "data": {
      "text/plain": [
       "Cell([2.873681958742129, 2.873681958742129, 4.064])"
      ]
     },
     "execution_count": 18,
     "metadata": {},
     "output_type": "execute_result"
    }
   ],
   "source": [
    "AlPrimitive = bulk('Al', 'fcc', a=4.064, orthorhombic=True)\n",
    "AlPrimitive.cell"
   ]
  },
  {
   "cell_type": "code",
   "execution_count": 19,
   "id": "6408fd45-0ee5-4642-893b-4395d8f4f58d",
   "metadata": {},
   "outputs": [],
   "source": [
    "AlPrimitive_a_b = AlPrimitive.cell[0][0]\n",
    "AlPrimitive_c = AlPrimitive.cell[2][2]"
   ]
  },
  {
   "cell_type": "code",
   "execution_count": 20,
   "id": "3989c2df-ddde-448a-afcc-7767af05152f",
   "metadata": {},
   "outputs": [
    {
     "data": {
      "text/plain": [
       "35"
      ]
     },
     "execution_count": 20,
     "metadata": {},
     "output_type": "execute_result"
    }
   ],
   "source": [
    "repeats_al_a_b =  round(target_height/AlPrimitive_a_b)\n",
    "repeats_al_a_b"
   ]
  },
  {
   "cell_type": "code",
   "execution_count": 21,
   "id": "82df71a9-dfd5-401a-8f06-3330ee210aff",
   "metadata": {},
   "outputs": [
    {
     "data": {
      "text/plain": [
       "14"
      ]
     },
     "execution_count": 21,
     "metadata": {},
     "output_type": "execute_result"
    }
   ],
   "source": [
    "target_width_al = 28\n",
    "repeats_al_c = 2*round(target_width_al/AlPrimitive_c)\n",
    "repeats_al_c"
   ]
  },
  {
   "cell_type": "code",
   "execution_count": 22,
   "id": "3eb3fae3-53b1-4e24-8ec2-127e4635f978",
   "metadata": {},
   "outputs": [],
   "source": [
    "nisalb = ase.build.fcc100(\"Ni\", (repeats_ni_a_b, repeats_ni_a_b, repeats_ni_c), a=3.528, vacuum=1.0, orthogonal=True, periodic=True)"
   ]
  },
  {
   "cell_type": "code",
   "execution_count": 23,
   "id": "1195d45e-5b21-421c-a3ed-3973377738b9",
   "metadata": {},
   "outputs": [
    {
     "data": {
      "text/plain": [
       "Cell([102.28158168507174, 102.28158168507174, 56.684])"
      ]
     },
     "execution_count": 23,
     "metadata": {},
     "output_type": "execute_result"
    }
   ],
   "source": [
    "nisalb.cell"
   ]
  },
  {
   "cell_type": "code",
   "execution_count": 24,
   "id": "6d317242-a67b-4b21-a089-9ffe5aa9361f",
   "metadata": {},
   "outputs": [
    {
     "data": {
      "application/vnd.jupyter.widget-view+json": {
       "model_id": "210a27b1e8974571b25b37580ecc5283",
       "version_major": 2,
       "version_minor": 0
      },
      "text/plain": [
       "HBox(children=(NGLWidget(), VBox(children=(Dropdown(description='Show', options=('All', 'Ni'), value='All'), D…"
      ]
     },
     "metadata": {},
     "output_type": "display_data"
    }
   ],
   "source": [
    "v = view(nisalb, viewer='ngl')\n",
    "v"
   ]
  },
  {
   "cell_type": "code",
   "execution_count": 25,
   "id": "ed437abc-d526-4028-869c-1a00ac3fca17",
   "metadata": {},
   "outputs": [],
   "source": [
    "alsalb = ase.build.fcc100(\"Al\", (repeats_al_a_b, repeats_al_a_b, repeats_al_c), a=4.064, vacuum=1.0, orthogonal=True, periodic=True)"
   ]
  },
  {
   "cell_type": "code",
   "execution_count": 26,
   "id": "7914460b-b198-44a4-b810-4ecab49178c3",
   "metadata": {},
   "outputs": [
    {
     "data": {
      "text/plain": [
       "Cell([100.57886855597452, 100.57886855597452, 28.416])"
      ]
     },
     "execution_count": 26,
     "metadata": {},
     "output_type": "execute_result"
    }
   ],
   "source": [
    "alsalb.cell"
   ]
  },
  {
   "cell_type": "code",
   "execution_count": 27,
   "id": "e499b9cb-e3e2-49a4-8264-703f5b835d71",
   "metadata": {},
   "outputs": [
    {
     "data": {
      "application/vnd.jupyter.widget-view+json": {
       "model_id": "33d07e2d5e8e44d9b8699cff6d0ad062",
       "version_major": 2,
       "version_minor": 0
      },
      "text/plain": [
       "HBox(children=(NGLWidget(), VBox(children=(Dropdown(description='Show', options=('All', 'Al'), value='All'), D…"
      ]
     },
     "metadata": {},
     "output_type": "display_data"
    }
   ],
   "source": [
    "v = view(alsalb, viewer='ngl')\n",
    "v"
   ]
  },
  {
   "cell_type": "code",
   "execution_count": 28,
   "id": "de1499d6-cd38-4187-a113-c57fc7facc25",
   "metadata": {},
   "outputs": [],
   "source": [
    "alsalb_half  = ase.build.fcc100(\"Al\", (repeats_al_a_b, repeats_al_a_b, repeats_al_c//2), a=4.064, vacuum=1.0, orthogonal=True, periodic=True)"
   ]
  },
  {
   "cell_type": "code",
   "execution_count": 29,
   "id": "3c719bc5-61f5-4b89-9279-b34716ba8fd7",
   "metadata": {},
   "outputs": [],
   "source": [
    "wafer = ase.build.stack(alsalb, nisalb, maxstrain=None)\n",
    "cap_left = ase.build.stack(alsalb_half, nisalb, maxstrain=None)"
   ]
  },
  {
   "cell_type": "code",
   "execution_count": 30,
   "id": "371e97cb-4e71-4e91-ae37-4a72f4edd180",
   "metadata": {},
   "outputs": [],
   "source": [
    "reverse_wafer = ase.build.stack(nisalb,alsalb, maxstrain=None)\n",
    "cap_right = ase.build.stack(nisalb,alsalb_half, maxstrain=None)"
   ]
  },
  {
   "cell_type": "code",
   "execution_count": 31,
   "id": "af757d49-cbab-492b-a459-bc6fd20b1358",
   "metadata": {
    "tags": []
   },
   "outputs": [
    {
     "data": {
      "application/vnd.jupyter.widget-view+json": {
       "model_id": "9392350bac8c4974be16b3b506f49df0",
       "version_major": 2,
       "version_minor": 0
      },
      "text/plain": [
       "HBox(children=(NGLWidget(), VBox(children=(Dropdown(description='Show', options=('All', 'Ni', 'Al'), value='Al…"
      ]
     },
     "metadata": {},
     "output_type": "display_data"
    }
   ],
   "source": [
    "v = view(wafer, viewer='ngl')\n",
    "v"
   ]
  },
  {
   "cell_type": "code",
   "execution_count": 32,
   "id": "c1a9abdb-c7bf-469a-8761-3727e74f4ee8",
   "metadata": {},
   "outputs": [
    {
     "data": {
      "application/vnd.jupyter.widget-view+json": {
       "model_id": "90020109fe1242ebada343255d58e5ac",
       "version_major": 2,
       "version_minor": 0
      },
      "text/plain": [
       "HBox(children=(NGLWidget(), VBox(children=(Dropdown(description='Show', options=('All', 'Ni', 'Al'), value='Al…"
      ]
     },
     "metadata": {},
     "output_type": "display_data"
    }
   ],
   "source": [
    "v = view(reverse_wafer, viewer='ngl')\n",
    "v"
   ]
  },
  {
   "cell_type": "code",
   "execution_count": 33,
   "id": "57c5a9a1-796e-4a80-b15f-c38ae8ed14ce",
   "metadata": {},
   "outputs": [],
   "source": [
    "combined_wafer_left = ase.build.stack(wafer,wafer, maxstrain=None)\n",
    "combined_wafer_left = ase.build.stack(cap_left,combined_wafer_left, maxstrain=None)"
   ]
  },
  {
   "cell_type": "code",
   "execution_count": 34,
   "id": "16cd3ad8-93d1-498b-a477-a5357637b822",
   "metadata": {},
   "outputs": [
    {
     "data": {
      "application/vnd.jupyter.widget-view+json": {
       "model_id": "830f1fba1dfe4482ad33562422f2ba17",
       "version_major": 2,
       "version_minor": 0
      },
      "text/plain": [
       "HBox(children=(NGLWidget(), VBox(children=(Dropdown(description='Show', options=('All', 'Ni', 'Al'), value='Al…"
      ]
     },
     "metadata": {},
     "output_type": "display_data"
    }
   ],
   "source": [
    "v = view(combined_wafer_left, viewer='ngl')\n",
    "v"
   ]
  },
  {
   "cell_type": "code",
   "execution_count": 35,
   "id": "71b2e456-6249-4af0-b1e1-015669e7d0d4",
   "metadata": {},
   "outputs": [],
   "source": [
    "combined_wafer_right = ase.build.stack(reverse_wafer,reverse_wafer, maxstrain=None)\n",
    "combined_wafer_right = ase.build.stack(combined_wafer_right,cap_right, maxstrain=None)"
   ]
  },
  {
   "cell_type": "code",
   "execution_count": 36,
   "id": "3bb28b0e-3805-4a66-805f-3abae3947385",
   "metadata": {},
   "outputs": [
    {
     "data": {
      "application/vnd.jupyter.widget-view+json": {
       "model_id": "48c8429b581b4d1ba91307930e8c77cd",
       "version_major": 2,
       "version_minor": 0
      },
      "text/plain": [
       "HBox(children=(NGLWidget(), VBox(children=(Dropdown(description='Show', options=('All', 'Ni', 'Al'), value='Al…"
      ]
     },
     "metadata": {},
     "output_type": "display_data"
    }
   ],
   "source": [
    "v = view(combined_wafer_right, viewer='ngl')\n",
    "v"
   ]
  },
  {
   "cell_type": "code",
   "execution_count": 37,
   "id": "c862dcea-6192-4e99-921c-d19e89373ee5",
   "metadata": {},
   "outputs": [],
   "source": [
    "combined_including_al2O3 = ase.build.stack(combined_wafer_left,impactors_pdb, maxstrain=None)\n"
   ]
  },
  {
   "cell_type": "code",
   "execution_count": 38,
   "id": "35a598b3-5605-4f8c-be91-3a7a18244f11",
   "metadata": {},
   "outputs": [
    {
     "data": {
      "application/vnd.jupyter.widget-view+json": {
       "model_id": "9cafdc6cc39c47cdb6c3899801ce662b",
       "version_major": 2,
       "version_minor": 0
      },
      "text/plain": [
       "HBox(children=(NGLWidget(), VBox(children=(Dropdown(description='Show', options=('All', 'O', 'Ni', 'Al'), valu…"
      ]
     },
     "metadata": {},
     "output_type": "display_data"
    }
   ],
   "source": [
    "v = view(combined_including_al2O3, viewer='ngl')\n",
    "v"
   ]
  },
  {
   "cell_type": "code",
   "execution_count": 39,
   "id": "441861e2-5844-4857-899c-eb186e03da96",
   "metadata": {},
   "outputs": [],
   "source": [
    "combined_including_al2O3_both_sides = ase.build.stack(combined_including_al2O3,combined_wafer_right, maxstrain=None)\n"
   ]
  },
  {
   "cell_type": "code",
   "execution_count": 40,
   "id": "47322811-26a1-4027-b655-89a7ed4a815a",
   "metadata": {},
   "outputs": [
    {
     "data": {
      "application/vnd.jupyter.widget-view+json": {
       "model_id": "5b3f61aa38d9402f8bb8f14df4bf716f",
       "version_major": 2,
       "version_minor": 0
      },
      "text/plain": [
       "HBox(children=(NGLWidget(), VBox(children=(Dropdown(description='Show', options=('All', 'O', 'Ni', 'Al'), valu…"
      ]
     },
     "metadata": {},
     "output_type": "display_data"
    }
   ],
   "source": [
    "v = view(combined_including_al2O3_both_sides, viewer='ngl')\n",
    "v"
   ]
  },
  {
   "cell_type": "code",
   "execution_count": null,
   "id": "11b8bec7-41b7-45f9-9578-2ca85f719153",
   "metadata": {},
   "outputs": [],
   "source": []
  },
  {
   "cell_type": "code",
   "execution_count": 41,
   "id": "266c732b-ee97-44a3-9f43-a726adaf3350",
   "metadata": {},
   "outputs": [
    {
     "name": "stderr",
     "output_type": "stream",
     "text": [
      "/home/hmacdope/anaconda3/envs/terry/lib/python3.9/site-packages/ase/io/extxyz.py:302: UserWarning: Skipping unhashable information adsorbate_info\n",
      "  warnings.warn('Skipping unhashable information '\n"
     ]
    }
   ],
   "source": [
    "\n",
    "lammpsdata.write_lammps_data(\"full_slab.data\", combined_including_al2O3_both_sides)\n",
    "combined_including_al2O3_both_sides.write(\"full_slab.xyz\")"
   ]
  },
  {
   "cell_type": "code",
   "execution_count": null,
   "id": "690fbfd3-e1be-4e63-b755-8764616c0e29",
   "metadata": {},
   "outputs": [],
   "source": []
  },
  {
   "cell_type": "code",
   "execution_count": 42,
   "id": "542fa494-9ace-42b3-aec6-25a0328c8c40",
   "metadata": {},
   "outputs": [
    {
     "data": {
      "text/plain": [
       "'Al110750Ni322752O4000'"
      ]
     },
     "execution_count": 42,
     "metadata": {},
     "output_type": "execute_result"
    }
   ],
   "source": [
    "formula = combined_including_al2O3_both_sides.get_chemical_formula()\n",
    "formula"
   ]
  },
  {
   "cell_type": "code",
   "execution_count": 43,
   "id": "58fbd398-d09a-41d4-b7f8-aa7e5ea0069a",
   "metadata": {},
   "outputs": [],
   "source": [
    "import re\n",
    "res = re.findall('[0-9]+', formula)"
   ]
  },
  {
   "cell_type": "code",
   "execution_count": 44,
   "id": "42b55dc2-fbf2-4fe3-8394-06b45c21ef2a",
   "metadata": {},
   "outputs": [],
   "source": [
    "Al = int(res[0])\n",
    "Ni = int(res[1])\n",
    "O = int(res[2])"
   ]
  },
  {
   "cell_type": "code",
   "execution_count": 45,
   "id": "651de7cb-3b00-4c91-896c-94acb7af5b60",
   "metadata": {},
   "outputs": [
    {
     "data": {
      "text/plain": [
       "2.9142392776523702"
      ]
     },
     "execution_count": 45,
     "metadata": {},
     "output_type": "execute_result"
    }
   ],
   "source": [
    "Ni/Al"
   ]
  },
  {
   "cell_type": "code",
   "execution_count": null,
   "id": "26dc8ed3-5d1e-443b-a567-6005d5951f2a",
   "metadata": {},
   "outputs": [],
   "source": []
  },
  {
   "cell_type": "code",
   "execution_count": null,
   "id": "44f50e39-11a9-4ef0-9629-22296e8b583c",
   "metadata": {},
   "outputs": [],
   "source": []
  }
 ],
 "metadata": {
  "kernelspec": {
   "display_name": "Python 3 (ipykernel)",
   "language": "python",
   "name": "python3"
  },
  "language_info": {
   "codemirror_mode": {
    "name": "ipython",
    "version": 3
   },
   "file_extension": ".py",
   "mimetype": "text/x-python",
   "name": "python",
   "nbconvert_exporter": "python",
   "pygments_lexer": "ipython3",
   "version": "3.9.12"
  }
 },
 "nbformat": 4,
 "nbformat_minor": 5
}

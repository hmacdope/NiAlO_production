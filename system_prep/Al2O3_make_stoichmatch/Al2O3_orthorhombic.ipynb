{
 "cells": [
  {
   "cell_type": "code",
   "execution_count": 1,
   "id": "74bc23c8-3b39-4ad7-b8f0-88109c5bc5b0",
   "metadata": {},
   "outputs": [
    {
     "data": {
      "application/vnd.jupyter.widget-view+json": {
       "model_id": "bc321a17333946f096e71be29c96bf39",
       "version_major": 2,
       "version_minor": 0
      },
      "text/plain": []
     },
     "metadata": {},
     "output_type": "display_data"
    }
   ],
   "source": [
    "\n",
    "import ase\n",
    "import numpy as np\n",
    "from ase.visualize import view\n",
    "from ase.io import read, write\n",
    "from ase.io import cif, vasp, lammpsdata\n",
    "from ase.build import make_supercell, sort, add_adsorbate, add_vacuum\n",
    "import nglview"
   ]
  },
  {
   "cell_type": "code",
   "execution_count": 2,
   "id": "45bc7b7e-5c95-41c2-82bc-7c90275fcf4e",
   "metadata": {},
   "outputs": [
    {
     "data": {
      "text/plain": [
       "60"
      ]
     },
     "execution_count": 2,
     "metadata": {},
     "output_type": "execute_result"
    }
   ],
   "source": [
    "atoms = vasp.read_vasp('orthorhombic.POSCAR.vasp')\n",
    "len(atoms)"
   ]
  },
  {
   "cell_type": "code",
   "execution_count": 3,
   "id": "f20cbf67-1529-442d-85f2-cb5879791064",
   "metadata": {},
   "outputs": [
    {
     "data": {
      "application/vnd.jupyter.widget-view+json": {
       "model_id": "4db84202697145fa890aaadb994c9e7c",
       "version_major": 2,
       "version_minor": 0
      },
      "text/plain": [
       "HBox(children=(NGLWidget(), VBox(children=(Dropdown(description='Show', options=('All', 'O', 'Al'), value='All…"
      ]
     },
     "metadata": {},
     "output_type": "display_data"
    }
   ],
   "source": [
    "v = view(atoms, viewer='ngl')\n",
    "v"
   ]
  },
  {
   "cell_type": "code",
   "execution_count": 4,
   "id": "e8ede418-19af-4463-9b68-ec80e4627415",
   "metadata": {},
   "outputs": [
    {
     "data": {
      "text/plain": [
       "Cell([4.8050279617, 4.8050279617, 13.1162538528])"
      ]
     },
     "execution_count": 4,
     "metadata": {},
     "output_type": "execute_result"
    }
   ],
   "source": [
    "atoms.cell"
   ]
  },
  {
   "cell_type": "code",
   "execution_count": 5,
   "id": "d81c5cc0-b75e-4382-b063-9b2960ee39b2",
   "metadata": {},
   "outputs": [
    {
     "data": {
      "text/plain": [
       "4.8050279617"
      ]
     },
     "execution_count": 5,
     "metadata": {},
     "output_type": "execute_result"
    }
   ],
   "source": [
    "a = atoms.cell[0][0]\n",
    "a"
   ]
  },
  {
   "cell_type": "code",
   "execution_count": 6,
   "id": "6095ead5-f89e-4934-b0eb-bc62a9eb094e",
   "metadata": {},
   "outputs": [
    {
     "data": {
      "text/plain": [
       "4.8050279617"
      ]
     },
     "execution_count": 6,
     "metadata": {},
     "output_type": "execute_result"
    }
   ],
   "source": [
    "b = atoms.cell[1][1]\n",
    "b"
   ]
  },
  {
   "cell_type": "code",
   "execution_count": 7,
   "id": "667d13b3-6d10-419c-a580-dd738df31786",
   "metadata": {},
   "outputs": [
    {
     "data": {
      "text/plain": [
       "13.1162538528"
      ]
     },
     "execution_count": 7,
     "metadata": {},
     "output_type": "execute_result"
    }
   ],
   "source": [
    "c = atoms.cell[2][2]\n",
    "c"
   ]
  },
  {
   "cell_type": "code",
   "execution_count": 8,
   "id": "ed1ac779-3d75-4ffb-9fc0-31cc4aec1d2c",
   "metadata": {},
   "outputs": [
    {
     "data": {
      "text/plain": [
       "array([[ 0.        ,  0.        ,  1.93994633],\n",
       "       [ 0.        ,  0.        , 11.17630772],\n",
       "       [ 1.60167589,  3.20335207,  0.24609594],\n",
       "       [ 3.20335207,  1.60167589, 12.8701582 ],\n",
       "       [ 1.60167589,  3.20335207,  4.12598832],\n",
       "       [ 3.20335207,  1.60167589,  8.99026516],\n",
       "       [ 3.20335207,  1.60167603,  2.43213823],\n",
       "       [ 1.60167589,  3.20335178, 10.68411562],\n",
       "       [ 3.20335207,  1.60167603,  6.31203088],\n",
       "       [ 1.60167589,  3.20335178,  6.80422337],\n",
       "       [ 0.        ,  0.        ,  4.6181804 ],\n",
       "       [ 0.        ,  0.        ,  8.49807383],\n",
       "       [ 0.        ,  0.        ,  8.49807227],\n",
       "       [ 0.        ,  0.        ,  4.61818158],\n",
       "       [ 1.60167589,  3.20335207,  6.80422258],\n",
       "       [ 3.20335207,  1.60167589,  6.31203127],\n",
       "       [ 1.60167589,  3.20335207, 10.68411562],\n",
       "       [ 3.20335207,  1.60167589,  2.43213823],\n",
       "       [ 3.20335207,  1.60167603,  8.99026516],\n",
       "       [ 1.60167589,  3.20335178,  4.1259887 ],\n",
       "       [ 3.20335207,  1.60167603, 12.8701582 ],\n",
       "       [ 1.60167589,  3.20335178,  0.24609565],\n",
       "       [ 0.        ,  0.        , 11.17630772],\n",
       "       [ 0.        ,  0.        ,  1.93994613],\n",
       "       [ 1.47104007,  0.        ,  3.27906346],\n",
       "       [ 3.33398775,  0.        ,  9.83719039],\n",
       "       [ 3.20335207,  0.13063589,  1.09302099],\n",
       "       [ 1.60167589,  4.674392  , 12.02323297],\n",
       "       [ 0.        ,  1.47104007,  3.27906346],\n",
       "       [ 0.        ,  3.33398775,  9.83719039],\n",
       "       [ 3.33398775,  3.33398775,  3.27906346],\n",
       "       [ 1.47104022,  1.47104022,  9.83719039],\n",
       "       [ 4.67439228,  3.0727161 ,  1.09302099],\n",
       "       [ 0.13063568,  1.73231186, 12.02323297],\n",
       "       [ 1.73231186,  1.60167603,  1.09302099],\n",
       "       [ 3.0727161 ,  3.20335178, 12.02323297],\n",
       "       [ 4.67439228,  1.60167603,  7.65114781],\n",
       "       [ 0.13063568,  3.20335178,  5.46510604],\n",
       "       [ 1.60167603,  1.732312  ,  5.46510565],\n",
       "       [ 3.20335178,  3.07271582,  7.6511486 ],\n",
       "       [ 3.20335207,  3.0727161 ,  7.65114781],\n",
       "       [ 1.60167589,  1.73231186,  5.46510604],\n",
       "       [ 1.73231186,  0.13063589,  7.65114781],\n",
       "       [ 3.0727161 ,  4.674392  ,  5.46510604],\n",
       "       [ 3.0727161 ,  4.67439228,  5.46510565],\n",
       "       [ 1.73231186,  0.13063568,  7.6511486 ],\n",
       "       [ 0.13063589,  3.20335207,  5.46510565],\n",
       "       [ 4.674392  ,  1.60167589,  7.6511486 ],\n",
       "       [ 3.0727161 ,  3.20335207, 12.02323374],\n",
       "       [ 1.73231186,  1.60167589,  1.09302011],\n",
       "       [ 0.        ,  3.33398775,  9.83719039],\n",
       "       [ 0.        ,  1.47104022,  3.27906346],\n",
       "       [ 1.60167618,  4.67439228, 12.02323374],\n",
       "       [ 3.20335178,  0.13063568,  1.09302011],\n",
       "       [ 0.1306359 ,  1.732312  , 12.02323374],\n",
       "       [ 4.674392  ,  3.07271582,  1.09302011],\n",
       "       [ 1.47104007,  1.47104007,  9.83719039],\n",
       "       [ 3.33398775,  3.33398775,  3.27906346],\n",
       "       [ 3.33398775,  0.        ,  9.83719039],\n",
       "       [ 1.47104022,  0.        ,  3.27906346]])"
      ]
     },
     "execution_count": 8,
     "metadata": {},
     "output_type": "execute_result"
    }
   ],
   "source": [
    "atoms.positions"
   ]
  },
  {
   "cell_type": "code",
   "execution_count": 9,
   "id": "ce1eb83d-f09d-4e52-9a14-bf98f5a37cb2",
   "metadata": {},
   "outputs": [],
   "source": [
    "unique = np.unique(atoms.positions.round(decimals=3), axis=0)"
   ]
  },
  {
   "cell_type": "code",
   "execution_count": 10,
   "id": "ec3843a0-75ac-4588-bfbb-fc0f0e06aca7",
   "metadata": {},
   "outputs": [
    {
     "data": {
      "text/plain": [
       "30"
      ]
     },
     "execution_count": 10,
     "metadata": {},
     "output_type": "execute_result"
    }
   ],
   "source": [
    "len(unique)"
   ]
  },
  {
   "cell_type": "code",
   "execution_count": 11,
   "id": "c08e9dfd-e7bd-4cfb-a6fd-2a8bd3636a8a",
   "metadata": {},
   "outputs": [],
   "source": [
    "Al = atoms[0:12]"
   ]
  },
  {
   "cell_type": "code",
   "execution_count": 12,
   "id": "1d543efb-6ba7-4184-a7d2-b1c17516439e",
   "metadata": {},
   "outputs": [
    {
     "data": {
      "application/vnd.jupyter.widget-view+json": {
       "model_id": "cbd0ec3df00d4a949f5d68838073edee",
       "version_major": 2,
       "version_minor": 0
      },
      "text/plain": [
       "HBox(children=(NGLWidget(), VBox(children=(Dropdown(description='Show', options=('All', 'Al'), value='All'), D…"
      ]
     },
     "metadata": {},
     "output_type": "display_data"
    }
   ],
   "source": [
    "v = view(Al, viewer='ngl')\n",
    "v"
   ]
  },
  {
   "cell_type": "code",
   "execution_count": 13,
   "id": "72105178-b80c-44c9-9ae2-dc43fbe2a334",
   "metadata": {},
   "outputs": [
    {
     "data": {
      "text/plain": [
       "Atoms(symbols='O18', pbc=True, cell=[4.8050279617, 4.8050279617, 13.1162538528])"
      ]
     },
     "execution_count": 13,
     "metadata": {},
     "output_type": "execute_result"
    }
   ],
   "source": [
    "O = atoms[24:24+18]\n",
    "O"
   ]
  },
  {
   "cell_type": "code",
   "execution_count": 14,
   "id": "ef02bf0d-0c17-4311-b81e-c56bd947fabb",
   "metadata": {},
   "outputs": [
    {
     "data": {
      "application/vnd.jupyter.widget-view+json": {
       "model_id": "fc4842319e674c68bb57d62c468a879f",
       "version_major": 2,
       "version_minor": 0
      },
      "text/plain": [
       "HBox(children=(NGLWidget(), VBox(children=(Dropdown(description='Show', options=('All', 'O'), value='All'), Dr…"
      ]
     },
     "metadata": {},
     "output_type": "display_data"
    }
   ],
   "source": [
    "v = view(O, viewer='ngl')\n",
    "v"
   ]
  },
  {
   "cell_type": "code",
   "execution_count": 15,
   "id": "424d0b83-dcb0-4a59-9bbd-d5512b6a143f",
   "metadata": {},
   "outputs": [
    {
     "data": {
      "text/plain": [
       "Atoms(symbols='Al12O18', pbc=True, cell=[4.8050279617, 4.8050279617, 13.1162538528])"
      ]
     },
     "execution_count": 15,
     "metadata": {},
     "output_type": "execute_result"
    }
   ],
   "source": [
    "combined = Al + O\n",
    "combined"
   ]
  },
  {
   "cell_type": "code",
   "execution_count": 16,
   "id": "50baf1bd-94eb-45b4-8a13-7544765d2554",
   "metadata": {},
   "outputs": [],
   "source": [
    "lammpsdata.write_lammps_data(\"Al2O3_small.data\", combined)"
   ]
  },
  {
   "cell_type": "code",
   "execution_count": 17,
   "id": "8c384aa4-a9ff-4e34-bd16-f4b05135152c",
   "metadata": {},
   "outputs": [
    {
     "data": {
      "text/plain": [
       "Cell([4.8050279617, 4.8050279617, 13.1162538528])"
      ]
     },
     "execution_count": 17,
     "metadata": {},
     "output_type": "execute_result"
    }
   ],
   "source": [
    "cell = combined.cell\n",
    "cell"
   ]
  },
  {
   "cell_type": "code",
   "execution_count": 18,
   "id": "a137f568-3f07-4768-a8f8-a76312eb16d6",
   "metadata": {},
   "outputs": [
    {
     "name": "stdout",
     "output_type": "stream",
     "text": [
      "20.81153341813653\n"
     ]
    },
    {
     "data": {
      "text/plain": [
       "21"
      ]
     },
     "execution_count": 18,
     "metadata": {},
     "output_type": "execute_result"
    }
   ],
   "source": [
    "a = cell[0][0]\n",
    "target_a = 100\n",
    "scalfac_a = target_a/a\n",
    "print(scalfac_a)\n",
    "round(scalfac_a)"
   ]
  },
  {
   "cell_type": "code",
   "execution_count": 19,
   "id": "5e9124a9-0979-44b7-b991-1ba933785a03",
   "metadata": {},
   "outputs": [
    {
     "name": "stdout",
     "output_type": "stream",
     "text": [
      "20.81153341813653\n"
     ]
    },
    {
     "data": {
      "text/plain": [
       "21"
      ]
     },
     "execution_count": 19,
     "metadata": {},
     "output_type": "execute_result"
    }
   ],
   "source": [
    "b = cell[1][1]\n",
    "target_b = 100\n",
    "scalfac_b = target_b/b\n",
    "print(scalfac_b)\n",
    "round(scalfac_b)"
   ]
  },
  {
   "cell_type": "code",
   "execution_count": 20,
   "id": "efd6be2d-c4b0-42af-a8f7-767c2d779ed5",
   "metadata": {},
   "outputs": [
    {
     "name": "stdout",
     "output_type": "stream",
     "text": [
      "2.1347558772677067\n"
     ]
    },
    {
     "data": {
      "text/plain": [
       "2"
      ]
     },
     "execution_count": 20,
     "metadata": {},
     "output_type": "execute_result"
    }
   ],
   "source": [
    "c = cell[2][2]\n",
    "target_c = 28\n",
    "scalfac_c = target_c/c\n",
    "print(scalfac_c)\n",
    "round(scalfac_c)"
   ]
  },
  {
   "cell_type": "code",
   "execution_count": 21,
   "id": "8a51f97e-c8c5-4352-af99-6c402a91db82",
   "metadata": {},
   "outputs": [
    {
     "data": {
      "text/plain": [
       "array([[21.,  0.,  0.],\n",
       "       [ 0., 21.,  0.],\n",
       "       [ 0.,  0.,  2.]])"
      ]
     },
     "execution_count": 21,
     "metadata": {},
     "output_type": "execute_result"
    }
   ],
   "source": [
    "Tmatrix = np.eye(3)\n",
    "Tmatrix[0,0] = round(scalfac_a)\n",
    "Tmatrix[1,1] = round(scalfac_b)\n",
    "Tmatrix[2,2] = round(scalfac_c)\n",
    "Tmatrix"
   ]
  },
  {
   "cell_type": "code",
   "execution_count": 22,
   "id": "39221a1f-d6cb-408a-b8ea-258896bbdefd",
   "metadata": {},
   "outputs": [],
   "source": [
    "supercell = ase.build.make_supercell(combined, Tmatrix)"
   ]
  },
  {
   "cell_type": "code",
   "execution_count": 23,
   "id": "800c29dd-ddd8-438c-a5cc-86b6c00f0d3b",
   "metadata": {},
   "outputs": [
    {
     "data": {
      "application/vnd.jupyter.widget-view+json": {
       "model_id": "6f50ff83437746cf8c898aeff015d531",
       "version_major": 2,
       "version_minor": 0
      },
      "text/plain": [
       "HBox(children=(NGLWidget(), VBox(children=(Dropdown(description='Show', options=('All', 'O', 'Al'), value='All…"
      ]
     },
     "metadata": {},
     "output_type": "display_data"
    }
   ],
   "source": [
    "v = view(supercell, viewer='ngl')\n",
    "v"
   ]
  },
  {
   "cell_type": "code",
   "execution_count": 24,
   "id": "e41f22fd-361e-4db2-90ff-e0b6e37f1510",
   "metadata": {},
   "outputs": [],
   "source": [
    "lammpsdata.write_lammps_data(\"Al2O3_supercell.data\", supercell)"
   ]
  },
  {
   "cell_type": "code",
   "execution_count": 25,
   "id": "90bd33cd-469a-4d57-aec0-ce50dbbd1797",
   "metadata": {},
   "outputs": [],
   "source": [
    "second_slab = supercell.copy()"
   ]
  },
  {
   "cell_type": "code",
   "execution_count": 26,
   "id": "01e562ad-bd92-418d-85dc-b295c9cf213a",
   "metadata": {},
   "outputs": [],
   "source": [
    "trans = np.zeros_like(supercell.positions)\n",
    "trans[:,2] += (20 + supercell.cell[2][2])"
   ]
  },
  {
   "cell_type": "code",
   "execution_count": 27,
   "id": "b94b9fff-42c5-472b-9129-79e1d135e7c3",
   "metadata": {},
   "outputs": [],
   "source": [
    "second_slab.set_positions(second_slab.positions + trans)"
   ]
  },
  {
   "cell_type": "code",
   "execution_count": 28,
   "id": "2f9a0d6e-5a96-442f-808b-953b2a9af1a3",
   "metadata": {},
   "outputs": [],
   "source": [
    "combined_slabs = supercell + second_slab"
   ]
  },
  {
   "cell_type": "code",
   "execution_count": 29,
   "id": "d2f016de-2818-47be-a058-b2be02292fa3",
   "metadata": {},
   "outputs": [],
   "source": [
    "combined_slabs.cell[2][2] += (20 +supercell.cell[2][2])"
   ]
  },
  {
   "cell_type": "code",
   "execution_count": 30,
   "id": "4b48ce57-3d06-43e3-b82f-d151ecc99bbd",
   "metadata": {},
   "outputs": [
    {
     "data": {
      "application/vnd.jupyter.widget-view+json": {
       "model_id": "258fc59cc4464857a0d23919032d63ee",
       "version_major": 2,
       "version_minor": 0
      },
      "text/plain": [
       "HBox(children=(NGLWidget(), VBox(children=(Dropdown(description='Show', options=('All', 'O', 'Al'), value='All…"
      ]
     },
     "metadata": {},
     "output_type": "display_data"
    }
   ],
   "source": [
    "v = view(combined_slabs, viewer='ngl')\n",
    "v"
   ]
  },
  {
   "cell_type": "code",
   "execution_count": 31,
   "id": "f6a1a300-6c02-480b-965f-9bec8b625724",
   "metadata": {},
   "outputs": [],
   "source": [
    "lammpsdata.write_lammps_data(\"combined_cells.data\", combined_slabs)"
   ]
  },
  {
   "cell_type": "code",
   "execution_count": 32,
   "id": "6b566640-190b-4901-95ef-4d745ed70e64",
   "metadata": {},
   "outputs": [],
   "source": [
    "from ase.build import bulk"
   ]
  },
  {
   "cell_type": "code",
   "execution_count": 33,
   "id": "7069be5a-7e6e-4507-b1c7-f0fc8313f6da",
   "metadata": {},
   "outputs": [
    {
     "data": {
      "text/plain": [
       "Cell([2.4946727240261395, 2.4946727240261395, 3.528])"
      ]
     },
     "execution_count": 33,
     "metadata": {},
     "output_type": "execute_result"
    }
   ],
   "source": [
    "NiBulk = bulk('Ni', 'fcc', a=3.528, orthorhombic=True)\n",
    "NiBulk.cell"
   ]
  },
  {
   "cell_type": "code",
   "execution_count": 34,
   "id": "736279c7-0708-4535-a922-a90e75c8ac33",
   "metadata": {},
   "outputs": [
    {
     "data": {
      "application/vnd.jupyter.widget-view+json": {
       "model_id": "178fa288c892408391a94c3fafc56daf",
       "version_major": 2,
       "version_minor": 0
      },
      "text/plain": [
       "HBox(children=(NGLWidget(), VBox(children=(Dropdown(description='Show', options=('All', 'Ni'), value='All'), D…"
      ]
     },
     "metadata": {},
     "output_type": "display_data"
    }
   ],
   "source": [
    "v = view(NiBulk, viewer='ngl')\n",
    "v"
   ]
  },
  {
   "cell_type": "code",
   "execution_count": 35,
   "id": "3eb3fae3-53b1-4e24-8ec2-127e4635f978",
   "metadata": {},
   "outputs": [],
   "source": [
    "nisalb = ase.build.fcc100(\"Ni\", (40,40, 10), a=3.528, vacuum=None, orthogonal=True, periodic=True)"
   ]
  },
  {
   "cell_type": "code",
   "execution_count": 36,
   "id": "1195d45e-5b21-421c-a3ed-3973377738b9",
   "metadata": {},
   "outputs": [
    {
     "data": {
      "text/plain": [
       "Cell([99.7869089610456, 99.7869089610456, 17.64])"
      ]
     },
     "execution_count": 36,
     "metadata": {},
     "output_type": "execute_result"
    }
   ],
   "source": [
    "nisalb.cell"
   ]
  },
  {
   "cell_type": "code",
   "execution_count": 37,
   "id": "3cea861f-02d4-42a1-9848-98cde3148fec",
   "metadata": {},
   "outputs": [
    {
     "data": {
      "text/plain": [
       "40.93589337480271"
      ]
     },
     "execution_count": 37,
     "metadata": {},
     "output_type": "execute_result"
    }
   ],
   "source": [
    "101/2.467272402614"
   ]
  },
  {
   "cell_type": "code",
   "execution_count": 38,
   "id": "6d317242-a67b-4b21-a089-9ffe5aa9361f",
   "metadata": {},
   "outputs": [
    {
     "data": {
      "application/vnd.jupyter.widget-view+json": {
       "model_id": "746fc9a961fd46cb9b51fef4a93bf4ab",
       "version_major": 2,
       "version_minor": 0
      },
      "text/plain": [
       "HBox(children=(NGLWidget(), VBox(children=(Dropdown(description='Show', options=('All', 'Ni'), value='All'), D…"
      ]
     },
     "metadata": {},
     "output_type": "display_data"
    }
   ],
   "source": [
    "v = view(nisalb, viewer='ngl')\n",
    "v"
   ]
  },
  {
   "cell_type": "code",
   "execution_count": 39,
   "id": "57c5a9a1-796e-4a80-b15f-c38ae8ed14ce",
   "metadata": {},
   "outputs": [],
   "source": [
    "combined = ase.build.stack(combined_slabs, nisalb, maxstrain=None)"
   ]
  },
  {
   "cell_type": "code",
   "execution_count": 40,
   "id": "fd391b5f-765c-461f-9d58-c624da833a8a",
   "metadata": {},
   "outputs": [
    {
     "data": {
      "application/vnd.jupyter.widget-view+json": {
       "model_id": "a058507a6abe461aa3e68e3d7011e4fa",
       "version_major": 2,
       "version_minor": 0
      },
      "text/plain": [
       "HBox(children=(NGLWidget(), VBox(children=(Dropdown(description='Show', options=('All', 'O', 'Al', 'Ni'), valu…"
      ]
     },
     "metadata": {},
     "output_type": "display_data"
    }
   ],
   "source": [
    "v = view(combined, viewer='ngl')\n",
    "v"
   ]
  },
  {
   "cell_type": "code",
   "execution_count": 41,
   "id": "8d7957b4-11af-4015-9db8-8ef31cca819f",
   "metadata": {},
   "outputs": [],
   "source": [
    "lammpsdata.write_lammps_data(\"combined.data\", combined)"
   ]
  },
  {
   "cell_type": "code",
   "execution_count": null,
   "id": "16cd3ad8-93d1-498b-a477-a5357637b822",
   "metadata": {},
   "outputs": [],
   "source": []
  }
 ],
 "metadata": {
  "kernelspec": {
   "display_name": "Python 3 (ipykernel)",
   "language": "python",
   "name": "python3"
  },
  "language_info": {
   "codemirror_mode": {
    "name": "ipython",
    "version": 3
   },
   "file_extension": ".py",
   "mimetype": "text/x-python",
   "name": "python",
   "nbconvert_exporter": "python",
   "pygments_lexer": "ipython3",
   "version": "3.9.12"
  }
 },
 "nbformat": 4,
 "nbformat_minor": 5
}

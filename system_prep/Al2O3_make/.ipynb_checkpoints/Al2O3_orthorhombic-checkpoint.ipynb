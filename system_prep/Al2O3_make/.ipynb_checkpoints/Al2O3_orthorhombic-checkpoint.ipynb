{
 "cells": [
  {
   "cell_type": "code",
   "execution_count": 18,
   "id": "74bc23c8-3b39-4ad7-b8f0-88109c5bc5b0",
   "metadata": {},
   "outputs": [],
   "source": [
    "\n",
    "import ase\n",
    "import numpy as np\n",
    "from ase.visualize import view\n",
    "from ase.io import read, write\n",
    "from ase.io import cif, vasp, lammpsdata\n",
    "from ase.build import make_supercell, sort, add_adsorbate, add_vacuum\n",
    "import nglview"
   ]
  },
  {
   "cell_type": "code",
   "execution_count": 75,
   "id": "45bc7b7e-5c95-41c2-82bc-7c90275fcf4e",
   "metadata": {},
   "outputs": [
    {
     "data": {
      "text/plain": [
       "60"
      ]
     },
     "execution_count": 75,
     "metadata": {},
     "output_type": "execute_result"
    }
   ],
   "source": [
    "atoms = vasp.read_vasp('orthorhombic.POSCAR.vasp')\n",
    "len(atoms)"
   ]
  },
  {
   "cell_type": "code",
   "execution_count": 5,
   "id": "f20cbf67-1529-442d-85f2-cb5879791064",
   "metadata": {},
   "outputs": [
    {
     "data": {
      "application/vnd.jupyter.widget-view+json": {
       "model_id": "5dbf4de36d6148aab367f74644d1ba96",
       "version_major": 2,
       "version_minor": 0
      },
      "text/plain": [
       "HBox(children=(NGLWidget(), VBox(children=(Dropdown(description='Show', options=('All', 'O', 'Al'), value='All…"
      ]
     },
     "metadata": {},
     "output_type": "display_data"
    }
   ],
   "source": [
    "v = view(atoms, viewer='ngl')\n",
    "v"
   ]
  },
  {
   "cell_type": "code",
   "execution_count": 9,
   "id": "e8ede418-19af-4463-9b68-ec80e4627415",
   "metadata": {},
   "outputs": [
    {
     "data": {
      "text/plain": [
       "Cell([4.8050279617, 4.8050279617, 13.1162538528])"
      ]
     },
     "execution_count": 9,
     "metadata": {},
     "output_type": "execute_result"
    }
   ],
   "source": [
    "atoms.cell"
   ]
  },
  {
   "cell_type": "code",
   "execution_count": 12,
   "id": "d81c5cc0-b75e-4382-b063-9b2960ee39b2",
   "metadata": {},
   "outputs": [
    {
     "data": {
      "text/plain": [
       "4.8050279617"
      ]
     },
     "execution_count": 12,
     "metadata": {},
     "output_type": "execute_result"
    }
   ],
   "source": [
    "a = atoms.cell[0][0]\n",
    "a"
   ]
  },
  {
   "cell_type": "code",
   "execution_count": 14,
   "id": "6095ead5-f89e-4934-b0eb-bc62a9eb094e",
   "metadata": {},
   "outputs": [
    {
     "data": {
      "text/plain": [
       "4.8050279617"
      ]
     },
     "execution_count": 14,
     "metadata": {},
     "output_type": "execute_result"
    }
   ],
   "source": [
    "b = atoms.cell[1][1]\n",
    "b"
   ]
  },
  {
   "cell_type": "code",
   "execution_count": 16,
   "id": "667d13b3-6d10-419c-a580-dd738df31786",
   "metadata": {},
   "outputs": [
    {
     "data": {
      "text/plain": [
       "13.1162538528"
      ]
     },
     "execution_count": 16,
     "metadata": {},
     "output_type": "execute_result"
    }
   ],
   "source": [
    "c = atoms.cell[2][2]\n",
    "c"
   ]
  },
  {
   "cell_type": "code",
   "execution_count": 85,
   "id": "ed1ac779-3d75-4ffb-9fc0-31cc4aec1d2c",
   "metadata": {},
   "outputs": [
    {
     "data": {
      "text/plain": [
       "array([[ 0.        ,  0.        ,  1.93994633],\n",
       "       [ 0.        ,  0.        , 11.17630772],\n",
       "       [ 1.60167589,  3.20335207,  0.24609594],\n",
       "       [ 3.20335207,  1.60167589, 12.8701582 ],\n",
       "       [ 1.60167589,  3.20335207,  4.12598832],\n",
       "       [ 3.20335207,  1.60167589,  8.99026516],\n",
       "       [ 3.20335207,  1.60167603,  2.43213823],\n",
       "       [ 1.60167589,  3.20335178, 10.68411562],\n",
       "       [ 3.20335207,  1.60167603,  6.31203088],\n",
       "       [ 1.60167589,  3.20335178,  6.80422337],\n",
       "       [ 0.        ,  0.        ,  4.6181804 ],\n",
       "       [ 0.        ,  0.        ,  8.49807383],\n",
       "       [ 0.        ,  0.        ,  8.49807227],\n",
       "       [ 0.        ,  0.        ,  4.61818158],\n",
       "       [ 1.60167589,  3.20335207,  6.80422258],\n",
       "       [ 3.20335207,  1.60167589,  6.31203127],\n",
       "       [ 1.60167589,  3.20335207, 10.68411562],\n",
       "       [ 3.20335207,  1.60167589,  2.43213823],\n",
       "       [ 3.20335207,  1.60167603,  8.99026516],\n",
       "       [ 1.60167589,  3.20335178,  4.1259887 ],\n",
       "       [ 3.20335207,  1.60167603, 12.8701582 ],\n",
       "       [ 1.60167589,  3.20335178,  0.24609565],\n",
       "       [ 0.        ,  0.        , 11.17630772],\n",
       "       [ 0.        ,  0.        ,  1.93994613],\n",
       "       [ 1.47104007,  0.        ,  3.27906346],\n",
       "       [ 3.33398775,  0.        ,  9.83719039],\n",
       "       [ 3.20335207,  0.13063589,  1.09302099],\n",
       "       [ 1.60167589,  4.674392  , 12.02323297],\n",
       "       [ 0.        ,  1.47104007,  3.27906346],\n",
       "       [ 0.        ,  3.33398775,  9.83719039],\n",
       "       [ 3.33398775,  3.33398775,  3.27906346],\n",
       "       [ 1.47104022,  1.47104022,  9.83719039],\n",
       "       [ 4.67439228,  3.0727161 ,  1.09302099],\n",
       "       [ 0.13063568,  1.73231186, 12.02323297],\n",
       "       [ 1.73231186,  1.60167603,  1.09302099],\n",
       "       [ 3.0727161 ,  3.20335178, 12.02323297],\n",
       "       [ 4.67439228,  1.60167603,  7.65114781],\n",
       "       [ 0.13063568,  3.20335178,  5.46510604],\n",
       "       [ 1.60167603,  1.732312  ,  5.46510565],\n",
       "       [ 3.20335178,  3.07271582,  7.6511486 ],\n",
       "       [ 3.20335207,  3.0727161 ,  7.65114781],\n",
       "       [ 1.60167589,  1.73231186,  5.46510604],\n",
       "       [ 1.73231186,  0.13063589,  7.65114781],\n",
       "       [ 3.0727161 ,  4.674392  ,  5.46510604],\n",
       "       [ 3.0727161 ,  4.67439228,  5.46510565],\n",
       "       [ 1.73231186,  0.13063568,  7.6511486 ],\n",
       "       [ 0.13063589,  3.20335207,  5.46510565],\n",
       "       [ 4.674392  ,  1.60167589,  7.6511486 ],\n",
       "       [ 3.0727161 ,  3.20335207, 12.02323374],\n",
       "       [ 1.73231186,  1.60167589,  1.09302011],\n",
       "       [ 0.        ,  3.33398775,  9.83719039],\n",
       "       [ 0.        ,  1.47104022,  3.27906346],\n",
       "       [ 1.60167618,  4.67439228, 12.02323374],\n",
       "       [ 3.20335178,  0.13063568,  1.09302011],\n",
       "       [ 0.1306359 ,  1.732312  , 12.02323374],\n",
       "       [ 4.674392  ,  3.07271582,  1.09302011],\n",
       "       [ 1.47104007,  1.47104007,  9.83719039],\n",
       "       [ 3.33398775,  3.33398775,  3.27906346],\n",
       "       [ 3.33398775,  0.        ,  9.83719039],\n",
       "       [ 1.47104022,  0.        ,  3.27906346]])"
      ]
     },
     "execution_count": 85,
     "metadata": {},
     "output_type": "execute_result"
    }
   ],
   "source": [
    "atoms.positions"
   ]
  },
  {
   "cell_type": "code",
   "execution_count": 82,
   "id": "ce1eb83d-f09d-4e52-9a14-bf98f5a37cb2",
   "metadata": {},
   "outputs": [],
   "source": [
    "unique = np.unique(atoms.positions.round(decimals=3), axis=0)"
   ]
  },
  {
   "cell_type": "code",
   "execution_count": 84,
   "id": "ec3843a0-75ac-4588-bfbb-fc0f0e06aca7",
   "metadata": {},
   "outputs": [
    {
     "data": {
      "text/plain": [
       "30"
      ]
     },
     "execution_count": 84,
     "metadata": {},
     "output_type": "execute_result"
    }
   ],
   "source": [
    "len(unique)"
   ]
  },
  {
   "cell_type": "code",
   "execution_count": 88,
   "id": "c08e9dfd-e7bd-4cfb-a6fd-2a8bd3636a8a",
   "metadata": {},
   "outputs": [],
   "source": [
    "Al = atoms[0:12]"
   ]
  },
  {
   "cell_type": "code",
   "execution_count": 89,
   "id": "1d543efb-6ba7-4184-a7d2-b1c17516439e",
   "metadata": {},
   "outputs": [
    {
     "data": {
      "application/vnd.jupyter.widget-view+json": {
       "model_id": "6224cc3b96ef4f9b8cd0ba3b0f4513bd",
       "version_major": 2,
       "version_minor": 0
      },
      "text/plain": [
       "HBox(children=(NGLWidget(), VBox(children=(Dropdown(description='Show', options=('All', 'Al'), value='All'), D…"
      ]
     },
     "metadata": {},
     "output_type": "display_data"
    }
   ],
   "source": [
    "v = view(Al, viewer='ngl')\n",
    "v"
   ]
  },
  {
   "cell_type": "code",
   "execution_count": 91,
   "id": "72105178-b80c-44c9-9ae2-dc43fbe2a334",
   "metadata": {},
   "outputs": [
    {
     "data": {
      "text/plain": [
       "Atoms(symbols='O18', pbc=True, cell=[4.8050279617, 4.8050279617, 13.1162538528])"
      ]
     },
     "execution_count": 91,
     "metadata": {},
     "output_type": "execute_result"
    }
   ],
   "source": [
    "O = atoms[24:24+18]\n",
    "O"
   ]
  },
  {
   "cell_type": "code",
   "execution_count": 92,
   "id": "ef02bf0d-0c17-4311-b81e-c56bd947fabb",
   "metadata": {},
   "outputs": [
    {
     "data": {
      "application/vnd.jupyter.widget-view+json": {
       "model_id": "69a7bd7f0e3547b99eaeac217f98866e",
       "version_major": 2,
       "version_minor": 0
      },
      "text/plain": [
       "HBox(children=(NGLWidget(), VBox(children=(Dropdown(description='Show', options=('All', 'O'), value='All'), Dr…"
      ]
     },
     "metadata": {},
     "output_type": "display_data"
    }
   ],
   "source": [
    "v = view(O, viewer='ngl')\n",
    "v"
   ]
  },
  {
   "cell_type": "code",
   "execution_count": 95,
   "id": "424d0b83-dcb0-4a59-9bbd-d5512b6a143f",
   "metadata": {},
   "outputs": [
    {
     "data": {
      "text/plain": [
       "Atoms(symbols='Al12O18', pbc=True, cell=[4.8050279617, 4.8050279617, 13.1162538528])"
      ]
     },
     "execution_count": 95,
     "metadata": {},
     "output_type": "execute_result"
    }
   ],
   "source": [
    "combined = Al + O\n",
    "combined"
   ]
  },
  {
   "cell_type": "code",
   "execution_count": 96,
   "id": "50baf1bd-94eb-45b4-8a13-7544765d2554",
   "metadata": {},
   "outputs": [],
   "source": [
    "lammpsdata.write_lammps_data(\"Al2O3_small.data\", combined)"
   ]
  },
  {
   "cell_type": "code",
   "execution_count": 100,
   "id": "8c384aa4-a9ff-4e34-bd16-f4b05135152c",
   "metadata": {},
   "outputs": [
    {
     "data": {
      "text/plain": [
       "Cell([4.8050279617, 4.8050279617, 13.1162538528])"
      ]
     },
     "execution_count": 100,
     "metadata": {},
     "output_type": "execute_result"
    }
   ],
   "source": [
    "cell = combined.cell\n",
    "cell"
   ]
  },
  {
   "cell_type": "code",
   "execution_count": 109,
   "id": "a137f568-3f07-4768-a8f8-a76312eb16d6",
   "metadata": {},
   "outputs": [
    {
     "name": "stdout",
     "output_type": "stream",
     "text": [
      "20.81153341813653\n"
     ]
    },
    {
     "data": {
      "text/plain": [
       "21"
      ]
     },
     "execution_count": 109,
     "metadata": {},
     "output_type": "execute_result"
    }
   ],
   "source": [
    "a = cell[0][0]\n",
    "target_a = 100\n",
    "scalfac_a = target_a/a\n",
    "print(scalfac_a)\n",
    "round(scalfac_a)"
   ]
  },
  {
   "cell_type": "code",
   "execution_count": 106,
   "id": "5e9124a9-0979-44b7-b991-1ba933785a03",
   "metadata": {},
   "outputs": [
    {
     "data": {
      "text/plain": [
       "21"
      ]
     },
     "execution_count": 106,
     "metadata": {},
     "output_type": "execute_result"
    }
   ],
   "source": [
    "b = cell[1][1]\n",
    "target_b = 100\n",
    "scalfac_b = target_b/b\n",
    "print(scalfac_b)\n",
    "round(scalfac_b)"
   ]
  },
  {
   "cell_type": "code",
   "execution_count": 108,
   "id": "efd6be2d-c4b0-42af-a8f7-767c2d779ed5",
   "metadata": {},
   "outputs": [
    {
     "name": "stdout",
     "output_type": "stream",
     "text": [
      "2.1347558772677067\n"
     ]
    },
    {
     "data": {
      "text/plain": [
       "2"
      ]
     },
     "execution_count": 108,
     "metadata": {},
     "output_type": "execute_result"
    }
   ],
   "source": [
    "c = cell[2][2]\n",
    "target_c = 28\n",
    "scalfac_c = target_c/c\n",
    "print(scalfac_c)\n",
    "round(scalfac_c)"
   ]
  },
  {
   "cell_type": "code",
   "execution_count": 113,
   "id": "8a51f97e-c8c5-4352-af99-6c402a91db82",
   "metadata": {},
   "outputs": [
    {
     "data": {
      "text/plain": [
       "array([[21.,  0.,  0.],\n",
       "       [ 0., 21.,  0.],\n",
       "       [ 0.,  0.,  2.]])"
      ]
     },
     "execution_count": 113,
     "metadata": {},
     "output_type": "execute_result"
    }
   ],
   "source": [
    "Tmatrix = np.eye(3)\n",
    "Tmatrix[0,0] = round(scalfac_a)\n",
    "Tmatrix[1,1] = round(scalfac_b)\n",
    "Tmatrix[2,2] = round(scalfac_c)\n",
    "Tmatrix"
   ]
  },
  {
   "cell_type": "code",
   "execution_count": 116,
   "id": "39221a1f-d6cb-408a-b8ea-258896bbdefd",
   "metadata": {},
   "outputs": [],
   "source": [
    "supercell = ase.build.make_supercell(combined, Tmatrix)"
   ]
  },
  {
   "cell_type": "code",
   "execution_count": 118,
   "id": "800c29dd-ddd8-438c-a5cc-86b6c00f0d3b",
   "metadata": {},
   "outputs": [
    {
     "data": {
      "application/vnd.jupyter.widget-view+json": {
       "model_id": "1e032264f420416eb31062869e5cd747",
       "version_major": 2,
       "version_minor": 0
      },
      "text/plain": [
       "HBox(children=(NGLWidget(), VBox(children=(Dropdown(description='Show', options=('All', 'O', 'Al'), value='All…"
      ]
     },
     "metadata": {},
     "output_type": "display_data"
    }
   ],
   "source": [
    "v = view(supercell, viewer='ngl')\n",
    "v"
   ]
  },
  {
   "cell_type": "code",
   "execution_count": 119,
   "id": "e41f22fd-361e-4db2-90ff-e0b6e37f1510",
   "metadata": {},
   "outputs": [],
   "source": [
    "lammpsdata.write_lammps_data(\"Al2O3_supercell.data\", supercell)"
   ]
  },
  {
   "cell_type": "code",
   "execution_count": null,
   "id": "90bd33cd-469a-4d57-aec0-ce50dbbd1797",
   "metadata": {},
   "outputs": [],
   "source": []
  }
 ],
 "metadata": {
  "kernelspec": {
   "display_name": "Python 3 (ipykernel)",
   "language": "python",
   "name": "python3"
  },
  "language_info": {
   "codemirror_mode": {
    "name": "ipython",
    "version": 3
   },
   "file_extension": ".py",
   "mimetype": "text/x-python",
   "name": "python",
   "nbconvert_exporter": "python",
   "pygments_lexer": "ipython3",
   "version": "3.9.12"
  }
 },
 "nbformat": 4,
 "nbformat_minor": 5
}

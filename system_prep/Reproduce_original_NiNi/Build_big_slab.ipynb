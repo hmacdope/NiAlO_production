{
 "cells": [
  {
   "cell_type": "code",
   "execution_count": 31,
   "id": "74bc23c8-3b39-4ad7-b8f0-88109c5bc5b0",
   "metadata": {},
   "outputs": [],
   "source": [
    "\n",
    "import ase\n",
    "import numpy as np\n",
    "from ase.visualize import view\n",
    "from ase.io import read, write\n",
    "from ase.io import cif, vasp, lammpsdata\n",
    "from ase.build import make_supercell, sort, add_adsorbate, add_vacuum\n",
    "from ase.build import bulk\n",
    "import nglview"
   ]
  },
  {
   "cell_type": "code",
   "execution_count": 32,
   "id": "90bd33cd-469a-4d57-aec0-ce50dbbd1797",
   "metadata": {},
   "outputs": [],
   "source": [
    "#second_slab = supercell.copy()"
   ]
  },
  {
   "cell_type": "code",
   "execution_count": 33,
   "id": "01e562ad-bd92-418d-85dc-b295c9cf213a",
   "metadata": {},
   "outputs": [],
   "source": [
    "#trans = np.zeros_like(supercell.positions)\n",
    "#trans[:,2] += (20 + supercell.cell[2][2])"
   ]
  },
  {
   "cell_type": "code",
   "execution_count": 34,
   "id": "b94b9fff-42c5-472b-9129-79e1d135e7c3",
   "metadata": {},
   "outputs": [],
   "source": [
    "#second_slab.set_positions(second_slab.positions + trans)"
   ]
  },
  {
   "cell_type": "code",
   "execution_count": 35,
   "id": "2f9a0d6e-5a96-442f-808b-953b2a9af1a3",
   "metadata": {},
   "outputs": [],
   "source": [
    "#combined_slabs = supercell + second_slab"
   ]
  },
  {
   "cell_type": "code",
   "execution_count": 36,
   "id": "d2f016de-2818-47be-a058-b2be02292fa3",
   "metadata": {},
   "outputs": [],
   "source": [
    "#combined_slabs.cell[2][2] += (20 +supercell.cell[2][2])"
   ]
  },
  {
   "cell_type": "code",
   "execution_count": null,
   "id": "6b566640-190b-4901-95ef-4d745ed70e64",
   "metadata": {},
   "outputs": [],
   "source": []
  },
  {
   "cell_type": "code",
   "execution_count": 37,
   "id": "7069be5a-7e6e-4507-b1c7-f0fc8313f6da",
   "metadata": {},
   "outputs": [
    {
     "data": {
      "text/plain": [
       "Cell([2.4946727240261395, 2.4946727240261395, 3.528])"
      ]
     },
     "execution_count": 37,
     "metadata": {},
     "output_type": "execute_result"
    }
   ],
   "source": [
    "NiPrimitive = bulk('Ni', 'fcc', a=3.528, orthorhombic=True)\n",
    "NiPrimitive.cell"
   ]
  },
  {
   "cell_type": "code",
   "execution_count": 38,
   "id": "1909318c-3dfe-4052-92ac-9e9fb1989cf2",
   "metadata": {},
   "outputs": [],
   "source": [
    "NiPrimitive_a_b = NiPrimitive.cell[0][0]\n",
    "NiPrimitive_c = NiPrimitive.cell[2][2]"
   ]
  },
  {
   "cell_type": "code",
   "execution_count": 39,
   "id": "736279c7-0708-4535-a922-a90e75c8ac33",
   "metadata": {},
   "outputs": [
    {
     "data": {
      "application/vnd.jupyter.widget-view+json": {
       "model_id": "53e3f79efd3943d6809e711d3be5fb0a",
       "version_major": 2,
       "version_minor": 0
      },
      "text/plain": [
       "HBox(children=(NGLWidget(), VBox(children=(Dropdown(description='Show', options=('All', 'Ni'), value='All'), D…"
      ]
     },
     "metadata": {},
     "output_type": "display_data"
    }
   ],
   "source": [
    "v = view(NiPrimitive, viewer='ngl')\n",
    "v"
   ]
  },
  {
   "cell_type": "code",
   "execution_count": 40,
   "id": "3cea861f-02d4-42a1-9848-98cde3148fec",
   "metadata": {},
   "outputs": [
    {
     "data": {
      "text/plain": [
       "41"
      ]
     },
     "execution_count": 40,
     "metadata": {},
     "output_type": "execute_result"
    }
   ],
   "source": [
    "target_height  = 101.8\n",
    "repeats_ni_a_b =  round(target_height/NiPrimitive_a_b)\n",
    "repeats_ni_a_b"
   ]
  },
  {
   "cell_type": "code",
   "execution_count": 41,
   "id": "73aa8106-e51a-4832-a8b3-eedb5d306d71",
   "metadata": {},
   "outputs": [
    {
     "data": {
      "text/plain": [
       "32"
      ]
     },
     "execution_count": 41,
     "metadata": {},
     "output_type": "execute_result"
    }
   ],
   "source": [
    "target_width_ni = 56\n",
    "repeats_ni_c = 2*round(target_width_ni/NiPrimitive_c)\n",
    "repeats_ni_c"
   ]
  },
  {
   "cell_type": "code",
   "execution_count": 42,
   "id": "095d3abd-c4aa-43b9-8cb0-f42d198f6103",
   "metadata": {},
   "outputs": [
    {
     "data": {
      "text/plain": [
       "Cell([2.873681958742129, 2.873681958742129, 4.064])"
      ]
     },
     "execution_count": 42,
     "metadata": {},
     "output_type": "execute_result"
    }
   ],
   "source": [
    "AlPrimitive = bulk('Al', 'fcc', a=4.064, orthorhombic=True)\n",
    "AlPrimitive.cell"
   ]
  },
  {
   "cell_type": "code",
   "execution_count": 43,
   "id": "6408fd45-0ee5-4642-893b-4395d8f4f58d",
   "metadata": {},
   "outputs": [],
   "source": [
    "AlPrimitive_a_b = AlPrimitive.cell[0][0]\n",
    "AlPrimitive_c = AlPrimitive.cell[2][2]"
   ]
  },
  {
   "cell_type": "code",
   "execution_count": 44,
   "id": "3989c2df-ddde-448a-afcc-7767af05152f",
   "metadata": {},
   "outputs": [
    {
     "data": {
      "text/plain": [
       "35"
      ]
     },
     "execution_count": 44,
     "metadata": {},
     "output_type": "execute_result"
    }
   ],
   "source": [
    "repeats_al_a_b =  round(target_height/AlPrimitive_a_b)\n",
    "repeats_al_a_b"
   ]
  },
  {
   "cell_type": "code",
   "execution_count": 45,
   "id": "82df71a9-dfd5-401a-8f06-3330ee210aff",
   "metadata": {},
   "outputs": [
    {
     "data": {
      "text/plain": [
       "14"
      ]
     },
     "execution_count": 45,
     "metadata": {},
     "output_type": "execute_result"
    }
   ],
   "source": [
    "target_width_al = 28\n",
    "repeats_al_c = 2*round(target_width_al/AlPrimitive_c)\n",
    "repeats_al_c"
   ]
  },
  {
   "cell_type": "code",
   "execution_count": 46,
   "id": "3eb3fae3-53b1-4e24-8ec2-127e4635f978",
   "metadata": {},
   "outputs": [],
   "source": [
    "nisalb = ase.build.fcc100(\"Ni\", (repeats_ni_a_b, repeats_ni_a_b, repeats_ni_c), a=3.528, vacuum=1.0, orthogonal=True, periodic=True)"
   ]
  },
  {
   "cell_type": "code",
   "execution_count": 47,
   "id": "1195d45e-5b21-421c-a3ed-3973377738b9",
   "metadata": {},
   "outputs": [
    {
     "data": {
      "text/plain": [
       "Cell([102.28158168507174, 102.28158168507174, 56.684])"
      ]
     },
     "execution_count": 47,
     "metadata": {},
     "output_type": "execute_result"
    }
   ],
   "source": [
    "nisalb.cell"
   ]
  },
  {
   "cell_type": "code",
   "execution_count": 51,
   "id": "6d317242-a67b-4b21-a089-9ffe5aa9361f",
   "metadata": {},
   "outputs": [
    {
     "data": {
      "application/vnd.jupyter.widget-view+json": {
       "model_id": "6c7b26a816474a24a8d5511228228f32",
       "version_major": 2,
       "version_minor": 0
      },
      "text/plain": [
       "HBox(children=(NGLWidget(), VBox(children=(Dropdown(description='Show', options=('All', 'Ni'), value='All'), D…"
      ]
     },
     "metadata": {},
     "output_type": "display_data"
    }
   ],
   "source": [
    "v = view(nisalb, viewer='ngl')\n",
    "v"
   ]
  },
  {
   "cell_type": "code",
   "execution_count": 52,
   "id": "ed437abc-d526-4028-869c-1a00ac3fca17",
   "metadata": {},
   "outputs": [],
   "source": [
    "alsalb = ase.build.fcc100(\"Al\", (repeats_al_a_b, repeats_al_a_b, repeats_al_c), a=4.064, vacuum=1.0, orthogonal=True, periodic=True)"
   ]
  },
  {
   "cell_type": "code",
   "execution_count": 53,
   "id": "7914460b-b198-44a4-b810-4ecab49178c3",
   "metadata": {},
   "outputs": [
    {
     "data": {
      "text/plain": [
       "Cell([100.57886855597452, 100.57886855597452, 28.416])"
      ]
     },
     "execution_count": 53,
     "metadata": {},
     "output_type": "execute_result"
    }
   ],
   "source": [
    "alsalb.cell"
   ]
  },
  {
   "cell_type": "code",
   "execution_count": 54,
   "id": "e499b9cb-e3e2-49a4-8264-703f5b835d71",
   "metadata": {},
   "outputs": [
    {
     "data": {
      "application/vnd.jupyter.widget-view+json": {
       "model_id": "266074e4d2db4f4ea3f065e066f59b9f",
       "version_major": 2,
       "version_minor": 0
      },
      "text/plain": [
       "HBox(children=(NGLWidget(), VBox(children=(Dropdown(description='Show', options=('All', 'Al'), value='All'), D…"
      ]
     },
     "metadata": {},
     "output_type": "display_data"
    }
   ],
   "source": [
    "v = view(alsalb, viewer='ngl')\n",
    "v"
   ]
  },
  {
   "cell_type": "code",
   "execution_count": 55,
   "id": "e7d88272-f402-4105-bdb8-29d25440bbe4",
   "metadata": {},
   "outputs": [],
   "source": [
    "nisalb_half  = ase.build.fcc100(\"Ni\", (repeats_ni_a_b, repeats_ni_a_b, repeats_ni_c//2), a=3.528, vacuum=1.0, orthogonal=True, periodic=True)"
   ]
  },
  {
   "cell_type": "code",
   "execution_count": 56,
   "id": "9dde0432-1ec8-43e9-921e-ee47fecba9a4",
   "metadata": {},
   "outputs": [
    {
     "data": {
      "text/plain": [
       "Cell([102.28158168507174, 102.28158168507174, 28.460000000000004])"
      ]
     },
     "execution_count": 56,
     "metadata": {},
     "output_type": "execute_result"
    }
   ],
   "source": [
    "nisalb_half.cell"
   ]
  },
  {
   "cell_type": "code",
   "execution_count": 57,
   "id": "cc29b934-ae9c-48cf-9ff6-b1ddad27b913",
   "metadata": {},
   "outputs": [
    {
     "data": {
      "application/vnd.jupyter.widget-view+json": {
       "model_id": "d163a58285934f90ae2130616985b483",
       "version_major": 2,
       "version_minor": 0
      },
      "text/plain": [
       "HBox(children=(NGLWidget(), VBox(children=(Dropdown(description='Show', options=('All', 'Ni'), value='All'), D…"
      ]
     },
     "metadata": {},
     "output_type": "display_data"
    }
   ],
   "source": [
    "v = view(nisalb_half, viewer='ngl')\n",
    "v"
   ]
  },
  {
   "cell_type": "code",
   "execution_count": 58,
   "id": "01517745-cb20-4053-8cac-d1340c25d454",
   "metadata": {},
   "outputs": [],
   "source": [
    "second_niaslb_half = nisalb_half.copy()"
   ]
  },
  {
   "cell_type": "code",
   "execution_count": 59,
   "id": "bde31cc2-c122-4665-8b1b-a0cd384cb615",
   "metadata": {},
   "outputs": [],
   "source": [
    "trans = np.zeros_like(second_niaslb_half.positions)\n",
    "trans[:,2] += (20 + second_niaslb_half.cell[2][2])\n",
    "second_niaslb_half.set_positions(second_niaslb_half.positions + trans)\n",
    "combined_slabs = second_niaslb_half + nisalb_half\n",
    "combined_slabs.cell[2][2] += (20 +nisalb_half.cell[2][2])"
   ]
  },
  {
   "cell_type": "code",
   "execution_count": 60,
   "id": "c38d4e35-0646-49af-99ce-9b9b9e38967c",
   "metadata": {},
   "outputs": [
    {
     "data": {
      "application/vnd.jupyter.widget-view+json": {
       "model_id": "b21df1010caa4e0baea3a0879464ce95",
       "version_major": 2,
       "version_minor": 0
      },
      "text/plain": [
       "HBox(children=(NGLWidget(), VBox(children=(Dropdown(description='Show', options=('All', 'Ni'), value='All'), D…"
      ]
     },
     "metadata": {},
     "output_type": "display_data"
    }
   ],
   "source": [
    "v = view(combined_slabs, viewer='ngl')\n",
    "v"
   ]
  },
  {
   "cell_type": "code",
   "execution_count": 70,
   "id": "3c719bc5-61f5-4b89-9279-b34716ba8fd7",
   "metadata": {},
   "outputs": [],
   "source": [
    "wafer = ase.build.stack(nisalb,alsalb, maxstrain=None)"
   ]
  },
  {
   "cell_type": "code",
   "execution_count": 71,
   "id": "371e97cb-4e71-4e91-ae37-4a72f4edd180",
   "metadata": {},
   "outputs": [],
   "source": [
    "reverse_wafer = ase.build.stack(alsalb,nisalb, maxstrain=None)"
   ]
  },
  {
   "cell_type": "code",
   "execution_count": 72,
   "id": "af757d49-cbab-492b-a459-bc6fd20b1358",
   "metadata": {
    "tags": []
   },
   "outputs": [
    {
     "data": {
      "application/vnd.jupyter.widget-view+json": {
       "model_id": "98595bac8feb438194e1ec27367eede5",
       "version_major": 2,
       "version_minor": 0
      },
      "text/plain": [
       "HBox(children=(NGLWidget(), VBox(children=(Dropdown(description='Show', options=('All', 'Al', 'Ni'), value='Al…"
      ]
     },
     "metadata": {},
     "output_type": "display_data"
    }
   ],
   "source": [
    "v = view(wafer, viewer='ngl')\n",
    "v"
   ]
  },
  {
   "cell_type": "code",
   "execution_count": 79,
   "id": "c1a9abdb-c7bf-469a-8761-3727e74f4ee8",
   "metadata": {},
   "outputs": [
    {
     "data": {
      "application/vnd.jupyter.widget-view+json": {
       "model_id": "a99ee7f2ed87405f8cd795dbef206e90",
       "version_major": 2,
       "version_minor": 0
      },
      "text/plain": [
       "HBox(children=(NGLWidget(), VBox(children=(Dropdown(description='Show', options=('All', 'Al', 'Ni'), value='Al…"
      ]
     },
     "metadata": {},
     "output_type": "display_data"
    }
   ],
   "source": [
    "v = view(reverse_wafer, viewer='ngl')\n",
    "v"
   ]
  },
  {
   "cell_type": "code",
   "execution_count": 80,
   "id": "fd2ea2a5-9fd6-42e8-aa1b-eb00ba86fa18",
   "metadata": {},
   "outputs": [
    {
     "data": {
      "text/plain": [
       "Cell([101.43022512052313, 101.43022512052313, 85.1])"
      ]
     },
     "execution_count": 80,
     "metadata": {},
     "output_type": "execute_result"
    }
   ],
   "source": [
    "wafer.cell"
   ]
  },
  {
   "cell_type": "code",
   "execution_count": 81,
   "id": "40c48a8f-fef7-48ed-a416-957a26ace9c6",
   "metadata": {},
   "outputs": [
    {
     "data": {
      "text/plain": [
       "Cell([100.57886855597452, 100.57886855597452, 28.416])"
      ]
     },
     "execution_count": 81,
     "metadata": {},
     "output_type": "execute_result"
    }
   ],
   "source": [
    "alsalb.cell"
   ]
  },
  {
   "cell_type": "code",
   "execution_count": 82,
   "id": "6ade1498-5a57-4547-8a9f-f64af805304b",
   "metadata": {},
   "outputs": [
    {
     "data": {
      "text/plain": [
       "Cell([102.28158168507174, 102.28158168507174, 56.684])"
      ]
     },
     "execution_count": 82,
     "metadata": {},
     "output_type": "execute_result"
    }
   ],
   "source": [
    "nisalb.cell"
   ]
  },
  {
   "cell_type": "code",
   "execution_count": 83,
   "id": "57c5a9a1-796e-4a80-b15f-c38ae8ed14ce",
   "metadata": {},
   "outputs": [],
   "source": [
    "combined_wafer_left = ase.build.stack(wafer,wafer, maxstrain=None)\n",
    "combined_wafer_left = ase.build.stack(wafer,combined_wafer_left, maxstrain=None)"
   ]
  },
  {
   "cell_type": "code",
   "execution_count": 78,
   "id": "16cd3ad8-93d1-498b-a477-a5357637b822",
   "metadata": {},
   "outputs": [
    {
     "data": {
      "application/vnd.jupyter.widget-view+json": {
       "model_id": "2969f681087949c98899499ce1eae8ef",
       "version_major": 2,
       "version_minor": 0
      },
      "text/plain": [
       "HBox(children=(NGLWidget(), VBox(children=(Dropdown(description='Show', options=('All', 'Al', 'Ni'), value='Al…"
      ]
     },
     "metadata": {},
     "output_type": "display_data"
    }
   ],
   "source": [
    "v = view(combined_wafer_left, viewer='ngl')\n",
    "v"
   ]
  },
  {
   "cell_type": "code",
   "execution_count": 84,
   "id": "71b2e456-6249-4af0-b1e1-015669e7d0d4",
   "metadata": {},
   "outputs": [],
   "source": [
    "combined_wafer_right = ase.build.stack(reverse_wafer,reverse_wafer, maxstrain=None)\n",
    "combined_wafer_right = ase.build.stack(reverse_wafer,combined_wafer_right, maxstrain=None)"
   ]
  },
  {
   "cell_type": "code",
   "execution_count": 85,
   "id": "3bb28b0e-3805-4a66-805f-3abae3947385",
   "metadata": {},
   "outputs": [
    {
     "data": {
      "application/vnd.jupyter.widget-view+json": {
       "model_id": "96ad3b65a4e64fb08f8f44621828cacb",
       "version_major": 2,
       "version_minor": 0
      },
      "text/plain": [
       "HBox(children=(NGLWidget(), VBox(children=(Dropdown(description='Show', options=('All', 'Al', 'Ni'), value='Al…"
      ]
     },
     "metadata": {},
     "output_type": "display_data"
    }
   ],
   "source": [
    "v = view(combined_wafer_right, viewer='ngl')\n",
    "v"
   ]
  },
  {
   "cell_type": "code",
   "execution_count": 86,
   "id": "c862dcea-6192-4e99-921c-d19e89373ee5",
   "metadata": {},
   "outputs": [],
   "source": [
    "combined_including_al2O3 = ase.build.stack(combined_wafer_left,combined_slabs, maxstrain=None)\n"
   ]
  },
  {
   "cell_type": "code",
   "execution_count": 87,
   "id": "35a598b3-5605-4f8c-be91-3a7a18244f11",
   "metadata": {},
   "outputs": [
    {
     "data": {
      "application/vnd.jupyter.widget-view+json": {
       "model_id": "cce17607c47a4043b9a71210cfb7242e",
       "version_major": 2,
       "version_minor": 0
      },
      "text/plain": [
       "HBox(children=(NGLWidget(), VBox(children=(Dropdown(description='Show', options=('All', 'Al', 'Ni'), value='Al…"
      ]
     },
     "metadata": {},
     "output_type": "display_data"
    }
   ],
   "source": [
    "v = view(combined_including_al2O3, viewer='ngl')\n",
    "v"
   ]
  },
  {
   "cell_type": "code",
   "execution_count": 88,
   "id": "441861e2-5844-4857-899c-eb186e03da96",
   "metadata": {},
   "outputs": [],
   "source": [
    "combined_including_al2O3_both_sides = ase.build.stack(combined_including_al2O3,combined_wafer_right, maxstrain=None)\n"
   ]
  },
  {
   "cell_type": "code",
   "execution_count": 89,
   "id": "47322811-26a1-4027-b655-89a7ed4a815a",
   "metadata": {},
   "outputs": [
    {
     "data": {
      "application/vnd.jupyter.widget-view+json": {
       "model_id": "999b4e3150754fb9839d6f1586d9b82a",
       "version_major": 2,
       "version_minor": 0
      },
      "text/plain": [
       "HBox(children=(NGLWidget(), VBox(children=(Dropdown(description='Show', options=('All', 'Al', 'Ni'), value='Al…"
      ]
     },
     "metadata": {},
     "output_type": "display_data"
    }
   ],
   "source": [
    "v = view(combined_including_al2O3_both_sides, viewer='ngl')\n",
    "v"
   ]
  },
  {
   "cell_type": "code",
   "execution_count": 90,
   "id": "690fbfd3-e1be-4e63-b755-8764616c0e29",
   "metadata": {},
   "outputs": [],
   "source": [
    "lammpsdata.write_lammps_data(\"full_slab.data\", combined_including_al2O3_both_sides)"
   ]
  },
  {
   "cell_type": "code",
   "execution_count": 91,
   "id": "542fa494-9ace-42b3-aec6-25a0328c8c40",
   "metadata": {},
   "outputs": [
    {
     "data": {
      "text/plain": [
       "'Al102900Ni376544'"
      ]
     },
     "execution_count": 91,
     "metadata": {},
     "output_type": "execute_result"
    }
   ],
   "source": [
    "formula = combined_including_al2O3_both_sides.get_chemical_formula()\n",
    "formula"
   ]
  },
  {
   "cell_type": "code",
   "execution_count": 92,
   "id": "42b55dc2-fbf2-4fe3-8394-06b45c21ef2a",
   "metadata": {},
   "outputs": [],
   "source": [
    " import re\n",
    "numbers = re.findall(r'\\d+', formula)\n"
   ]
  },
  {
   "cell_type": "code",
   "execution_count": 93,
   "id": "651de7cb-3b00-4c91-896c-94acb7af5b60",
   "metadata": {},
   "outputs": [],
   "source": [
    "Al = int(numbers[0])\n",
    "Ni = int(numbers[1])"
   ]
  },
  {
   "cell_type": "code",
   "execution_count": 94,
   "id": "26dc8ed3-5d1e-443b-a567-6005d5951f2a",
   "metadata": {},
   "outputs": [
    {
     "data": {
      "text/plain": [
       "0.27327483640690065"
      ]
     },
     "execution_count": 94,
     "metadata": {},
     "output_type": "execute_result"
    }
   ],
   "source": [
    "Al/Ni"
   ]
  },
  {
   "cell_type": "code",
   "execution_count": null,
   "id": "a5e41ab1-7fe5-4667-83aa-2cb04014dff8",
   "metadata": {},
   "outputs": [],
   "source": []
  }
 ],
 "metadata": {
  "kernelspec": {
   "display_name": "Python 3",
   "language": "python",
   "name": "python3"
  },
  "language_info": {
   "codemirror_mode": {
    "name": "ipython",
    "version": 3
   },
   "file_extension": ".py",
   "mimetype": "text/x-python",
   "name": "python",
   "nbconvert_exporter": "python",
   "pygments_lexer": "ipython3",
   "version": "3.6.15"
  }
 },
 "nbformat": 4,
 "nbformat_minor": 5
}

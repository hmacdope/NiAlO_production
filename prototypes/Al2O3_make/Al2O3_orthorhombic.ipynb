{
 "cells": [
  {
   "cell_type": "code",
   "execution_count": 1,
   "id": "74bc23c8-3b39-4ad7-b8f0-88109c5bc5b0",
   "metadata": {},
   "outputs": [
    {
     "data": {
      "application/vnd.jupyter.widget-view+json": {
       "model_id": "dea366bc9bf3497c9800ab9a2a2ed4c8",
       "version_major": 2,
       "version_minor": 0
      },
      "text/plain": []
     },
     "metadata": {},
     "output_type": "display_data"
    }
   ],
   "source": [
    "\n",
    "import ase\n",
    "import numpy as np\n",
    "from ase.visualize import view\n",
    "from ase.io import read, write\n",
    "from ase.io import cif, vasp, lammpsdata\n",
    "from ase.build import make_supercell, sort, add_adsorbate, add_vacuum\n",
    "import nglview"
   ]
  },
  {
   "cell_type": "code",
   "execution_count": 2,
   "id": "45bc7b7e-5c95-41c2-82bc-7c90275fcf4e",
   "metadata": {},
   "outputs": [
    {
     "data": {
      "text/plain": [
       "60"
      ]
     },
     "execution_count": 2,
     "metadata": {},
     "output_type": "execute_result"
    }
   ],
   "source": [
    "atoms = vasp.read_vasp('orthorhombic.POSCAR.vasp')\n",
    "len(atoms)"
   ]
  },
  {
   "cell_type": "code",
   "execution_count": 3,
   "id": "f20cbf67-1529-442d-85f2-cb5879791064",
   "metadata": {},
   "outputs": [
    {
     "data": {
      "application/vnd.jupyter.widget-view+json": {
       "model_id": "7d9e4db6364243349e77ef5defdd1465",
       "version_major": 2,
       "version_minor": 0
      },
      "text/plain": [
       "HBox(children=(NGLWidget(), VBox(children=(Dropdown(description='Show', options=('All', 'O', 'Al'), value='All…"
      ]
     },
     "metadata": {},
     "output_type": "display_data"
    }
   ],
   "source": [
    "v = view(atoms, viewer='ngl')\n",
    "v"
   ]
  },
  {
   "cell_type": "code",
   "execution_count": 4,
   "id": "e8ede418-19af-4463-9b68-ec80e4627415",
   "metadata": {},
   "outputs": [
    {
     "data": {
      "text/plain": [
       "Cell([4.8050279617, 4.8050279617, 13.1162538528])"
      ]
     },
     "execution_count": 4,
     "metadata": {},
     "output_type": "execute_result"
    }
   ],
   "source": [
    "atoms.cell"
   ]
  },
  {
   "cell_type": "code",
   "execution_count": 5,
   "id": "d81c5cc0-b75e-4382-b063-9b2960ee39b2",
   "metadata": {},
   "outputs": [
    {
     "data": {
      "text/plain": [
       "4.8050279617"
      ]
     },
     "execution_count": 5,
     "metadata": {},
     "output_type": "execute_result"
    }
   ],
   "source": [
    "a = atoms.cell[0][0]\n",
    "a"
   ]
  },
  {
   "cell_type": "code",
   "execution_count": 6,
   "id": "6095ead5-f89e-4934-b0eb-bc62a9eb094e",
   "metadata": {},
   "outputs": [
    {
     "data": {
      "text/plain": [
       "4.8050279617"
      ]
     },
     "execution_count": 6,
     "metadata": {},
     "output_type": "execute_result"
    }
   ],
   "source": [
    "b = atoms.cell[1][1]\n",
    "b"
   ]
  },
  {
   "cell_type": "code",
   "execution_count": 7,
   "id": "667d13b3-6d10-419c-a580-dd738df31786",
   "metadata": {},
   "outputs": [
    {
     "data": {
      "text/plain": [
       "13.1162538528"
      ]
     },
     "execution_count": 7,
     "metadata": {},
     "output_type": "execute_result"
    }
   ],
   "source": [
    "c = atoms.cell[2][2]\n",
    "c"
   ]
  },
  {
   "cell_type": "code",
   "execution_count": 8,
   "id": "ed1ac779-3d75-4ffb-9fc0-31cc4aec1d2c",
   "metadata": {},
   "outputs": [
    {
     "data": {
      "text/plain": [
       "array([[ 0.        ,  0.        ,  1.93994633],\n",
       "       [ 0.        ,  0.        , 11.17630772],\n",
       "       [ 1.60167589,  3.20335207,  0.24609594],\n",
       "       [ 3.20335207,  1.60167589, 12.8701582 ],\n",
       "       [ 1.60167589,  3.20335207,  4.12598832],\n",
       "       [ 3.20335207,  1.60167589,  8.99026516],\n",
       "       [ 3.20335207,  1.60167603,  2.43213823],\n",
       "       [ 1.60167589,  3.20335178, 10.68411562],\n",
       "       [ 3.20335207,  1.60167603,  6.31203088],\n",
       "       [ 1.60167589,  3.20335178,  6.80422337],\n",
       "       [ 0.        ,  0.        ,  4.6181804 ],\n",
       "       [ 0.        ,  0.        ,  8.49807383],\n",
       "       [ 0.        ,  0.        ,  8.49807227],\n",
       "       [ 0.        ,  0.        ,  4.61818158],\n",
       "       [ 1.60167589,  3.20335207,  6.80422258],\n",
       "       [ 3.20335207,  1.60167589,  6.31203127],\n",
       "       [ 1.60167589,  3.20335207, 10.68411562],\n",
       "       [ 3.20335207,  1.60167589,  2.43213823],\n",
       "       [ 3.20335207,  1.60167603,  8.99026516],\n",
       "       [ 1.60167589,  3.20335178,  4.1259887 ],\n",
       "       [ 3.20335207,  1.60167603, 12.8701582 ],\n",
       "       [ 1.60167589,  3.20335178,  0.24609565],\n",
       "       [ 0.        ,  0.        , 11.17630772],\n",
       "       [ 0.        ,  0.        ,  1.93994613],\n",
       "       [ 1.47104007,  0.        ,  3.27906346],\n",
       "       [ 3.33398775,  0.        ,  9.83719039],\n",
       "       [ 3.20335207,  0.13063589,  1.09302099],\n",
       "       [ 1.60167589,  4.674392  , 12.02323297],\n",
       "       [ 0.        ,  1.47104007,  3.27906346],\n",
       "       [ 0.        ,  3.33398775,  9.83719039],\n",
       "       [ 3.33398775,  3.33398775,  3.27906346],\n",
       "       [ 1.47104022,  1.47104022,  9.83719039],\n",
       "       [ 4.67439228,  3.0727161 ,  1.09302099],\n",
       "       [ 0.13063568,  1.73231186, 12.02323297],\n",
       "       [ 1.73231186,  1.60167603,  1.09302099],\n",
       "       [ 3.0727161 ,  3.20335178, 12.02323297],\n",
       "       [ 4.67439228,  1.60167603,  7.65114781],\n",
       "       [ 0.13063568,  3.20335178,  5.46510604],\n",
       "       [ 1.60167603,  1.732312  ,  5.46510565],\n",
       "       [ 3.20335178,  3.07271582,  7.6511486 ],\n",
       "       [ 3.20335207,  3.0727161 ,  7.65114781],\n",
       "       [ 1.60167589,  1.73231186,  5.46510604],\n",
       "       [ 1.73231186,  0.13063589,  7.65114781],\n",
       "       [ 3.0727161 ,  4.674392  ,  5.46510604],\n",
       "       [ 3.0727161 ,  4.67439228,  5.46510565],\n",
       "       [ 1.73231186,  0.13063568,  7.6511486 ],\n",
       "       [ 0.13063589,  3.20335207,  5.46510565],\n",
       "       [ 4.674392  ,  1.60167589,  7.6511486 ],\n",
       "       [ 3.0727161 ,  3.20335207, 12.02323374],\n",
       "       [ 1.73231186,  1.60167589,  1.09302011],\n",
       "       [ 0.        ,  3.33398775,  9.83719039],\n",
       "       [ 0.        ,  1.47104022,  3.27906346],\n",
       "       [ 1.60167618,  4.67439228, 12.02323374],\n",
       "       [ 3.20335178,  0.13063568,  1.09302011],\n",
       "       [ 0.1306359 ,  1.732312  , 12.02323374],\n",
       "       [ 4.674392  ,  3.07271582,  1.09302011],\n",
       "       [ 1.47104007,  1.47104007,  9.83719039],\n",
       "       [ 3.33398775,  3.33398775,  3.27906346],\n",
       "       [ 3.33398775,  0.        ,  9.83719039],\n",
       "       [ 1.47104022,  0.        ,  3.27906346]])"
      ]
     },
     "execution_count": 8,
     "metadata": {},
     "output_type": "execute_result"
    }
   ],
   "source": [
    "atoms.positions"
   ]
  },
  {
   "cell_type": "code",
   "execution_count": 9,
   "id": "ce1eb83d-f09d-4e52-9a14-bf98f5a37cb2",
   "metadata": {},
   "outputs": [],
   "source": [
    "unique = np.unique(atoms.positions.round(decimals=3), axis=0)"
   ]
  },
  {
   "cell_type": "code",
   "execution_count": 10,
   "id": "ec3843a0-75ac-4588-bfbb-fc0f0e06aca7",
   "metadata": {},
   "outputs": [
    {
     "data": {
      "text/plain": [
       "30"
      ]
     },
     "execution_count": 10,
     "metadata": {},
     "output_type": "execute_result"
    }
   ],
   "source": [
    "len(unique)"
   ]
  },
  {
   "cell_type": "code",
   "execution_count": 11,
   "id": "c08e9dfd-e7bd-4cfb-a6fd-2a8bd3636a8a",
   "metadata": {},
   "outputs": [],
   "source": [
    "Al = atoms[0:12]"
   ]
  },
  {
   "cell_type": "code",
   "execution_count": 12,
   "id": "1d543efb-6ba7-4184-a7d2-b1c17516439e",
   "metadata": {},
   "outputs": [
    {
     "data": {
      "application/vnd.jupyter.widget-view+json": {
       "model_id": "2708cdb34efc4a64ab0aeafb12544cda",
       "version_major": 2,
       "version_minor": 0
      },
      "text/plain": [
       "HBox(children=(NGLWidget(), VBox(children=(Dropdown(description='Show', options=('All', 'Al'), value='All'), D…"
      ]
     },
     "metadata": {},
     "output_type": "display_data"
    }
   ],
   "source": [
    "v = view(Al, viewer='ngl')\n",
    "v"
   ]
  },
  {
   "cell_type": "code",
   "execution_count": 13,
   "id": "72105178-b80c-44c9-9ae2-dc43fbe2a334",
   "metadata": {},
   "outputs": [
    {
     "data": {
      "text/plain": [
       "Atoms(symbols='O18', pbc=True, cell=[4.8050279617, 4.8050279617, 13.1162538528])"
      ]
     },
     "execution_count": 13,
     "metadata": {},
     "output_type": "execute_result"
    }
   ],
   "source": [
    "O = atoms[24:24+18]\n",
    "O"
   ]
  },
  {
   "cell_type": "code",
   "execution_count": 14,
   "id": "ef02bf0d-0c17-4311-b81e-c56bd947fabb",
   "metadata": {},
   "outputs": [
    {
     "data": {
      "application/vnd.jupyter.widget-view+json": {
       "model_id": "3dc6f039a2bc4ce0aa63b20d6ebbfa7e",
       "version_major": 2,
       "version_minor": 0
      },
      "text/plain": [
       "HBox(children=(NGLWidget(), VBox(children=(Dropdown(description='Show', options=('All', 'O'), value='All'), Dr…"
      ]
     },
     "metadata": {},
     "output_type": "display_data"
    }
   ],
   "source": [
    "v = view(O, viewer='ngl')\n",
    "v"
   ]
  },
  {
   "cell_type": "code",
   "execution_count": 15,
   "id": "424d0b83-dcb0-4a59-9bbd-d5512b6a143f",
   "metadata": {},
   "outputs": [
    {
     "data": {
      "text/plain": [
       "Atoms(symbols='Al12O18', pbc=True, cell=[4.8050279617, 4.8050279617, 13.1162538528])"
      ]
     },
     "execution_count": 15,
     "metadata": {},
     "output_type": "execute_result"
    }
   ],
   "source": [
    "combined = Al + O\n",
    "combined"
   ]
  },
  {
   "cell_type": "code",
   "execution_count": 16,
   "id": "50baf1bd-94eb-45b4-8a13-7544765d2554",
   "metadata": {},
   "outputs": [],
   "source": [
    "lammpsdata.write_lammps_data(\"Al2O3_small.data\", combined)"
   ]
  },
  {
   "cell_type": "code",
   "execution_count": 17,
   "id": "8c384aa4-a9ff-4e34-bd16-f4b05135152c",
   "metadata": {},
   "outputs": [
    {
     "data": {
      "text/plain": [
       "Cell([4.8050279617, 4.8050279617, 13.1162538528])"
      ]
     },
     "execution_count": 17,
     "metadata": {},
     "output_type": "execute_result"
    }
   ],
   "source": [
    "cell = combined.cell\n",
    "cell"
   ]
  },
  {
   "cell_type": "code",
   "execution_count": 18,
   "id": "a137f568-3f07-4768-a8f8-a76312eb16d6",
   "metadata": {},
   "outputs": [
    {
     "name": "stdout",
     "output_type": "stream",
     "text": [
      "20.81153341813653\n"
     ]
    },
    {
     "data": {
      "text/plain": [
       "21"
      ]
     },
     "execution_count": 18,
     "metadata": {},
     "output_type": "execute_result"
    }
   ],
   "source": [
    "a = cell[0][0]\n",
    "target_a = 100\n",
    "scalfac_a = target_a/a\n",
    "print(scalfac_a)\n",
    "round(scalfac_a)"
   ]
  },
  {
   "cell_type": "code",
   "execution_count": 19,
   "id": "5e9124a9-0979-44b7-b991-1ba933785a03",
   "metadata": {},
   "outputs": [
    {
     "name": "stdout",
     "output_type": "stream",
     "text": [
      "20.81153341813653\n"
     ]
    },
    {
     "data": {
      "text/plain": [
       "21"
      ]
     },
     "execution_count": 19,
     "metadata": {},
     "output_type": "execute_result"
    }
   ],
   "source": [
    "b = cell[1][1]\n",
    "target_b = 100\n",
    "scalfac_b = target_b/b\n",
    "print(scalfac_b)\n",
    "round(scalfac_b)"
   ]
  },
  {
   "cell_type": "code",
   "execution_count": 20,
   "id": "efd6be2d-c4b0-42af-a8f7-767c2d779ed5",
   "metadata": {},
   "outputs": [
    {
     "name": "stdout",
     "output_type": "stream",
     "text": [
      "2.1347558772677067\n"
     ]
    },
    {
     "data": {
      "text/plain": [
       "2"
      ]
     },
     "execution_count": 20,
     "metadata": {},
     "output_type": "execute_result"
    }
   ],
   "source": [
    "c = cell[2][2]\n",
    "target_c = 28\n",
    "scalfac_c = target_c/c\n",
    "print(scalfac_c)\n",
    "round(scalfac_c)"
   ]
  },
  {
   "cell_type": "code",
   "execution_count": 21,
   "id": "8a51f97e-c8c5-4352-af99-6c402a91db82",
   "metadata": {},
   "outputs": [
    {
     "data": {
      "text/plain": [
       "array([[21.,  0.,  0.],\n",
       "       [ 0., 21.,  0.],\n",
       "       [ 0.,  0.,  2.]])"
      ]
     },
     "execution_count": 21,
     "metadata": {},
     "output_type": "execute_result"
    }
   ],
   "source": [
    "Tmatrix = np.eye(3)\n",
    "Tmatrix[0,0] = round(scalfac_a)\n",
    "Tmatrix[1,1] = round(scalfac_b)\n",
    "Tmatrix[2,2] = round(scalfac_c)\n",
    "Tmatrix"
   ]
  },
  {
   "cell_type": "code",
   "execution_count": 22,
   "id": "39221a1f-d6cb-408a-b8ea-258896bbdefd",
   "metadata": {},
   "outputs": [],
   "source": [
    "supercell = ase.build.make_supercell(combined, Tmatrix)"
   ]
  },
  {
   "cell_type": "code",
   "execution_count": 23,
   "id": "800c29dd-ddd8-438c-a5cc-86b6c00f0d3b",
   "metadata": {},
   "outputs": [
    {
     "data": {
      "application/vnd.jupyter.widget-view+json": {
       "model_id": "f1b09ea115b440ddb2d15e9b329eb570",
       "version_major": 2,
       "version_minor": 0
      },
      "text/plain": [
       "HBox(children=(NGLWidget(), VBox(children=(Dropdown(description='Show', options=('All', 'O', 'Al'), value='All…"
      ]
     },
     "metadata": {},
     "output_type": "display_data"
    }
   ],
   "source": [
    "v = view(supercell, viewer='ngl')\n",
    "v"
   ]
  },
  {
   "cell_type": "code",
   "execution_count": 24,
   "id": "e41f22fd-361e-4db2-90ff-e0b6e37f1510",
   "metadata": {},
   "outputs": [],
   "source": [
    "lammpsdata.write_lammps_data(\"Al2O3_supercell.data\", supercell)"
   ]
  },
  {
   "cell_type": "code",
   "execution_count": 25,
   "id": "90bd33cd-469a-4d57-aec0-ce50dbbd1797",
   "metadata": {},
   "outputs": [],
   "source": [
    "second_slab = supercell.copy()"
   ]
  },
  {
   "cell_type": "code",
   "execution_count": 26,
   "id": "01e562ad-bd92-418d-85dc-b295c9cf213a",
   "metadata": {},
   "outputs": [],
   "source": [
    "trans = np.zeros_like(supercell.positions)\n",
    "trans[:,2] += (20 + supercell.cell[2][2])"
   ]
  },
  {
   "cell_type": "code",
   "execution_count": 27,
   "id": "b94b9fff-42c5-472b-9129-79e1d135e7c3",
   "metadata": {},
   "outputs": [],
   "source": [
    "second_slab.set_positions(second_slab.positions + trans)"
   ]
  },
  {
   "cell_type": "code",
   "execution_count": 28,
   "id": "2f9a0d6e-5a96-442f-808b-953b2a9af1a3",
   "metadata": {},
   "outputs": [],
   "source": [
    "combined_slabs = supercell + second_slab"
   ]
  },
  {
   "cell_type": "code",
   "execution_count": 29,
   "id": "d2f016de-2818-47be-a058-b2be02292fa3",
   "metadata": {},
   "outputs": [],
   "source": [
    "combined_slabs.cell[2][2] += (20 +supercell.cell[2][2])"
   ]
  },
  {
   "cell_type": "code",
   "execution_count": 30,
   "id": "4b48ce57-3d06-43e3-b82f-d151ecc99bbd",
   "metadata": {},
   "outputs": [
    {
     "data": {
      "application/vnd.jupyter.widget-view+json": {
       "model_id": "8711dd7286dc4238abe609b44162a741",
       "version_major": 2,
       "version_minor": 0
      },
      "text/plain": [
       "HBox(children=(NGLWidget(), VBox(children=(Dropdown(description='Show', options=('All', 'O', 'Al'), value='All…"
      ]
     },
     "metadata": {},
     "output_type": "display_data"
    }
   ],
   "source": [
    "v = view(combined_slabs, viewer='ngl')\n",
    "v"
   ]
  },
  {
   "cell_type": "code",
   "execution_count": 50,
   "id": "f6a1a300-6c02-480b-965f-9bec8b625724",
   "metadata": {},
   "outputs": [],
   "source": [
    "lammpsdata.write_lammps_data(\"combined_cells.data\", combined_slabs)"
   ]
  },
  {
   "cell_type": "code",
   "execution_count": 32,
   "id": "6b566640-190b-4901-95ef-4d745ed70e64",
   "metadata": {},
   "outputs": [],
   "source": [
    "from ase.build import bulk"
   ]
  },
  {
   "cell_type": "code",
   "execution_count": 43,
   "id": "7069be5a-7e6e-4507-b1c7-f0fc8313f6da",
   "metadata": {},
   "outputs": [
    {
     "data": {
      "text/plain": [
       "Cell([2.4946727240261395, 2.4946727240261395, 3.528])"
      ]
     },
     "execution_count": 43,
     "metadata": {},
     "output_type": "execute_result"
    }
   ],
   "source": [
    "NiBulk = bulk('Ni', 'fcc', a=3.528, orthorhombic=True)\n",
    "NiBulk.cell"
   ]
  },
  {
   "cell_type": "code",
   "execution_count": 37,
   "id": "736279c7-0708-4535-a922-a90e75c8ac33",
   "metadata": {},
   "outputs": [
    {
     "data": {
      "application/vnd.jupyter.widget-view+json": {
       "model_id": "b3a0e56dbd514915b1535226ad05f691",
       "version_major": 2,
       "version_minor": 0
      },
      "text/plain": [
       "HBox(children=(NGLWidget(), VBox(children=(Dropdown(description='Show', options=('All', 'Ni'), value='All'), D…"
      ]
     },
     "metadata": {},
     "output_type": "display_data"
    }
   ],
   "source": [
    "v = view(NiBulk, viewer='ngl')\n",
    "v"
   ]
  },
  {
   "cell_type": "code",
   "execution_count": 46,
   "id": "3eb3fae3-53b1-4e24-8ec2-127e4635f978",
   "metadata": {},
   "outputs": [],
   "source": [
    "nisalb = ase.build.fcc100(\"Ni\", (40,40, 10), a=3.528, vacuum=None, orthogonal=True, periodic=True)"
   ]
  },
  {
   "cell_type": "code",
   "execution_count": 47,
   "id": "1195d45e-5b21-421c-a3ed-3973377738b9",
   "metadata": {},
   "outputs": [
    {
     "data": {
      "text/plain": [
       "Cell([99.7869089610456, 99.7869089610456, 17.64])"
      ]
     },
     "execution_count": 47,
     "metadata": {},
     "output_type": "execute_result"
    }
   ],
   "source": [
    "nisalb.cell"
   ]
  },
  {
   "cell_type": "code",
   "execution_count": 48,
   "id": "3cea861f-02d4-42a1-9848-98cde3148fec",
   "metadata": {},
   "outputs": [
    {
     "data": {
      "text/plain": [
       "40.93589337480271"
      ]
     },
     "execution_count": 48,
     "metadata": {},
     "output_type": "execute_result"
    }
   ],
   "source": [
    "101/2.467272402614"
   ]
  },
  {
   "cell_type": "code",
   "execution_count": 49,
   "id": "6d317242-a67b-4b21-a089-9ffe5aa9361f",
   "metadata": {},
   "outputs": [
    {
     "data": {
      "application/vnd.jupyter.widget-view+json": {
       "model_id": "b9d166920a7347d3b20afd75ab907ddb",
       "version_major": 2,
       "version_minor": 0
      },
      "text/plain": [
       "HBox(children=(NGLWidget(), VBox(children=(Dropdown(description='Show', options=('All', 'Ni'), value='All'), D…"
      ]
     },
     "metadata": {},
     "output_type": "display_data"
    }
   ],
   "source": [
    "v = view(nisalb, viewer='ngl')\n",
    "v"
   ]
  },
  {
   "cell_type": "code",
   "execution_count": 52,
   "id": "57c5a9a1-796e-4a80-b15f-c38ae8ed14ce",
   "metadata": {},
   "outputs": [
    {
     "ename": "IncompatibleCellError",
     "evalue": "*maxstrain* exceeded. *atoms1* strained 0.791025 and *atoms2* strained 0.791025.",
     "output_type": "error",
     "traceback": [
      "\u001b[0;31m---------------------------------------------------------------------------\u001b[0m",
      "\u001b[0;31mIncompatibleCellError\u001b[0m                     Traceback (most recent call last)",
      "Input \u001b[0;32mIn [52]\u001b[0m, in \u001b[0;36m<cell line: 1>\u001b[0;34m()\u001b[0m\n\u001b[0;32m----> 1\u001b[0m combined \u001b[38;5;241m=\u001b[39m \u001b[43mase\u001b[49m\u001b[38;5;241;43m.\u001b[39;49m\u001b[43mbuild\u001b[49m\u001b[38;5;241;43m.\u001b[39;49m\u001b[43mstack\u001b[49m\u001b[43m(\u001b[49m\u001b[43mcombined_slabs\u001b[49m\u001b[43m,\u001b[49m\u001b[43m \u001b[49m\u001b[43mnisalb\u001b[49m\u001b[43m)\u001b[49m\n",
      "File \u001b[0;32m~/anaconda3/envs/terry/lib/python3.9/site-packages/ase/build/tools.py:284\u001b[0m, in \u001b[0;36mstack\u001b[0;34m(atoms1, atoms2, axis, cell, fix, maxstrain, distance, reorder, output_strained)\u001b[0m\n\u001b[1;32m    282\u001b[0m     strain2 \u001b[38;5;241m=\u001b[39m np\u001b[38;5;241m.\u001b[39msqrt(((cell2 \u001b[38;5;241m-\u001b[39m atoms2\u001b[38;5;241m.\u001b[39mcell)\u001b[38;5;241m.\u001b[39msum(axis\u001b[38;5;241m=\u001b[39m\u001b[38;5;241m0\u001b[39m)\u001b[38;5;241m*\u001b[39m\u001b[38;5;241m*\u001b[39m\u001b[38;5;241m2\u001b[39m)\u001b[38;5;241m.\u001b[39msum())\n\u001b[1;32m    283\u001b[0m     \u001b[38;5;28;01mif\u001b[39;00m strain1 \u001b[38;5;241m>\u001b[39m maxstrain \u001b[38;5;129;01mor\u001b[39;00m strain2 \u001b[38;5;241m>\u001b[39m maxstrain:\n\u001b[0;32m--> 284\u001b[0m         \u001b[38;5;28;01mraise\u001b[39;00m IncompatibleCellError(\n\u001b[1;32m    285\u001b[0m             \u001b[38;5;124m'\u001b[39m\u001b[38;5;124m*maxstrain* exceeded. *atoms1* strained \u001b[39m\u001b[38;5;132;01m%f\u001b[39;00m\u001b[38;5;124m and \u001b[39m\u001b[38;5;124m'\u001b[39m\n\u001b[1;32m    286\u001b[0m             \u001b[38;5;124m'\u001b[39m\u001b[38;5;124m*atoms2* strained \u001b[39m\u001b[38;5;132;01m%f\u001b[39;00m\u001b[38;5;124m.\u001b[39m\u001b[38;5;124m'\u001b[39m \u001b[38;5;241m%\u001b[39m (strain1, strain2))\n\u001b[1;32m    288\u001b[0m atoms1\u001b[38;5;241m.\u001b[39mset_cell(cell1, scale_atoms\u001b[38;5;241m=\u001b[39m\u001b[38;5;28;01mTrue\u001b[39;00m)\n\u001b[1;32m    289\u001b[0m atoms2\u001b[38;5;241m.\u001b[39mset_cell(cell2, scale_atoms\u001b[38;5;241m=\u001b[39m\u001b[38;5;28;01mTrue\u001b[39;00m)\n",
      "\u001b[0;31mIncompatibleCellError\u001b[0m: *maxstrain* exceeded. *atoms1* strained 0.791025 and *atoms2* strained 0.791025."
     ]
    }
   ],
   "source": [
    "combined = ase.build.stack(combined_slabs, nisalb)"
   ]
  },
  {
   "cell_type": "code",
   "execution_count": null,
   "id": "fd391b5f-765c-461f-9d58-c624da833a8a",
   "metadata": {},
   "outputs": [],
   "source": []
  }
 ],
 "metadata": {
  "kernelspec": {
   "display_name": "Python 3 (ipykernel)",
   "language": "python",
   "name": "python3"
  },
  "language_info": {
   "codemirror_mode": {
    "name": "ipython",
    "version": 3
   },
   "file_extension": ".py",
   "mimetype": "text/x-python",
   "name": "python",
   "nbconvert_exporter": "python",
   "pygments_lexer": "ipython3",
   "version": "3.9.12"
  }
 },
 "nbformat": 4,
 "nbformat_minor": 5
}

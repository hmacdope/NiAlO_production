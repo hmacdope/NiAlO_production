{
 "cells": [
  {
   "cell_type": "code",
   "execution_count": 1,
   "id": "74bc23c8-3b39-4ad7-b8f0-88109c5bc5b0",
   "metadata": {},
   "outputs": [
    {
     "data": {
      "application/vnd.jupyter.widget-view+json": {
       "model_id": "ccd76601ce524029a7354c3d06ad24ca",
       "version_major": 2,
       "version_minor": 0
      },
      "text/plain": []
     },
     "metadata": {},
     "output_type": "display_data"
    }
   ],
   "source": [
    "\n",
    "import ase\n",
    "import numpy as np\n",
    "from ase.visualize import view\n",
    "from ase.io import read, write\n",
    "from ase.io import cif, vasp, lammpsdata\n",
    "from ase.build import make_supercell, sort, add_adsorbate, add_vacuum\n",
    "from ase.build import bulk\n",
    "import nglview"
   ]
  },
  {
   "cell_type": "code",
   "execution_count": 2,
   "id": "90bd33cd-469a-4d57-aec0-ce50dbbd1797",
   "metadata": {},
   "outputs": [],
   "source": [
    "#second_slab = supercell.copy()"
   ]
  },
  {
   "cell_type": "code",
   "execution_count": 3,
   "id": "01e562ad-bd92-418d-85dc-b295c9cf213a",
   "metadata": {},
   "outputs": [],
   "source": [
    "#trans = np.zeros_like(supercell.positions)\n",
    "#trans[:,2] += (20 + supercell.cell[2][2])"
   ]
  },
  {
   "cell_type": "code",
   "execution_count": 4,
   "id": "b94b9fff-42c5-472b-9129-79e1d135e7c3",
   "metadata": {},
   "outputs": [],
   "source": [
    "#second_slab.set_positions(second_slab.positions + trans)"
   ]
  },
  {
   "cell_type": "code",
   "execution_count": 5,
   "id": "2f9a0d6e-5a96-442f-808b-953b2a9af1a3",
   "metadata": {},
   "outputs": [],
   "source": [
    "#combined_slabs = supercell + second_slab"
   ]
  },
  {
   "cell_type": "code",
   "execution_count": 6,
   "id": "d2f016de-2818-47be-a058-b2be02292fa3",
   "metadata": {},
   "outputs": [],
   "source": [
    "#combined_slabs.cell[2][2] += (20 +supercell.cell[2][2])"
   ]
  },
  {
   "cell_type": "code",
   "execution_count": null,
   "id": "6b566640-190b-4901-95ef-4d745ed70e64",
   "metadata": {},
   "outputs": [],
   "source": []
  },
  {
   "cell_type": "code",
   "execution_count": 7,
   "id": "7069be5a-7e6e-4507-b1c7-f0fc8313f6da",
   "metadata": {},
   "outputs": [
    {
     "data": {
      "text/plain": [
       "Cell([2.4946727240261395, 2.4946727240261395, 3.528])"
      ]
     },
     "execution_count": 7,
     "metadata": {},
     "output_type": "execute_result"
    }
   ],
   "source": [
    "NiPrimitive = bulk('Ni', 'fcc', a=3.528, orthorhombic=True)\n",
    "NiPrimitive.cell"
   ]
  },
  {
   "cell_type": "code",
   "execution_count": 8,
   "id": "1909318c-3dfe-4052-92ac-9e9fb1989cf2",
   "metadata": {},
   "outputs": [],
   "source": [
    "NiPrimitive_a_b = NiPrimitive.cell[0][0]\n",
    "NiPrimitive_c = NiPrimitive.cell[2][2]"
   ]
  },
  {
   "cell_type": "code",
   "execution_count": 9,
   "id": "736279c7-0708-4535-a922-a90e75c8ac33",
   "metadata": {},
   "outputs": [
    {
     "data": {
      "application/vnd.jupyter.widget-view+json": {
       "model_id": "5ff83456c0c5437fa7ad1b31f4b8d256",
       "version_major": 2,
       "version_minor": 0
      },
      "text/plain": [
       "HBox(children=(NGLWidget(), VBox(children=(Dropdown(description='Show', options=('All', 'Ni'), value='All'), D…"
      ]
     },
     "metadata": {},
     "output_type": "display_data"
    }
   ],
   "source": [
    "v = view(NiPrimitive, viewer='ngl')\n",
    "v"
   ]
  },
  {
   "cell_type": "code",
   "execution_count": 10,
   "id": "3cea861f-02d4-42a1-9848-98cde3148fec",
   "metadata": {},
   "outputs": [
    {
     "data": {
      "text/plain": [
       "41"
      ]
     },
     "execution_count": 10,
     "metadata": {},
     "output_type": "execute_result"
    }
   ],
   "source": [
    "target_height  = 101.8\n",
    "repeats_ni_a_b =  round(target_height/NiPrimitive_a_b)\n",
    "repeats_ni_a_b"
   ]
  },
  {
   "cell_type": "code",
   "execution_count": 11,
   "id": "73aa8106-e51a-4832-a8b3-eedb5d306d71",
   "metadata": {},
   "outputs": [
    {
     "data": {
      "text/plain": [
       "22"
      ]
     },
     "execution_count": 11,
     "metadata": {},
     "output_type": "execute_result"
    }
   ],
   "source": [
    "target_width_ni = 40\n",
    "repeats_ni_c = 2*round(target_width_ni/NiPrimitive_c)\n",
    "repeats_ni_c"
   ]
  },
  {
   "cell_type": "code",
   "execution_count": 12,
   "id": "095d3abd-c4aa-43b9-8cb0-f42d198f6103",
   "metadata": {},
   "outputs": [
    {
     "data": {
      "text/plain": [
       "Cell([2.873681958742129, 2.873681958742129, 4.064])"
      ]
     },
     "execution_count": 12,
     "metadata": {},
     "output_type": "execute_result"
    }
   ],
   "source": [
    "AlPrimitive = bulk('Al', 'fcc', a=4.064, orthorhombic=True)\n",
    "AlPrimitive.cell"
   ]
  },
  {
   "cell_type": "code",
   "execution_count": 13,
   "id": "6408fd45-0ee5-4642-893b-4395d8f4f58d",
   "metadata": {},
   "outputs": [],
   "source": [
    "AlPrimitive_a_b = AlPrimitive.cell[0][0]\n",
    "AlPrimitive_c = AlPrimitive.cell[2][2]"
   ]
  },
  {
   "cell_type": "code",
   "execution_count": 14,
   "id": "3989c2df-ddde-448a-afcc-7767af05152f",
   "metadata": {},
   "outputs": [
    {
     "data": {
      "text/plain": [
       "35"
      ]
     },
     "execution_count": 14,
     "metadata": {},
     "output_type": "execute_result"
    }
   ],
   "source": [
    "repeats_al_a_b =  round(target_height/AlPrimitive_a_b)\n",
    "repeats_al_a_b"
   ]
  },
  {
   "cell_type": "code",
   "execution_count": 15,
   "id": "82df71a9-dfd5-401a-8f06-3330ee210aff",
   "metadata": {},
   "outputs": [
    {
     "data": {
      "text/plain": [
       "30"
      ]
     },
     "execution_count": 15,
     "metadata": {},
     "output_type": "execute_result"
    }
   ],
   "source": [
    "target_width_al = 59\n",
    "repeats_al_c = 2*round(target_width_al/AlPrimitive_c) \n",
    "repeats_al_c "
   ]
  },
  {
   "cell_type": "code",
   "execution_count": 16,
   "id": "3eb3fae3-53b1-4e24-8ec2-127e4635f978",
   "metadata": {},
   "outputs": [],
   "source": [
    "nisalb = ase.build.fcc100(\"Ni\", (repeats_ni_a_b, repeats_ni_a_b, repeats_ni_c), a=3.528, vacuum=1.0, orthogonal=True, periodic=True)"
   ]
  },
  {
   "cell_type": "code",
   "execution_count": 17,
   "id": "1195d45e-5b21-421c-a3ed-3973377738b9",
   "metadata": {},
   "outputs": [
    {
     "data": {
      "text/plain": [
       "Cell([102.28158168507174, 102.28158168507174, 39.04399999999999])"
      ]
     },
     "execution_count": 17,
     "metadata": {},
     "output_type": "execute_result"
    }
   ],
   "source": [
    "nisalb.cell"
   ]
  },
  {
   "cell_type": "code",
   "execution_count": 18,
   "id": "6d317242-a67b-4b21-a089-9ffe5aa9361f",
   "metadata": {},
   "outputs": [
    {
     "data": {
      "application/vnd.jupyter.widget-view+json": {
       "model_id": "c79b16deeb8b4c41871c7bbf63a7b85a",
       "version_major": 2,
       "version_minor": 0
      },
      "text/plain": [
       "HBox(children=(NGLWidget(), VBox(children=(Dropdown(description='Show', options=('All', 'Ni'), value='All'), D…"
      ]
     },
     "metadata": {},
     "output_type": "display_data"
    }
   ],
   "source": [
    "v = view(nisalb, viewer='ngl')\n",
    "v"
   ]
  },
  {
   "cell_type": "code",
   "execution_count": 19,
   "id": "ed437abc-d526-4028-869c-1a00ac3fca17",
   "metadata": {},
   "outputs": [],
   "source": [
    "alsalb = ase.build.fcc100(\"Al\", (repeats_al_a_b, repeats_al_a_b, repeats_al_c), a=4.064, vacuum=1.0, orthogonal=True, periodic=True)"
   ]
  },
  {
   "cell_type": "code",
   "execution_count": 20,
   "id": "7914460b-b198-44a4-b810-4ecab49178c3",
   "metadata": {},
   "outputs": [
    {
     "data": {
      "text/plain": [
       "Cell([100.57886855597452, 100.57886855597452, 60.928])"
      ]
     },
     "execution_count": 20,
     "metadata": {},
     "output_type": "execute_result"
    }
   ],
   "source": [
    "alsalb.cell"
   ]
  },
  {
   "cell_type": "code",
   "execution_count": 21,
   "id": "e499b9cb-e3e2-49a4-8264-703f5b835d71",
   "metadata": {},
   "outputs": [
    {
     "data": {
      "application/vnd.jupyter.widget-view+json": {
       "model_id": "b2117d02804346e9ba40a8ae0348dacc",
       "version_major": 2,
       "version_minor": 0
      },
      "text/plain": [
       "HBox(children=(NGLWidget(), VBox(children=(Dropdown(description='Show', options=('All', 'Al'), value='All'), D…"
      ]
     },
     "metadata": {},
     "output_type": "display_data"
    }
   ],
   "source": [
    "v = view(alsalb, viewer='ngl')\n",
    "v"
   ]
  },
  {
   "cell_type": "code",
   "execution_count": 22,
   "id": "e7d88272-f402-4105-bdb8-29d25440bbe4",
   "metadata": {},
   "outputs": [],
   "source": [
    "alsalb_half  = ase.build.fcc100(\"Al\", (repeats_al_a_b, repeats_al_a_b, repeats_al_c//2), a=4.064, vacuum=1.0, orthogonal=True, periodic=True)"
   ]
  },
  {
   "cell_type": "code",
   "execution_count": 23,
   "id": "9dde0432-1ec8-43e9-921e-ee47fecba9a4",
   "metadata": {},
   "outputs": [
    {
     "data": {
      "text/plain": [
       "Cell([100.57886855597452, 100.57886855597452, 30.448])"
      ]
     },
     "execution_count": 23,
     "metadata": {},
     "output_type": "execute_result"
    }
   ],
   "source": [
    "alsalb_half.cell"
   ]
  },
  {
   "cell_type": "code",
   "execution_count": 24,
   "id": "cc29b934-ae9c-48cf-9ff6-b1ddad27b913",
   "metadata": {},
   "outputs": [
    {
     "data": {
      "application/vnd.jupyter.widget-view+json": {
       "model_id": "db9518f6859f416287552739b572915a",
       "version_major": 2,
       "version_minor": 0
      },
      "text/plain": [
       "HBox(children=(NGLWidget(), VBox(children=(Dropdown(description='Show', options=('All', 'Al'), value='All'), D…"
      ]
     },
     "metadata": {},
     "output_type": "display_data"
    }
   ],
   "source": [
    "v = view(alsalb_half, viewer='ngl')\n",
    "v"
   ]
  },
  {
   "cell_type": "code",
   "execution_count": 25,
   "id": "01517745-cb20-4053-8cac-d1340c25d454",
   "metadata": {},
   "outputs": [],
   "source": [
    "second_alsalb_half = alsalb_half.copy()"
   ]
  },
  {
   "cell_type": "code",
   "execution_count": 26,
   "id": "bde31cc2-c122-4665-8b1b-a0cd384cb615",
   "metadata": {},
   "outputs": [],
   "source": [
    "trans = np.zeros_like(second_alsalb_half.positions)\n",
    "trans[:,2] += (20 + second_alsalb_half.cell[2][2])\n",
    "second_alsalb_half.set_positions(second_alsalb_half.positions + trans)\n",
    "combined_slabs = alsalb_half + second_alsalb_half\n",
    "combined_slabs.cell[2][2] += (20 +alsalb_half.cell[2][2])"
   ]
  },
  {
   "cell_type": "code",
   "execution_count": 27,
   "id": "c38d4e35-0646-49af-99ce-9b9b9e38967c",
   "metadata": {},
   "outputs": [
    {
     "data": {
      "application/vnd.jupyter.widget-view+json": {
       "model_id": "71c4b49f89704da18238c72c003420cc",
       "version_major": 2,
       "version_minor": 0
      },
      "text/plain": [
       "HBox(children=(NGLWidget(), VBox(children=(Dropdown(description='Show', options=('All', 'Al'), value='All'), D…"
      ]
     },
     "metadata": {},
     "output_type": "display_data"
    }
   ],
   "source": [
    "v = view(combined_slabs, viewer='ngl')\n",
    "v"
   ]
  },
  {
   "cell_type": "code",
   "execution_count": 28,
   "id": "3c719bc5-61f5-4b89-9279-b34716ba8fd7",
   "metadata": {},
   "outputs": [],
   "source": [
    "wafer = ase.build.stack(alsalb, nisalb, maxstrain=None)"
   ]
  },
  {
   "cell_type": "code",
   "execution_count": 29,
   "id": "b0d121eb-70e4-4a6a-9e67-603760792144",
   "metadata": {},
   "outputs": [],
   "source": [
    "cap_left = ase.build.stack(alsalb_half, nisalb, maxstrain=None)"
   ]
  },
  {
   "cell_type": "code",
   "execution_count": 30,
   "id": "371e97cb-4e71-4e91-ae37-4a72f4edd180",
   "metadata": {},
   "outputs": [],
   "source": [
    "reverse_wafer = ase.build.stack(nisalb,alsalb, maxstrain=None)"
   ]
  },
  {
   "cell_type": "code",
   "execution_count": 31,
   "id": "8451ab17-fbf4-4648-925a-d78935129ff9",
   "metadata": {},
   "outputs": [],
   "source": [
    "cap_right = ase.build.stack(nisalb,alsalb_half,  maxstrain=None)"
   ]
  },
  {
   "cell_type": "code",
   "execution_count": 32,
   "id": "af757d49-cbab-492b-a459-bc6fd20b1358",
   "metadata": {
    "tags": []
   },
   "outputs": [
    {
     "data": {
      "application/vnd.jupyter.widget-view+json": {
       "model_id": "ebdab5a37b1243178d081cf4efb09c49",
       "version_major": 2,
       "version_minor": 0
      },
      "text/plain": [
       "HBox(children=(NGLWidget(), VBox(children=(Dropdown(description='Show', options=('All', 'Ni', 'Al'), value='Al…"
      ]
     },
     "metadata": {},
     "output_type": "display_data"
    }
   ],
   "source": [
    "v = view(wafer, viewer='ngl')\n",
    "v"
   ]
  },
  {
   "cell_type": "code",
   "execution_count": 33,
   "id": "c1a9abdb-c7bf-469a-8761-3727e74f4ee8",
   "metadata": {},
   "outputs": [
    {
     "data": {
      "application/vnd.jupyter.widget-view+json": {
       "model_id": "e0458d86d98b4ad58d971b20f3f923ac",
       "version_major": 2,
       "version_minor": 0
      },
      "text/plain": [
       "HBox(children=(NGLWidget(), VBox(children=(Dropdown(description='Show', options=('All', 'Al', 'Ni'), value='Al…"
      ]
     },
     "metadata": {},
     "output_type": "display_data"
    }
   ],
   "source": [
    "v = view(reverse_wafer, viewer='ngl')\n",
    "v"
   ]
  },
  {
   "cell_type": "code",
   "execution_count": 34,
   "id": "57c5a9a1-796e-4a80-b15f-c38ae8ed14ce",
   "metadata": {},
   "outputs": [],
   "source": [
    "combined_wafer_left = ase.build.stack(wafer,wafer, maxstrain=None)\n",
    "combined_wafer_left = ase.build.stack(cap_left,combined_wafer_left, maxstrain=None)"
   ]
  },
  {
   "cell_type": "code",
   "execution_count": 35,
   "id": "16cd3ad8-93d1-498b-a477-a5357637b822",
   "metadata": {},
   "outputs": [
    {
     "data": {
      "application/vnd.jupyter.widget-view+json": {
       "model_id": "10160d48f5394a75a5e20b5d2f6bf8f3",
       "version_major": 2,
       "version_minor": 0
      },
      "text/plain": [
       "HBox(children=(NGLWidget(), VBox(children=(Dropdown(description='Show', options=('All', 'Ni', 'Al'), value='Al…"
      ]
     },
     "metadata": {},
     "output_type": "display_data"
    }
   ],
   "source": [
    "v = view(combined_wafer_left, viewer='ngl')\n",
    "v"
   ]
  },
  {
   "cell_type": "code",
   "execution_count": 36,
   "id": "71b2e456-6249-4af0-b1e1-015669e7d0d4",
   "metadata": {},
   "outputs": [],
   "source": [
    "combined_wafer_right = ase.build.stack(reverse_wafer,reverse_wafer, maxstrain=None)\n",
    "combined_wafer_right = ase.build.stack(combined_wafer_right,cap_right, maxstrain=None)"
   ]
  },
  {
   "cell_type": "code",
   "execution_count": 37,
   "id": "3bb28b0e-3805-4a66-805f-3abae3947385",
   "metadata": {},
   "outputs": [
    {
     "data": {
      "application/vnd.jupyter.widget-view+json": {
       "model_id": "d08bb5ea12bf4cf49c2d0f5ed197eec0",
       "version_major": 2,
       "version_minor": 0
      },
      "text/plain": [
       "HBox(children=(NGLWidget(), VBox(children=(Dropdown(description='Show', options=('All', 'Al', 'Ni'), value='Al…"
      ]
     },
     "metadata": {},
     "output_type": "display_data"
    }
   ],
   "source": [
    "v = view(combined_wafer_right, viewer='ngl')\n",
    "v"
   ]
  },
  {
   "cell_type": "code",
   "execution_count": 38,
   "id": "c862dcea-6192-4e99-921c-d19e89373ee5",
   "metadata": {},
   "outputs": [],
   "source": [
    "combined_including_al2O3 = ase.build.stack(combined_wafer_left,combined_slabs, maxstrain=None)\n"
   ]
  },
  {
   "cell_type": "code",
   "execution_count": 39,
   "id": "35a598b3-5605-4f8c-be91-3a7a18244f11",
   "metadata": {},
   "outputs": [
    {
     "data": {
      "application/vnd.jupyter.widget-view+json": {
       "model_id": "198269baa0f84619bc55fbfb25ae7256",
       "version_major": 2,
       "version_minor": 0
      },
      "text/plain": [
       "HBox(children=(NGLWidget(), VBox(children=(Dropdown(description='Show', options=('All', 'Ni', 'Al'), value='Al…"
      ]
     },
     "metadata": {},
     "output_type": "display_data"
    }
   ],
   "source": [
    "v = view(combined_including_al2O3, viewer='ngl')\n",
    "v"
   ]
  },
  {
   "cell_type": "code",
   "execution_count": 40,
   "id": "441861e2-5844-4857-899c-eb186e03da96",
   "metadata": {},
   "outputs": [],
   "source": [
    "combined_including_al2O3_both_sides = ase.build.stack(combined_including_al2O3,combined_wafer_right, maxstrain=None)\n"
   ]
  },
  {
   "cell_type": "code",
   "execution_count": 41,
   "id": "47322811-26a1-4027-b655-89a7ed4a815a",
   "metadata": {},
   "outputs": [
    {
     "data": {
      "application/vnd.jupyter.widget-view+json": {
       "model_id": "933b4849322844e7a5d1bb5ec9baf869",
       "version_major": 2,
       "version_minor": 0
      },
      "text/plain": [
       "HBox(children=(NGLWidget(), VBox(children=(Dropdown(description='Show', options=('All', 'Ni', 'Al'), value='Al…"
      ]
     },
     "metadata": {},
     "output_type": "display_data"
    }
   ],
   "source": [
    "v = view(combined_including_al2O3_both_sides, viewer='ngl')\n",
    "v"
   ]
  },
  {
   "cell_type": "code",
   "execution_count": null,
   "id": "a3cbc420-745b-4b70-b0b2-928d3abc1e57",
   "metadata": {},
   "outputs": [],
   "source": []
  },
  {
   "cell_type": "code",
   "execution_count": 42,
   "id": "37657316-42e1-4c82-b697-2bbe1f910fb1",
   "metadata": {},
   "outputs": [
    {
     "name": "stderr",
     "output_type": "stream",
     "text": [
      "/home/hmacdope/anaconda3/envs/terry/lib/python3.9/site-packages/ase/io/extxyz.py:302: UserWarning: Skipping unhashable information adsorbate_info\n",
      "  warnings.warn('Skipping unhashable information '\n"
     ]
    }
   ],
   "source": [
    "combined_including_al2O3_both_sides.write(\"full_slab.xyz\")\n",
    "combined_including_al2O3_both_sides.write(\"full_slab.pdb\")"
   ]
  },
  {
   "cell_type": "code",
   "execution_count": 43,
   "id": "690fbfd3-e1be-4e63-b755-8764616c0e29",
   "metadata": {},
   "outputs": [],
   "source": [
    "lammpsdata.write_lammps_data(\"full_slab.data\", combined_including_al2O3_both_sides)"
   ]
  },
  {
   "cell_type": "code",
   "execution_count": 44,
   "id": "542fa494-9ace-42b3-aec6-25a0328c8c40",
   "metadata": {},
   "outputs": [
    {
     "data": {
      "text/plain": [
       "'Al220500Ni221892'"
      ]
     },
     "execution_count": 44,
     "metadata": {},
     "output_type": "execute_result"
    }
   ],
   "source": [
    "formula = combined_including_al2O3_both_sides.get_chemical_formula()\n",
    "formula"
   ]
  },
  {
   "cell_type": "code",
   "execution_count": 45,
   "id": "42b55dc2-fbf2-4fe3-8394-06b45c21ef2a",
   "metadata": {},
   "outputs": [],
   "source": [
    " import re\n",
    "numbers = re.findall(r'\\d+', formula)\n"
   ]
  },
  {
   "cell_type": "code",
   "execution_count": 46,
   "id": "651de7cb-3b00-4c91-896c-94acb7af5b60",
   "metadata": {},
   "outputs": [],
   "source": [
    "Al = int(numbers[0])\n",
    "Ni = int(numbers[1])"
   ]
  },
  {
   "cell_type": "code",
   "execution_count": 48,
   "id": "26dc8ed3-5d1e-443b-a567-6005d5951f2a",
   "metadata": {},
   "outputs": [
    {
     "data": {
      "text/plain": [
       "1.006312925170068"
      ]
     },
     "execution_count": 48,
     "metadata": {},
     "output_type": "execute_result"
    }
   ],
   "source": [
    "Ni/Al"
   ]
  },
  {
   "cell_type": "code",
   "execution_count": null,
   "id": "a5e41ab1-7fe5-4667-83aa-2cb04014dff8",
   "metadata": {},
   "outputs": [],
   "source": []
  },
  {
   "cell_type": "code",
   "execution_count": null,
   "id": "dd1d7a41-e66a-4b6f-8092-3a6dcbe0da11",
   "metadata": {},
   "outputs": [],
   "source": []
  }
 ],
 "metadata": {
  "kernelspec": {
   "display_name": "Python 3 (ipykernel)",
   "language": "python",
   "name": "python3"
  },
  "language_info": {
   "codemirror_mode": {
    "name": "ipython",
    "version": 3
   },
   "file_extension": ".py",
   "mimetype": "text/x-python",
   "name": "python",
   "nbconvert_exporter": "python",
   "pygments_lexer": "ipython3",
   "version": "3.9.12"
  }
 },
 "nbformat": 4,
 "nbformat_minor": 5
}

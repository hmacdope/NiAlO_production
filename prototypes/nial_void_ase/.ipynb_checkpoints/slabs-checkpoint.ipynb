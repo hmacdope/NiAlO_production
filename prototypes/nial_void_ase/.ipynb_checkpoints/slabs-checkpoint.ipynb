{
 "cells": [
  {
   "cell_type": "code",
   "execution_count": 6,
   "id": "5d61db90-fff7-4edd-b571-a7dc208a37b6",
   "metadata": {},
   "outputs": [],
   "source": [
    "import ase\n",
    "from ase.build import bulk\n",
    "from ase.visualize import view\n"
   ]
  },
  {
   "cell_type": "code",
   "execution_count": 3,
   "id": "57d96862-b30c-43be-9b42-75b63ac5c3c1",
   "metadata": {},
   "outputs": [],
   "source": [
    "a1 = bulk('Al', 'fcc', a=4.064)"
   ]
  },
  {
   "cell_type": "code",
   "execution_count": 8,
   "id": "2627c298-161b-4f3b-a7fe-2b5b6bcaca1e",
   "metadata": {},
   "outputs": [
    {
     "data": {
      "application/vnd.jupyter.widget-view+json": {
       "model_id": "736044710c64487ca45258ad31f8fc9b",
       "version_major": 2,
       "version_minor": 0
      },
      "text/plain": []
     },
     "metadata": {},
     "output_type": "display_data"
    },
    {
     "data": {
      "application/vnd.jupyter.widget-view+json": {
       "model_id": "a37cd9af84e8413da870a250d1fc0cd4",
       "version_major": 2,
       "version_minor": 0
      },
      "text/plain": [
       "HBox(children=(NGLWidget(), VBox(children=(Dropdown(description='Show', options=('All', 'Al'), value='All'), D…"
      ]
     },
     "metadata": {},
     "output_type": "display_data"
    }
   ],
   "source": [
    "v = view(a1,viewer='ngl')\n",
    "v"
   ]
  },
  {
   "cell_type": "code",
   "execution_count": null,
   "id": "0b8a7ad5-464f-4e1f-a11e-18563b93e624",
   "metadata": {},
   "outputs": [],
   "source": []
  }
 ],
 "metadata": {
  "kernelspec": {
   "display_name": "Python 3 (ipykernel)",
   "language": "python",
   "name": "python3"
  },
  "language_info": {
   "codemirror_mode": {
    "name": "ipython",
    "version": 3
   },
   "file_extension": ".py",
   "mimetype": "text/x-python",
   "name": "python",
   "nbconvert_exporter": "python",
   "pygments_lexer": "ipython3",
   "version": "3.9.12"
  }
 },
 "nbformat": 4,
 "nbformat_minor": 5
}

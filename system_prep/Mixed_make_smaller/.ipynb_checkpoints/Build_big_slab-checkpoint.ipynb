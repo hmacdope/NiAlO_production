{
 "cells": [
  {
   "cell_type": "code",
   "execution_count": 1,
   "id": "74bc23c8-3b39-4ad7-b8f0-88109c5bc5b0",
   "metadata": {},
   "outputs": [
    {
     "data": {
      "application/vnd.jupyter.widget-view+json": {
       "model_id": "573e7758bffb4cf6ad3f277cd6307d0d",
       "version_major": 2,
       "version_minor": 0
      },
      "text/plain": []
     },
     "metadata": {},
     "output_type": "display_data"
    }
   ],
   "source": [
    "\n",
    "import ase\n",
    "import numpy as np\n",
    "from ase.visualize import view\n",
    "from ase.io import read, write\n",
    "from ase.io import cif, vasp, lammpsdata\n",
    "from ase.build import make_supercell, sort, add_adsorbate, add_vacuum\n",
    "import nglview"
   ]
  },
  {
   "cell_type": "code",
   "execution_count": 2,
   "id": "45bc7b7e-5c95-41c2-82bc-7c90275fcf4e",
   "metadata": {},
   "outputs": [
    {
     "data": {
      "text/plain": [
       "60"
      ]
     },
     "execution_count": 2,
     "metadata": {},
     "output_type": "execute_result"
    }
   ],
   "source": [
    "atoms = vasp.read_vasp('orthorhombic.POSCAR.vasp')\n",
    "len(atoms)"
   ]
  },
  {
   "cell_type": "code",
   "execution_count": 3,
   "id": "f20cbf67-1529-442d-85f2-cb5879791064",
   "metadata": {},
   "outputs": [
    {
     "data": {
      "application/vnd.jupyter.widget-view+json": {
       "model_id": "c331d16a026a4936940a3af7f8c4888e",
       "version_major": 2,
       "version_minor": 0
      },
      "text/plain": [
       "HBox(children=(NGLWidget(), VBox(children=(Dropdown(description='Show', options=('All', 'Al', 'O'), value='All…"
      ]
     },
     "metadata": {},
     "output_type": "display_data"
    }
   ],
   "source": [
    "v = view(atoms, viewer='ngl')\n",
    "v"
   ]
  },
  {
   "cell_type": "code",
   "execution_count": 4,
   "id": "e8ede418-19af-4463-9b68-ec80e4627415",
   "metadata": {},
   "outputs": [
    {
     "data": {
      "text/plain": [
       "Cell([4.8050279617, 4.8050279617, 13.1162538528])"
      ]
     },
     "execution_count": 4,
     "metadata": {},
     "output_type": "execute_result"
    }
   ],
   "source": [
    "atoms.cell"
   ]
  },
  {
   "cell_type": "code",
   "execution_count": 5,
   "id": "d81c5cc0-b75e-4382-b063-9b2960ee39b2",
   "metadata": {},
   "outputs": [
    {
     "data": {
      "text/plain": [
       "4.8050279617"
      ]
     },
     "execution_count": 5,
     "metadata": {},
     "output_type": "execute_result"
    }
   ],
   "source": [
    "a = atoms.cell[0][0]\n",
    "a"
   ]
  },
  {
   "cell_type": "code",
   "execution_count": 6,
   "id": "6095ead5-f89e-4934-b0eb-bc62a9eb094e",
   "metadata": {},
   "outputs": [
    {
     "data": {
      "text/plain": [
       "4.8050279617"
      ]
     },
     "execution_count": 6,
     "metadata": {},
     "output_type": "execute_result"
    }
   ],
   "source": [
    "b = atoms.cell[1][1]\n",
    "b"
   ]
  },
  {
   "cell_type": "code",
   "execution_count": 7,
   "id": "667d13b3-6d10-419c-a580-dd738df31786",
   "metadata": {},
   "outputs": [
    {
     "data": {
      "text/plain": [
       "13.1162538528"
      ]
     },
     "execution_count": 7,
     "metadata": {},
     "output_type": "execute_result"
    }
   ],
   "source": [
    "c = atoms.cell[2][2]\n",
    "c"
   ]
  },
  {
   "cell_type": "code",
   "execution_count": 8,
   "id": "ed1ac779-3d75-4ffb-9fc0-31cc4aec1d2c",
   "metadata": {},
   "outputs": [
    {
     "data": {
      "text/plain": [
       "array([[ 0.        ,  0.        ,  1.93994633],\n",
       "       [ 0.        ,  0.        , 11.17630772],\n",
       "       [ 1.60167589,  3.20335207,  0.24609594],\n",
       "       [ 3.20335207,  1.60167589, 12.8701582 ],\n",
       "       [ 1.60167589,  3.20335207,  4.12598832],\n",
       "       [ 3.20335207,  1.60167589,  8.99026516],\n",
       "       [ 3.20335207,  1.60167603,  2.43213823],\n",
       "       [ 1.60167589,  3.20335178, 10.68411562],\n",
       "       [ 3.20335207,  1.60167603,  6.31203088],\n",
       "       [ 1.60167589,  3.20335178,  6.80422337],\n",
       "       [ 0.        ,  0.        ,  4.6181804 ],\n",
       "       [ 0.        ,  0.        ,  8.49807383],\n",
       "       [ 0.        ,  0.        ,  8.49807227],\n",
       "       [ 0.        ,  0.        ,  4.61818158],\n",
       "       [ 1.60167589,  3.20335207,  6.80422258],\n",
       "       [ 3.20335207,  1.60167589,  6.31203127],\n",
       "       [ 1.60167589,  3.20335207, 10.68411562],\n",
       "       [ 3.20335207,  1.60167589,  2.43213823],\n",
       "       [ 3.20335207,  1.60167603,  8.99026516],\n",
       "       [ 1.60167589,  3.20335178,  4.1259887 ],\n",
       "       [ 3.20335207,  1.60167603, 12.8701582 ],\n",
       "       [ 1.60167589,  3.20335178,  0.24609565],\n",
       "       [ 0.        ,  0.        , 11.17630772],\n",
       "       [ 0.        ,  0.        ,  1.93994613],\n",
       "       [ 1.47104007,  0.        ,  3.27906346],\n",
       "       [ 3.33398775,  0.        ,  9.83719039],\n",
       "       [ 3.20335207,  0.13063589,  1.09302099],\n",
       "       [ 1.60167589,  4.674392  , 12.02323297],\n",
       "       [ 0.        ,  1.47104007,  3.27906346],\n",
       "       [ 0.        ,  3.33398775,  9.83719039],\n",
       "       [ 3.33398775,  3.33398775,  3.27906346],\n",
       "       [ 1.47104022,  1.47104022,  9.83719039],\n",
       "       [ 4.67439228,  3.0727161 ,  1.09302099],\n",
       "       [ 0.13063568,  1.73231186, 12.02323297],\n",
       "       [ 1.73231186,  1.60167603,  1.09302099],\n",
       "       [ 3.0727161 ,  3.20335178, 12.02323297],\n",
       "       [ 4.67439228,  1.60167603,  7.65114781],\n",
       "       [ 0.13063568,  3.20335178,  5.46510604],\n",
       "       [ 1.60167603,  1.732312  ,  5.46510565],\n",
       "       [ 3.20335178,  3.07271582,  7.6511486 ],\n",
       "       [ 3.20335207,  3.0727161 ,  7.65114781],\n",
       "       [ 1.60167589,  1.73231186,  5.46510604],\n",
       "       [ 1.73231186,  0.13063589,  7.65114781],\n",
       "       [ 3.0727161 ,  4.674392  ,  5.46510604],\n",
       "       [ 3.0727161 ,  4.67439228,  5.46510565],\n",
       "       [ 1.73231186,  0.13063568,  7.6511486 ],\n",
       "       [ 0.13063589,  3.20335207,  5.46510565],\n",
       "       [ 4.674392  ,  1.60167589,  7.6511486 ],\n",
       "       [ 3.0727161 ,  3.20335207, 12.02323374],\n",
       "       [ 1.73231186,  1.60167589,  1.09302011],\n",
       "       [ 0.        ,  3.33398775,  9.83719039],\n",
       "       [ 0.        ,  1.47104022,  3.27906346],\n",
       "       [ 1.60167618,  4.67439228, 12.02323374],\n",
       "       [ 3.20335178,  0.13063568,  1.09302011],\n",
       "       [ 0.1306359 ,  1.732312  , 12.02323374],\n",
       "       [ 4.674392  ,  3.07271582,  1.09302011],\n",
       "       [ 1.47104007,  1.47104007,  9.83719039],\n",
       "       [ 3.33398775,  3.33398775,  3.27906346],\n",
       "       [ 3.33398775,  0.        ,  9.83719039],\n",
       "       [ 1.47104022,  0.        ,  3.27906346]])"
      ]
     },
     "execution_count": 8,
     "metadata": {},
     "output_type": "execute_result"
    }
   ],
   "source": [
    "atoms.positions"
   ]
  },
  {
   "cell_type": "code",
   "execution_count": 9,
   "id": "ce1eb83d-f09d-4e52-9a14-bf98f5a37cb2",
   "metadata": {},
   "outputs": [],
   "source": [
    "unique = np.unique(atoms.positions.round(decimals=3), axis=0)"
   ]
  },
  {
   "cell_type": "code",
   "execution_count": 10,
   "id": "ec3843a0-75ac-4588-bfbb-fc0f0e06aca7",
   "metadata": {},
   "outputs": [
    {
     "data": {
      "text/plain": [
       "30"
      ]
     },
     "execution_count": 10,
     "metadata": {},
     "output_type": "execute_result"
    }
   ],
   "source": [
    "len(unique)"
   ]
  },
  {
   "cell_type": "code",
   "execution_count": 11,
   "id": "c08e9dfd-e7bd-4cfb-a6fd-2a8bd3636a8a",
   "metadata": {},
   "outputs": [],
   "source": [
    "Al = atoms[0:12]"
   ]
  },
  {
   "cell_type": "code",
   "execution_count": 12,
   "id": "1d543efb-6ba7-4184-a7d2-b1c17516439e",
   "metadata": {},
   "outputs": [
    {
     "data": {
      "application/vnd.jupyter.widget-view+json": {
       "model_id": "0d967e9284374ef49f03c15f574f6ef3",
       "version_major": 2,
       "version_minor": 0
      },
      "text/plain": [
       "HBox(children=(NGLWidget(), VBox(children=(Dropdown(description='Show', options=('All', 'Al'), value='All'), D…"
      ]
     },
     "metadata": {},
     "output_type": "display_data"
    }
   ],
   "source": [
    "v = view(Al, viewer='ngl')\n",
    "v"
   ]
  },
  {
   "cell_type": "code",
   "execution_count": 13,
   "id": "72105178-b80c-44c9-9ae2-dc43fbe2a334",
   "metadata": {},
   "outputs": [
    {
     "data": {
      "text/plain": [
       "Atoms(symbols='O18', pbc=True, cell=[4.8050279617, 4.8050279617, 13.1162538528])"
      ]
     },
     "execution_count": 13,
     "metadata": {},
     "output_type": "execute_result"
    }
   ],
   "source": [
    "O = atoms[24:24+18]\n",
    "O"
   ]
  },
  {
   "cell_type": "code",
   "execution_count": 14,
   "id": "ef02bf0d-0c17-4311-b81e-c56bd947fabb",
   "metadata": {},
   "outputs": [
    {
     "data": {
      "application/vnd.jupyter.widget-view+json": {
       "model_id": "19b4508dc5b84fc39e52bde95e37e888",
       "version_major": 2,
       "version_minor": 0
      },
      "text/plain": [
       "HBox(children=(NGLWidget(), VBox(children=(Dropdown(description='Show', options=('All', 'O'), value='All'), Dr…"
      ]
     },
     "metadata": {},
     "output_type": "display_data"
    }
   ],
   "source": [
    "v = view(O, viewer='ngl')\n",
    "v"
   ]
  },
  {
   "cell_type": "code",
   "execution_count": 15,
   "id": "424d0b83-dcb0-4a59-9bbd-d5512b6a143f",
   "metadata": {},
   "outputs": [
    {
     "data": {
      "text/plain": [
       "Atoms(symbols='Al12O18', pbc=True, cell=[4.8050279617, 4.8050279617, 13.1162538528])"
      ]
     },
     "execution_count": 15,
     "metadata": {},
     "output_type": "execute_result"
    }
   ],
   "source": [
    "combined = Al + O\n",
    "combined"
   ]
  },
  {
   "cell_type": "code",
   "execution_count": 16,
   "id": "50baf1bd-94eb-45b4-8a13-7544765d2554",
   "metadata": {},
   "outputs": [],
   "source": [
    "lammpsdata.write_lammps_data(\"Al2O3_small.data\", combined)"
   ]
  },
  {
   "cell_type": "code",
   "execution_count": 17,
   "id": "8c384aa4-a9ff-4e34-bd16-f4b05135152c",
   "metadata": {},
   "outputs": [
    {
     "data": {
      "text/plain": [
       "Cell([4.8050279617, 4.8050279617, 13.1162538528])"
      ]
     },
     "execution_count": 17,
     "metadata": {},
     "output_type": "execute_result"
    }
   ],
   "source": [
    "cell = combined.cell\n",
    "cell"
   ]
  },
  {
   "cell_type": "code",
   "execution_count": 18,
   "id": "a137f568-3f07-4768-a8f8-a76312eb16d6",
   "metadata": {},
   "outputs": [
    {
     "name": "stdout",
     "output_type": "stream",
     "text": [
      "20.81153341813653\n"
     ]
    },
    {
     "data": {
      "text/plain": [
       "21"
      ]
     },
     "execution_count": 18,
     "metadata": {},
     "output_type": "execute_result"
    }
   ],
   "source": [
    "a = cell[0][0]\n",
    "target_a = 100\n",
    "scalfac_a = target_a/a\n",
    "print(scalfac_a)\n",
    "round(scalfac_a)"
   ]
  },
  {
   "cell_type": "code",
   "execution_count": 19,
   "id": "5e9124a9-0979-44b7-b991-1ba933785a03",
   "metadata": {},
   "outputs": [
    {
     "name": "stdout",
     "output_type": "stream",
     "text": [
      "20.81153341813653\n"
     ]
    },
    {
     "data": {
      "text/plain": [
       "21"
      ]
     },
     "execution_count": 19,
     "metadata": {},
     "output_type": "execute_result"
    }
   ],
   "source": [
    "b = cell[1][1]\n",
    "target_b = 100\n",
    "scalfac_b = target_b/b\n",
    "print(scalfac_b)\n",
    "round(scalfac_b)"
   ]
  },
  {
   "cell_type": "code",
   "execution_count": 20,
   "id": "efd6be2d-c4b0-42af-a8f7-767c2d779ed5",
   "metadata": {},
   "outputs": [
    {
     "name": "stdout",
     "output_type": "stream",
     "text": [
      "2.1347558772677067\n"
     ]
    },
    {
     "data": {
      "text/plain": [
       "2"
      ]
     },
     "execution_count": 20,
     "metadata": {},
     "output_type": "execute_result"
    }
   ],
   "source": [
    "c = cell[2][2]\n",
    "target_c = 28\n",
    "scalfac_c = target_c/c\n",
    "print(scalfac_c)\n",
    "round(scalfac_c)"
   ]
  },
  {
   "cell_type": "code",
   "execution_count": 21,
   "id": "8a51f97e-c8c5-4352-af99-6c402a91db82",
   "metadata": {},
   "outputs": [
    {
     "data": {
      "text/plain": [
       "array([[21.,  0.,  0.],\n",
       "       [ 0., 21.,  0.],\n",
       "       [ 0.,  0.,  2.]])"
      ]
     },
     "execution_count": 21,
     "metadata": {},
     "output_type": "execute_result"
    }
   ],
   "source": [
    "Tmatrix = np.eye(3)\n",
    "Tmatrix[0,0] = round(scalfac_a)\n",
    "Tmatrix[1,1] = round(scalfac_b)\n",
    "Tmatrix[2,2] = round(scalfac_c)\n",
    "Tmatrix"
   ]
  },
  {
   "cell_type": "code",
   "execution_count": 22,
   "id": "39221a1f-d6cb-408a-b8ea-258896bbdefd",
   "metadata": {},
   "outputs": [],
   "source": [
    "supercell = ase.build.make_supercell(combined, Tmatrix)"
   ]
  },
  {
   "cell_type": "code",
   "execution_count": 23,
   "id": "800c29dd-ddd8-438c-a5cc-86b6c00f0d3b",
   "metadata": {},
   "outputs": [
    {
     "data": {
      "application/vnd.jupyter.widget-view+json": {
       "model_id": "a409d6b722cd49a0a527665623a9e1bd",
       "version_major": 2,
       "version_minor": 0
      },
      "text/plain": [
       "HBox(children=(NGLWidget(), VBox(children=(Dropdown(description='Show', options=('All', 'Al', 'O'), value='All…"
      ]
     },
     "metadata": {},
     "output_type": "display_data"
    }
   ],
   "source": [
    "v = view(supercell, viewer='ngl')\n",
    "v"
   ]
  },
  {
   "cell_type": "code",
   "execution_count": 24,
   "id": "6b566640-190b-4901-95ef-4d745ed70e64",
   "metadata": {},
   "outputs": [],
   "source": [
    "from ase.build import bulk"
   ]
  },
  {
   "cell_type": "code",
   "execution_count": 25,
   "id": "71bb6b7d-1f85-4d9e-8404-5709b94e4635",
   "metadata": {},
   "outputs": [],
   "source": [
    "NiO_primitive = bulk(\"NiO\", a=4.22, crystalstructure=\"rocksalt\", orthorhombic=True)"
   ]
  },
  {
   "cell_type": "code",
   "execution_count": 26,
   "id": "1652a75a-7042-4dbd-b8ad-bc6e23c84a4c",
   "metadata": {},
   "outputs": [],
   "source": [
    "NiO_cell = NiO_primitive.cell"
   ]
  },
  {
   "cell_type": "code",
   "execution_count": 27,
   "id": "3cf58399-38e4-4eb1-a2e3-ad4db54ffa2d",
   "metadata": {},
   "outputs": [
    {
     "name": "stdout",
     "output_type": "stream",
     "text": [
      "33.512169724480934\n"
     ]
    },
    {
     "data": {
      "text/plain": [
       "34"
      ]
     },
     "execution_count": 27,
     "metadata": {},
     "output_type": "execute_result"
    }
   ],
   "source": [
    "NiO_a = NiO_cell[0][0]\n",
    "target_a = 100\n",
    "nio_scalfac_a = target_a/NiO_a\n",
    "print(nio_scalfac_a)\n",
    "round(nio_scalfac_a)"
   ]
  },
  {
   "cell_type": "code",
   "execution_count": 28,
   "id": "a4842967-4055-44e4-9cd9-6e1f5fc2c0ad",
   "metadata": {},
   "outputs": [
    {
     "name": "stdout",
     "output_type": "stream",
     "text": [
      "33.512169724480934\n"
     ]
    },
    {
     "data": {
      "text/plain": [
       "34"
      ]
     },
     "execution_count": 28,
     "metadata": {},
     "output_type": "execute_result"
    }
   ],
   "source": [
    "Nio_b = NiO_cell[1][1]\n",
    "target_b = 100\n",
    "Nio_scalfac_b = target_b/Nio_b\n",
    "print(Nio_scalfac_b)\n",
    "round(Nio_scalfac_b)"
   ]
  },
  {
   "cell_type": "code",
   "execution_count": 29,
   "id": "496c860d-a78e-46af-ba66-703957bae853",
   "metadata": {},
   "outputs": [
    {
     "name": "stdout",
     "output_type": "stream",
     "text": [
      "13.270142180094787\n"
     ]
    },
    {
     "data": {
      "text/plain": [
       "13"
      ]
     },
     "execution_count": 29,
     "metadata": {},
     "output_type": "execute_result"
    }
   ],
   "source": [
    "Nio_c = NiO_cell[2][2]\n",
    "target_c = 56\n",
    "NiO_scalfac_c = target_c/Nio_c\n",
    "print(NiO_scalfac_c)\n",
    "round(NiO_scalfac_c)"
   ]
  },
  {
   "cell_type": "code",
   "execution_count": 30,
   "id": "43c34181-e4d6-40be-8ea7-dbc4deca60a4",
   "metadata": {},
   "outputs": [
    {
     "data": {
      "text/plain": [
       "array([[35.,  0.,  0.],\n",
       "       [ 0., 35.,  0.],\n",
       "       [ 0.,  0., 14.]])"
      ]
     },
     "execution_count": 30,
     "metadata": {},
     "output_type": "execute_result"
    }
   ],
   "source": [
    "# add extras to account for slight contraction \n",
    "Tmatrix = np.eye(3)\n",
    "Tmatrix[0,0] = round(nio_scalfac_a) +1 \n",
    "Tmatrix[1,1] = round(Nio_scalfac_b) +1 \n",
    "Tmatrix[2,2] = round(NiO_scalfac_c) +1 \n",
    "Tmatrix"
   ]
  },
  {
   "cell_type": "code",
   "execution_count": 31,
   "id": "45129b5b-21c6-4ab0-af62-9d5f648ec315",
   "metadata": {},
   "outputs": [],
   "source": [
    "Nio = ase.build.make_supercell(NiO_primitive, Tmatrix)"
   ]
  },
  {
   "cell_type": "code",
   "execution_count": 32,
   "id": "b43b0025-a5da-4f76-a33e-57790b63edca",
   "metadata": {},
   "outputs": [],
   "source": [
    "trans = np.zeros_like(supercell.positions)\n",
    "trans[:,2] += (20 + Nio.cell[2][2])\n",
    "supercell.set_positions(supercell.positions + trans)\n",
    "combined_slabs = supercell + Nio\n",
    "combined_slabs.cell[2][2] += (20 +Nio.cell[2][2])\n",
    "combined_slabs.cell[0][0] += 2\n",
    "combined_slabs.write(\"gapped.xyz\")"
   ]
  },
  {
   "cell_type": "code",
   "execution_count": 33,
   "id": "2c4316f2-e0dd-4b91-8068-8c8726f09ff3",
   "metadata": {},
   "outputs": [
    {
     "data": {
      "application/vnd.jupyter.widget-view+json": {
       "model_id": "067094d8779347609653271fd8d9dd0e",
       "version_major": 2,
       "version_minor": 0
      },
      "text/plain": [
       "HBox(children=(NGLWidget(), VBox(children=(Dropdown(description='Show', options=('All', 'Ni', 'Al', 'O'), valu…"
      ]
     },
     "metadata": {},
     "output_type": "display_data"
    }
   ],
   "source": [
    "view(combined_slabs, viewer='ngl')"
   ]
  },
  {
   "cell_type": "code",
   "execution_count": 34,
   "id": "7f3fbc5e-5031-49c8-8ffa-64fd93340108",
   "metadata": {},
   "outputs": [
    {
     "data": {
      "application/vnd.jupyter.widget-view+json": {
       "model_id": "9b7bc3f3a7524fc29eace6db9d89d5b5",
       "version_major": 2,
       "version_minor": 0
      },
      "text/plain": [
       "HBox(children=(NGLWidget(), VBox(children=(Dropdown(description='Show', options=('All', 'Ni', 'O'), value='All…"
      ]
     },
     "metadata": {},
     "output_type": "display_data"
    }
   ],
   "source": [
    "view(Nio, viewer='ngl')"
   ]
  },
  {
   "cell_type": "code",
   "execution_count": 35,
   "id": "7069be5a-7e6e-4507-b1c7-f0fc8313f6da",
   "metadata": {},
   "outputs": [
    {
     "data": {
      "text/plain": [
       "Cell([2.4946727240261395, 2.4946727240261395, 3.528])"
      ]
     },
     "execution_count": 35,
     "metadata": {},
     "output_type": "execute_result"
    }
   ],
   "source": [
    "NiPrimitive = bulk('Ni', 'fcc', a=3.528, orthorhombic=True)\n",
    "NiPrimitive.cell"
   ]
  },
  {
   "cell_type": "code",
   "execution_count": 36,
   "id": "1909318c-3dfe-4052-92ac-9e9fb1989cf2",
   "metadata": {},
   "outputs": [],
   "source": [
    "NiPrimitive_a_b = NiPrimitive.cell[0][0]\n",
    "NiPrimitive_c = NiPrimitive.cell[2][2]"
   ]
  },
  {
   "cell_type": "code",
   "execution_count": 37,
   "id": "736279c7-0708-4535-a922-a90e75c8ac33",
   "metadata": {},
   "outputs": [
    {
     "data": {
      "application/vnd.jupyter.widget-view+json": {
       "model_id": "eef0ee58540c4590a8da77a5ec41b188",
       "version_major": 2,
       "version_minor": 0
      },
      "text/plain": [
       "HBox(children=(NGLWidget(), VBox(children=(Dropdown(description='Show', options=('All', 'Ni'), value='All'), D…"
      ]
     },
     "metadata": {},
     "output_type": "display_data"
    }
   ],
   "source": [
    "v = view(NiPrimitive, viewer='ngl')\n",
    "v"
   ]
  },
  {
   "cell_type": "code",
   "execution_count": 38,
   "id": "3cea861f-02d4-42a1-9848-98cde3148fec",
   "metadata": {},
   "outputs": [
    {
     "data": {
      "text/plain": [
       "41"
      ]
     },
     "execution_count": 38,
     "metadata": {},
     "output_type": "execute_result"
    }
   ],
   "source": [
    "target_height  = 101.8\n",
    "repeats_ni_a_b =  round(target_height/NiPrimitive_a_b)\n",
    "repeats_ni_a_b"
   ]
  },
  {
   "cell_type": "code",
   "execution_count": 39,
   "id": "73aa8106-e51a-4832-a8b3-eedb5d306d71",
   "metadata": {},
   "outputs": [
    {
     "data": {
      "text/plain": [
       "32"
      ]
     },
     "execution_count": 39,
     "metadata": {},
     "output_type": "execute_result"
    }
   ],
   "source": [
    "target_width_ni = 56\n",
    "repeats_ni_c = 2*round(target_width_ni/NiPrimitive_c)\n",
    "repeats_ni_c"
   ]
  },
  {
   "cell_type": "code",
   "execution_count": 40,
   "id": "095d3abd-c4aa-43b9-8cb0-f42d198f6103",
   "metadata": {},
   "outputs": [
    {
     "data": {
      "text/plain": [
       "Cell([2.873681958742129, 2.873681958742129, 4.064])"
      ]
     },
     "execution_count": 40,
     "metadata": {},
     "output_type": "execute_result"
    }
   ],
   "source": [
    "AlPrimitive = bulk('Al', 'fcc', a=4.064, orthorhombic=True)\n",
    "AlPrimitive.cell"
   ]
  },
  {
   "cell_type": "code",
   "execution_count": 41,
   "id": "6408fd45-0ee5-4642-893b-4395d8f4f58d",
   "metadata": {},
   "outputs": [],
   "source": [
    "AlPrimitive_a_b = AlPrimitive.cell[0][0]\n",
    "AlPrimitive_c = AlPrimitive.cell[2][2]"
   ]
  },
  {
   "cell_type": "code",
   "execution_count": 42,
   "id": "3989c2df-ddde-448a-afcc-7767af05152f",
   "metadata": {},
   "outputs": [
    {
     "data": {
      "text/plain": [
       "35"
      ]
     },
     "execution_count": 42,
     "metadata": {},
     "output_type": "execute_result"
    }
   ],
   "source": [
    "repeats_al_a_b =  round(target_height/AlPrimitive_a_b)\n",
    "repeats_al_a_b"
   ]
  },
  {
   "cell_type": "code",
   "execution_count": 43,
   "id": "82df71a9-dfd5-401a-8f06-3330ee210aff",
   "metadata": {},
   "outputs": [
    {
     "data": {
      "text/plain": [
       "14"
      ]
     },
     "execution_count": 43,
     "metadata": {},
     "output_type": "execute_result"
    }
   ],
   "source": [
    "target_width_al = 28\n",
    "repeats_al_c = 2*round(target_width_al/AlPrimitive_c)\n",
    "repeats_al_c"
   ]
  },
  {
   "cell_type": "code",
   "execution_count": 44,
   "id": "3eb3fae3-53b1-4e24-8ec2-127e4635f978",
   "metadata": {},
   "outputs": [],
   "source": [
    "nisalb = ase.build.fcc100(\"Ni\", (repeats_ni_a_b, repeats_ni_a_b, repeats_ni_c), a=3.528, vacuum=1.0, orthogonal=True, periodic=True)"
   ]
  },
  {
   "cell_type": "code",
   "execution_count": 45,
   "id": "1195d45e-5b21-421c-a3ed-3973377738b9",
   "metadata": {},
   "outputs": [
    {
     "data": {
      "text/plain": [
       "Cell([102.28158168507174, 102.28158168507174, 56.684])"
      ]
     },
     "execution_count": 45,
     "metadata": {},
     "output_type": "execute_result"
    }
   ],
   "source": [
    "nisalb.cell"
   ]
  },
  {
   "cell_type": "code",
   "execution_count": 46,
   "id": "6d317242-a67b-4b21-a089-9ffe5aa9361f",
   "metadata": {},
   "outputs": [
    {
     "data": {
      "application/vnd.jupyter.widget-view+json": {
       "model_id": "ef75d1cef7274481b6fdaddeb33e1b95",
       "version_major": 2,
       "version_minor": 0
      },
      "text/plain": [
       "HBox(children=(NGLWidget(), VBox(children=(Dropdown(description='Show', options=('All', 'Ni'), value='All'), D…"
      ]
     },
     "metadata": {},
     "output_type": "display_data"
    }
   ],
   "source": [
    "v = view(nisalb, viewer='ngl')\n",
    "v"
   ]
  },
  {
   "cell_type": "code",
   "execution_count": 47,
   "id": "ed437abc-d526-4028-869c-1a00ac3fca17",
   "metadata": {},
   "outputs": [],
   "source": [
    "alsalb = ase.build.fcc100(\"Al\", (repeats_al_a_b, repeats_al_a_b, repeats_al_c), a=4.064, vacuum=1.0, orthogonal=True, periodic=True)"
   ]
  },
  {
   "cell_type": "code",
   "execution_count": 48,
   "id": "7914460b-b198-44a4-b810-4ecab49178c3",
   "metadata": {},
   "outputs": [
    {
     "data": {
      "text/plain": [
       "Cell([100.57886855597452, 100.57886855597452, 28.416])"
      ]
     },
     "execution_count": 48,
     "metadata": {},
     "output_type": "execute_result"
    }
   ],
   "source": [
    "alsalb.cell"
   ]
  },
  {
   "cell_type": "code",
   "execution_count": 49,
   "id": "e499b9cb-e3e2-49a4-8264-703f5b835d71",
   "metadata": {},
   "outputs": [
    {
     "data": {
      "application/vnd.jupyter.widget-view+json": {
       "model_id": "d9355e47520c4d9bb77d189517418cad",
       "version_major": 2,
       "version_minor": 0
      },
      "text/plain": [
       "HBox(children=(NGLWidget(), VBox(children=(Dropdown(description='Show', options=('All', 'Al'), value='All'), D…"
      ]
     },
     "metadata": {},
     "output_type": "display_data"
    }
   ],
   "source": [
    "v = view(alsalb, viewer='ngl')\n",
    "v"
   ]
  },
  {
   "cell_type": "code",
   "execution_count": 50,
   "id": "de1499d6-cd38-4187-a113-c57fc7facc25",
   "metadata": {},
   "outputs": [],
   "source": [
    "alsalb_half  = ase.build.fcc100(\"Al\", (repeats_al_a_b, repeats_al_a_b, repeats_al_c//2), a=4.064, vacuum=1.0, orthogonal=True, periodic=True)"
   ]
  },
  {
   "cell_type": "code",
   "execution_count": 51,
   "id": "3c719bc5-61f5-4b89-9279-b34716ba8fd7",
   "metadata": {},
   "outputs": [],
   "source": [
    "wafer = ase.build.stack(nisalb,alsalb, maxstrain=None)\n",
    "cap_left = alsalb"
   ]
  },
  {
   "cell_type": "code",
   "execution_count": 52,
   "id": "371e97cb-4e71-4e91-ae37-4a72f4edd180",
   "metadata": {},
   "outputs": [],
   "source": [
    "reverse_wafer = ase.build.stack(nisalb,alsalb, maxstrain=None)\n",
    "cap_right = nisalb"
   ]
  },
  {
   "cell_type": "code",
   "execution_count": 53,
   "id": "af757d49-cbab-492b-a459-bc6fd20b1358",
   "metadata": {
    "tags": []
   },
   "outputs": [
    {
     "data": {
      "application/vnd.jupyter.widget-view+json": {
       "model_id": "dc9c1b0b07744ec6b76508e41279e0a3",
       "version_major": 2,
       "version_minor": 0
      },
      "text/plain": [
       "HBox(children=(NGLWidget(), VBox(children=(Dropdown(description='Show', options=('All', 'Ni', 'Al'), value='Al…"
      ]
     },
     "metadata": {},
     "output_type": "display_data"
    }
   ],
   "source": [
    "v = view(wafer, viewer='ngl')\n",
    "v"
   ]
  },
  {
   "cell_type": "code",
   "execution_count": 54,
   "id": "c1a9abdb-c7bf-469a-8761-3727e74f4ee8",
   "metadata": {},
   "outputs": [
    {
     "data": {
      "application/vnd.jupyter.widget-view+json": {
       "model_id": "df72b2fd64f44c0e8049e355fc3c2c80",
       "version_major": 2,
       "version_minor": 0
      },
      "text/plain": [
       "HBox(children=(NGLWidget(), VBox(children=(Dropdown(description='Show', options=('All', 'Ni', 'Al'), value='Al…"
      ]
     },
     "metadata": {},
     "output_type": "display_data"
    }
   ],
   "source": [
    "v = view(reverse_wafer, viewer='ngl')\n",
    "v"
   ]
  },
  {
   "cell_type": "code",
   "execution_count": 55,
   "id": "57c5a9a1-796e-4a80-b15f-c38ae8ed14ce",
   "metadata": {},
   "outputs": [],
   "source": [
    "combined_wafer_left = ase.build.stack(wafer,wafer, maxstrain=None)\n",
    "combined_wafer_left = ase.build.stack(cap_left,combined_wafer_left, maxstrain=None)"
   ]
  },
  {
   "cell_type": "code",
   "execution_count": 56,
   "id": "16cd3ad8-93d1-498b-a477-a5357637b822",
   "metadata": {},
   "outputs": [
    {
     "data": {
      "application/vnd.jupyter.widget-view+json": {
       "model_id": "66f555fb547940ccb572e2da24a99e68",
       "version_major": 2,
       "version_minor": 0
      },
      "text/plain": [
       "HBox(children=(NGLWidget(), VBox(children=(Dropdown(description='Show', options=('All', 'Ni', 'Al'), value='Al…"
      ]
     },
     "metadata": {},
     "output_type": "display_data"
    }
   ],
   "source": [
    "v = view(combined_wafer_left, viewer='ngl')\n",
    "v"
   ]
  },
  {
   "cell_type": "code",
   "execution_count": 57,
   "id": "71b2e456-6249-4af0-b1e1-015669e7d0d4",
   "metadata": {},
   "outputs": [],
   "source": [
    "combined_wafer_right = ase.build.stack(reverse_wafer,reverse_wafer, maxstrain=None)\n",
    "combined_wafer_right = ase.build.stack(combined_wafer_right,cap_right, maxstrain=None)"
   ]
  },
  {
   "cell_type": "code",
   "execution_count": 58,
   "id": "3bb28b0e-3805-4a66-805f-3abae3947385",
   "metadata": {},
   "outputs": [
    {
     "data": {
      "application/vnd.jupyter.widget-view+json": {
       "model_id": "55e54a4ca9e04f4f8386e538709799c5",
       "version_major": 2,
       "version_minor": 0
      },
      "text/plain": [
       "HBox(children=(NGLWidget(), VBox(children=(Dropdown(description='Show', options=('All', 'Ni', 'Al'), value='Al…"
      ]
     },
     "metadata": {},
     "output_type": "display_data"
    }
   ],
   "source": [
    "v = view(combined_wafer_right, viewer='ngl')\n",
    "v"
   ]
  },
  {
   "cell_type": "code",
   "execution_count": 59,
   "id": "c862dcea-6192-4e99-921c-d19e89373ee5",
   "metadata": {},
   "outputs": [],
   "source": [
    "combined_including_al2O3 = ase.build.stack(combined_wafer_left,combined_slabs, maxstrain=None)\n"
   ]
  },
  {
   "cell_type": "code",
   "execution_count": 60,
   "id": "35a598b3-5605-4f8c-be91-3a7a18244f11",
   "metadata": {},
   "outputs": [
    {
     "data": {
      "application/vnd.jupyter.widget-view+json": {
       "model_id": "43ffd426ffd94fb992abed86d3f78c1e",
       "version_major": 2,
       "version_minor": 0
      },
      "text/plain": [
       "HBox(children=(NGLWidget(), VBox(children=(Dropdown(description='Show', options=('All', 'Ni', 'Al', 'O'), valu…"
      ]
     },
     "metadata": {},
     "output_type": "display_data"
    }
   ],
   "source": [
    "v = view(combined_including_al2O3, viewer='ngl')\n",
    "v"
   ]
  },
  {
   "cell_type": "code",
   "execution_count": 61,
   "id": "441861e2-5844-4857-899c-eb186e03da96",
   "metadata": {},
   "outputs": [],
   "source": [
    "combined_including_al2O3_both_sides = ase.build.stack(combined_including_al2O3,combined_wafer_right, maxstrain=None)\n"
   ]
  },
  {
   "cell_type": "code",
   "execution_count": 62,
   "id": "47322811-26a1-4027-b655-89a7ed4a815a",
   "metadata": {},
   "outputs": [
    {
     "data": {
      "application/vnd.jupyter.widget-view+json": {
       "model_id": "96a1c05e04f74fee99ade7066e633b4e",
       "version_major": 2,
       "version_minor": 0
      },
      "text/plain": [
       "HBox(children=(NGLWidget(), VBox(children=(Dropdown(description='Show', options=('All', 'Ni', 'Al', 'O'), valu…"
      ]
     },
     "metadata": {},
     "output_type": "display_data"
    }
   ],
   "source": [
    "v = view(combined_including_al2O3_both_sides, viewer='ngl')\n",
    "v"
   ]
  },
  {
   "cell_type": "code",
   "execution_count": null,
   "id": "11b8bec7-41b7-45f9-9578-2ca85f719153",
   "metadata": {},
   "outputs": [],
   "source": []
  },
  {
   "cell_type": "code",
   "execution_count": 63,
   "id": "266c732b-ee97-44a3-9f43-a726adaf3350",
   "metadata": {},
   "outputs": [
    {
     "name": "stderr",
     "output_type": "stream",
     "text": [
      "/home/hmacdope/anaconda3/envs/terry/lib/python3.9/site-packages/ase/io/extxyz.py:302: UserWarning: Skipping unhashable information adsorbate_info\n",
      "  warnings.warn('Skipping unhashable information '\n"
     ]
    }
   ],
   "source": [
    "\n",
    "lammpsdata.write_lammps_data(\"full_slab.data\", combined_including_al2O3_both_sides)\n",
    "combined_including_al2O3_both_sides.write(\"full_slab.xyz\")"
   ]
  },
  {
   "cell_type": "code",
   "execution_count": null,
   "id": "690fbfd3-e1be-4e63-b755-8764616c0e29",
   "metadata": {},
   "outputs": [],
   "source": []
  },
  {
   "cell_type": "code",
   "execution_count": 64,
   "id": "542fa494-9ace-42b3-aec6-25a0328c8c40",
   "metadata": {},
   "outputs": [
    {
     "data": {
      "text/plain": [
       "'Al96334Ni303260O50176'"
      ]
     },
     "execution_count": 64,
     "metadata": {},
     "output_type": "execute_result"
    }
   ],
   "source": [
    "formula = combined_including_al2O3_both_sides.get_chemical_formula()\n",
    "formula"
   ]
  },
  {
   "cell_type": "code",
   "execution_count": 68,
   "id": "42b55dc2-fbf2-4fe3-8394-06b45c21ef2a",
   "metadata": {},
   "outputs": [],
   "source": [
    " import re\n",
    "numbers = re.findall(r'\\d+', formula)\n",
    "Al = int(numbers[0])\n",
    "Ni = int(numbers[1])"
   ]
  },
  {
   "cell_type": "code",
   "execution_count": 69,
   "id": "651de7cb-3b00-4c91-896c-94acb7af5b60",
   "metadata": {},
   "outputs": [
    {
     "data": {
      "text/plain": [
       "3.1480058961529678"
      ]
     },
     "execution_count": 69,
     "metadata": {},
     "output_type": "execute_result"
    }
   ],
   "source": [
    "Ni/Al"
   ]
  },
  {
   "cell_type": "code",
   "execution_count": null,
   "id": "26dc8ed3-5d1e-443b-a567-6005d5951f2a",
   "metadata": {},
   "outputs": [],
   "source": []
  },
  {
   "cell_type": "code",
   "execution_count": null,
   "id": "d58183be-81f7-4716-a69c-0352900d70af",
   "metadata": {},
   "outputs": [],
   "source": []
  }
 ],
 "metadata": {
  "kernelspec": {
   "display_name": "Python 3 (ipykernel)",
   "language": "python",
   "name": "python3"
  },
  "language_info": {
   "codemirror_mode": {
    "name": "ipython",
    "version": 3
   },
   "file_extension": ".py",
   "mimetype": "text/x-python",
   "name": "python",
   "nbconvert_exporter": "python",
   "pygments_lexer": "ipython3",
   "version": "3.9.12"
  }
 },
 "nbformat": 4,
 "nbformat_minor": 5
}

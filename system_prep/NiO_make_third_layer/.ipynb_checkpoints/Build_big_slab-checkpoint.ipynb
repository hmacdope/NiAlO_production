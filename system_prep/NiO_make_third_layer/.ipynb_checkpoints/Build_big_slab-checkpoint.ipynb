{
 "cells": [
  {
   "cell_type": "code",
   "execution_count": 12,
   "id": "74bc23c8-3b39-4ad7-b8f0-88109c5bc5b0",
   "metadata": {},
   "outputs": [],
   "source": [
    "\n",
    "import ase\n",
    "import numpy as np\n",
    "from ase.visualize import view\n",
    "from ase.io import read, write\n",
    "from ase.io import cif, vasp, lammpsdata\n",
    "from ase.build import make_supercell, sort, add_adsorbate, add_vacuum, bulk\n",
    "import nglview"
   ]
  },
  {
   "cell_type": "code",
   "execution_count": 13,
   "id": "11d73673-6533-4b4c-81a0-123bbfe5c94f",
   "metadata": {},
   "outputs": [],
   "source": [
    "NiO_primitive = bulk(\"NiO\", a=4.22, crystalstructure=\"rocksalt\", orthorhombic=True)"
   ]
  },
  {
   "cell_type": "code",
   "execution_count": 14,
   "id": "e0d86cc2-f4b8-465e-9d77-6021dc8ae27c",
   "metadata": {},
   "outputs": [],
   "source": [
    "cell = NiO_primitive.cell"
   ]
  },
  {
   "cell_type": "code",
   "execution_count": 15,
   "id": "89160616-da97-4eac-aebd-cda11e7c5d18",
   "metadata": {},
   "outputs": [
    {
     "data": {
      "application/vnd.jupyter.widget-view+json": {
       "model_id": "1d5b9a16398446af8da4b4e752a45316",
       "version_major": 2,
       "version_minor": 0
      },
      "text/plain": [
       "HBox(children=(NGLWidget(), VBox(children=(Dropdown(description='Show', options=('All', 'O', 'Ni'), value='All…"
      ]
     },
     "metadata": {},
     "output_type": "display_data"
    }
   ],
   "source": [
    "view(NiO_primitive, viewer='ngl')"
   ]
  },
  {
   "cell_type": "code",
   "execution_count": 16,
   "id": "69cfa494-046a-4c3c-8027-77fe2324d075",
   "metadata": {},
   "outputs": [
    {
     "name": "stdout",
     "output_type": "stream",
     "text": [
      "33.512169724480934\n"
     ]
    },
    {
     "data": {
      "text/plain": [
       "34"
      ]
     },
     "execution_count": 16,
     "metadata": {},
     "output_type": "execute_result"
    }
   ],
   "source": [
    "a = cell[0][0]\n",
    "target_a = 100\n",
    "scalfac_a = target_a/a\n",
    "print(scalfac_a)\n",
    "round(scalfac_a)"
   ]
  },
  {
   "cell_type": "code",
   "execution_count": 17,
   "id": "3af85896-12ab-458e-9151-eb4ff25edf22",
   "metadata": {},
   "outputs": [
    {
     "name": "stdout",
     "output_type": "stream",
     "text": [
      "33.512169724480934\n"
     ]
    },
    {
     "data": {
      "text/plain": [
       "34"
      ]
     },
     "execution_count": 17,
     "metadata": {},
     "output_type": "execute_result"
    }
   ],
   "source": [
    "b = cell[1][1]\n",
    "target_b = 100\n",
    "scalfac_b = target_b/b\n",
    "print(scalfac_b)\n",
    "round(scalfac_b)"
   ]
  },
  {
   "cell_type": "code",
   "execution_count": 18,
   "id": "d473c5e0-f59e-4f34-82ba-092a7415fec3",
   "metadata": {},
   "outputs": [
    {
     "name": "stdout",
     "output_type": "stream",
     "text": [
      "13.270142180094787\n"
     ]
    },
    {
     "data": {
      "text/plain": [
       "13"
      ]
     },
     "execution_count": 18,
     "metadata": {},
     "output_type": "execute_result"
    }
   ],
   "source": [
    "c = cell[2][2]\n",
    "target_c = 56\n",
    "scalfac_c = target_c/c\n",
    "print(scalfac_c)\n",
    "round(scalfac_c)"
   ]
  },
  {
   "cell_type": "code",
   "execution_count": 19,
   "id": "6cc9181f-ad02-4c6f-9c76-c14bb4e401ca",
   "metadata": {},
   "outputs": [
    {
     "data": {
      "text/plain": [
       "array([[35.,  0.,  0.],\n",
       "       [ 0., 35.,  0.],\n",
       "       [ 0.,  0., 14.]])"
      ]
     },
     "execution_count": 19,
     "metadata": {},
     "output_type": "execute_result"
    }
   ],
   "source": [
    "# add extras to account for slight contraction \n",
    "Tmatrix = np.eye(3)\n",
    "Tmatrix[0,0] = round(scalfac_a) +1 \n",
    "Tmatrix[1,1] = round(scalfac_b) +1 \n",
    "Tmatrix[2,2] = round(scalfac_c) +1 \n",
    "Tmatrix"
   ]
  },
  {
   "cell_type": "code",
   "execution_count": 20,
   "id": "d3e83eb1-973e-4b1f-81e1-d1a2b3b5ec05",
   "metadata": {},
   "outputs": [],
   "source": [
    "supercell = ase.build.make_supercell(NiO_primitive, Tmatrix)"
   ]
  },
  {
   "cell_type": "code",
   "execution_count": 21,
   "id": "b483edb3-ca4b-4883-bccc-93090906cf9b",
   "metadata": {},
   "outputs": [
    {
     "data": {
      "application/vnd.jupyter.widget-view+json": {
       "model_id": "56fdb094c6fd425e991d4e7735fdcf31",
       "version_major": 2,
       "version_minor": 0
      },
      "text/plain": [
       "HBox(children=(NGLWidget(), VBox(children=(Dropdown(description='Show', options=('All', 'O', 'Ni'), value='All…"
      ]
     },
     "metadata": {},
     "output_type": "display_data"
    }
   ],
   "source": [
    "view(supercell, viewer='ngl')"
   ]
  },
  {
   "cell_type": "code",
   "execution_count": 22,
   "id": "6aaca3d1-8a54-4ef8-83c7-073b891cc50a",
   "metadata": {},
   "outputs": [],
   "source": [
    "lammpsdata.write_lammps_data(\"NiO_small.data\", supercell)"
   ]
  },
  {
   "cell_type": "code",
   "execution_count": 26,
   "id": "302868fa-f8ed-4d7c-8c1a-0831c98d9bc4",
   "metadata": {},
   "outputs": [],
   "source": [
    "NiPrimitive = bulk('Ni', 'fcc', a=3.528, orthorhombic=True)\n",
    "NiPrimitive.cell\n",
    "NiPrimitive_a_b = NiPrimitive.cell[0][0]\n",
    "NiPrimitive_c = NiPrimitive.cell[2][2]"
   ]
  },
  {
   "cell_type": "code",
   "execution_count": 27,
   "id": "8a128921-ffef-42f4-b2be-6014d51e26f1",
   "metadata": {},
   "outputs": [
    {
     "data": {
      "text/plain": [
       "40"
      ]
     },
     "execution_count": 27,
     "metadata": {},
     "output_type": "execute_result"
    }
   ],
   "source": [
    "target_height  = 100.\n",
    "repeats_ni_a_b =  round(target_height/NiPrimitive_a_b)\n",
    "repeats_ni_a_b"
   ]
  },
  {
   "cell_type": "code",
   "execution_count": 28,
   "id": "c4f087c1-61f8-4491-a204-3e13282955d9",
   "metadata": {},
   "outputs": [
    {
     "data": {
      "text/plain": [
       "32"
      ]
     },
     "execution_count": 28,
     "metadata": {},
     "output_type": "execute_result"
    }
   ],
   "source": [
    "target_width_ni = 56\n",
    "repeats_ni_c = 2*round(target_width_ni/NiPrimitive_c)\n",
    "repeats_ni_c"
   ]
  },
  {
   "cell_type": "code",
   "execution_count": 29,
   "id": "9f5a5f13-ee5e-40ae-93b4-6e3994a1d98e",
   "metadata": {},
   "outputs": [],
   "source": [
    "AlPrimitive = bulk('Al', 'fcc', a=4.064, orthorhombic=True)\n",
    "AlPrimitive.cell\n",
    "AlPrimitive_a_b = AlPrimitive.cell[0][0]\n",
    "AlPrimitive_c = AlPrimitive.cell[2][2]"
   ]
  },
  {
   "cell_type": "code",
   "execution_count": 30,
   "id": "92d30ff4-4d6f-4ddc-ad2a-50e51a7da3a5",
   "metadata": {},
   "outputs": [
    {
     "data": {
      "text/plain": [
       "35"
      ]
     },
     "execution_count": 30,
     "metadata": {},
     "output_type": "execute_result"
    }
   ],
   "source": [
    "repeats_al_a_b =  round(target_height/AlPrimitive_a_b)\n",
    "repeats_al_a_b"
   ]
  },
  {
   "cell_type": "code",
   "execution_count": 31,
   "id": "7d5d0e01-8284-481f-b155-eafe008f96c9",
   "metadata": {},
   "outputs": [
    {
     "data": {
      "text/plain": [
       "14"
      ]
     },
     "execution_count": 31,
     "metadata": {},
     "output_type": "execute_result"
    }
   ],
   "source": [
    "target_width_al = 28\n",
    "repeats_al_c = 2*round(target_width_al/AlPrimitive_c)\n",
    "repeats_al_c"
   ]
  },
  {
   "cell_type": "code",
   "execution_count": 32,
   "id": "92074ef1-e6dc-4441-b9b2-bd6c637fa53d",
   "metadata": {},
   "outputs": [],
   "source": [
    "nisalb = ase.build.fcc100(\"Ni\", (repeats_ni_a_b, repeats_ni_a_b, repeats_ni_c), a=3.528, vacuum=1.0, orthogonal=True, periodic=True)"
   ]
  },
  {
   "cell_type": "code",
   "execution_count": 33,
   "id": "d3646b7d-8139-4e82-bc8c-7960a65b23de",
   "metadata": {},
   "outputs": [
    {
     "data": {
      "text/plain": [
       "Cell([99.7869089610456, 99.7869089610456, 56.684])"
      ]
     },
     "execution_count": 33,
     "metadata": {},
     "output_type": "execute_result"
    }
   ],
   "source": [
    "nisalb.cell"
   ]
  },
  {
   "cell_type": "code",
   "execution_count": 34,
   "id": "f365d708-1050-4850-a8f9-fa86b2a95065",
   "metadata": {},
   "outputs": [],
   "source": [
    "alsalb = ase.build.fcc100(\"Al\", (repeats_al_a_b, repeats_al_a_b, repeats_al_c), a=4.064, vacuum=1.0, orthogonal=True, periodic=True)"
   ]
  },
  {
   "cell_type": "code",
   "execution_count": 35,
   "id": "ed812a22-66ef-49e2-9a00-9c3745db75dd",
   "metadata": {},
   "outputs": [
    {
     "data": {
      "text/plain": [
       "Cell([100.57886855597452, 100.57886855597452, 28.416])"
      ]
     },
     "execution_count": 35,
     "metadata": {},
     "output_type": "execute_result"
    }
   ],
   "source": [
    "alsalb.cell"
   ]
  },
  {
   "cell_type": "code",
   "execution_count": 36,
   "id": "21a178fa-84bf-4d59-a14b-b46656779874",
   "metadata": {},
   "outputs": [],
   "source": [
    "nisalb_half  = ase.build.fcc100(\"Ni\", (repeats_ni_a_b, repeats_ni_a_b, repeats_ni_c//2), a=3.528, vacuum=1.0, orthogonal=True, periodic=True)"
   ]
  },
  {
   "cell_type": "code",
   "execution_count": 37,
   "id": "8e0e332a-f074-49fa-bb52-556be918540a",
   "metadata": {},
   "outputs": [
    {
     "data": {
      "application/vnd.jupyter.widget-view+json": {
       "model_id": "43a159fd32a8442fb15c17a9c62b7175",
       "version_major": 2,
       "version_minor": 0
      },
      "text/plain": [
       "HBox(children=(NGLWidget(), VBox(children=(Dropdown(description='Show', options=('All', 'Ni'), value='All'), D…"
      ]
     },
     "metadata": {},
     "output_type": "display_data"
    }
   ],
   "source": [
    "second_slab = nisalb_half.copy()\n",
    "trans = np.zeros_like(nisalb_half.positions)\n",
    "trans[:,2] += (20 + nisalb_half.cell[2][2])\n",
    "second_slab.set_positions(nisalb_half.positions + trans)\n",
    "combined_slabs = nisalb_half + second_slab\n",
    "combined_slabs.cell[2][2] += (20 +nisalb_half.cell[2][2])\n",
    "v = view(combined_slabs, viewer='ngl')\n",
    "v"
   ]
  },
  {
   "cell_type": "code",
   "execution_count": 45,
   "id": "8389bd15-a267-4cea-b478-39c68f70f3ff",
   "metadata": {},
   "outputs": [],
   "source": [
    "wafer1 = ase.build.stack(supercell,alsalb, maxstrain=None)\n",
    "wafer2 = ase.build.stack(nisalb,alsalb, maxstrain=None)\n",
    "cap_left = ase.build.stack(nisalb_half,alsalb, maxstrain=None)"
   ]
  },
  {
   "cell_type": "code",
   "execution_count": 57,
   "id": "6ab7dc81-bb55-43a9-91d2-c893682072f3",
   "metadata": {},
   "outputs": [],
   "source": [
    "reverse_wafer1 = ase.build.stack(alsalb,nisalb, maxstrain=None)\n",
    "reverse_wafer2 = ase.build.stack(alsalb,supercell, maxstrain=None)\n",
    "cap_right = ase.build.stack(alsalb,nisalb_half, maxstrain=None)"
   ]
  },
  {
   "cell_type": "code",
   "execution_count": 58,
   "id": "eb2deb7e-3eb3-4de8-875e-18e98cfa3a12",
   "metadata": {},
   "outputs": [],
   "source": [
    "combined_wafer_left = ase.build.stack(wafer1,wafer2, maxstrain=None)\n",
    "combined_wafer_left = ase.build.stack(cap_left,combined_wafer_left, maxstrain=None)"
   ]
  },
  {
   "cell_type": "code",
   "execution_count": 59,
   "id": "056c85c6-b77c-4a6c-8404-e1e527bfc0c1",
   "metadata": {},
   "outputs": [],
   "source": [
    "combined_wafer_right = ase.build.stack(reverse_wafer1,reverse_wafer2, maxstrain=None)\n",
    "combined_wafer_right = ase.build.stack(combined_wafer_right,cap_right, maxstrain=None)"
   ]
  },
  {
   "cell_type": "code",
   "execution_count": 60,
   "id": "ba95e80d-e091-4738-a90e-a222c4138219",
   "metadata": {},
   "outputs": [],
   "source": [
    "combined_including_center = ase.build.stack(combined_wafer_left,combined_slabs, maxstrain=None)\n"
   ]
  },
  {
   "cell_type": "code",
   "execution_count": 61,
   "id": "5abf7946-a2e6-42c4-98c4-5c526128c016",
   "metadata": {},
   "outputs": [],
   "source": [
    "combined_including_center_both_sides = ase.build.stack(combined_including_center,combined_wafer_right, maxstrain=None)\n"
   ]
  },
  {
   "cell_type": "code",
   "execution_count": 62,
   "id": "cd47131c-a4e9-41f0-b111-80d649ed05dc",
   "metadata": {},
   "outputs": [
    {
     "data": {
      "application/vnd.jupyter.widget-view+json": {
       "model_id": "e95943ae76284170bcff01d23f4248f5",
       "version_major": 2,
       "version_minor": 0
      },
      "text/plain": [
       "HBox(children=(NGLWidget(), VBox(children=(Dropdown(description='Show', options=('All', 'O', 'Al', 'Ni'), valu…"
      ]
     },
     "metadata": {},
     "output_type": "display_data"
    }
   ],
   "source": [
    "v = view(combined_including_center_both_sides, viewer='ngl')\n",
    "v"
   ]
  },
  {
   "cell_type": "code",
   "execution_count": 63,
   "id": "4f8b1107-5712-4627-bf35-9f315b4a871d",
   "metadata": {},
   "outputs": [
    {
     "data": {
      "text/plain": [
       "'Al102900Ni273400O68600'"
      ]
     },
     "execution_count": 63,
     "metadata": {},
     "output_type": "execute_result"
    }
   ],
   "source": [
    "formula = combined_including_center_both_sides.get_chemical_formula()\n",
    "formula"
   ]
  },
  {
   "cell_type": "code",
   "execution_count": 64,
   "id": "d689d3c3-415c-4238-855a-3eaf03a5f08f",
   "metadata": {},
   "outputs": [
    {
     "data": {
      "text/plain": [
       "0.3763716166788588"
      ]
     },
     "execution_count": 64,
     "metadata": {},
     "output_type": "execute_result"
    }
   ],
   "source": [
    " import re\n",
    "numbers = re.findall(r'\\d+', formula)\n",
    "Al = int(numbers[0])\n",
    "Ni = int(numbers[1])\n",
    "Al/Ni"
   ]
  },
  {
   "cell_type": "code",
   "execution_count": 65,
   "id": "f120eb90-ba57-484c-8170-7134913329b7",
   "metadata": {},
   "outputs": [],
   "source": [
    "combined_including_center_both_sides.write(\"full_slab.xyz\")"
   ]
  },
  {
   "cell_type": "code",
   "execution_count": 66,
   "id": "7096bf65-57da-4afc-a801-563b3b0d7a8a",
   "metadata": {},
   "outputs": [],
   "source": [
    "lammpsdata.write_lammps_data(\"full_slab.data\", combined_including_center_both_sides)"
   ]
  },
  {
   "cell_type": "code",
   "execution_count": null,
   "id": "f780f421-5481-4bae-8180-6f68ec4f8768",
   "metadata": {},
   "outputs": [],
   "source": []
  }
 ],
 "metadata": {
  "kernelspec": {
   "display_name": "Python 3 (ipykernel)",
   "language": "python",
   "name": "python3"
  },
  "language_info": {
   "codemirror_mode": {
    "name": "ipython",
    "version": 3
   },
   "file_extension": ".py",
   "mimetype": "text/x-python",
   "name": "python",
   "nbconvert_exporter": "python",
   "pygments_lexer": "ipython3",
   "version": "3.9.12"
  }
 },
 "nbformat": 4,
 "nbformat_minor": 5
}

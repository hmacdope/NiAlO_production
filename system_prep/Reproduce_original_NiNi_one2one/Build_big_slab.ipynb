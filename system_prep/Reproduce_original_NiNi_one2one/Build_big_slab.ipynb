{
 "cells": [
  {
   "cell_type": "code",
   "execution_count": 2,
   "id": "bbfe9b0c",
   "metadata": {},
   "outputs": [
    {
     "data": {
      "application/vnd.jupyter.widget-view+json": {
       "model_id": "10ebfe9dcbdc427a823e5722284beb22",
       "version_major": 2,
       "version_minor": 0
      },
      "text/plain": []
     },
     "metadata": {},
     "output_type": "display_data"
    }
   ],
   "source": [
    "\n",
    "import ase\n",
    "import numpy as np\n",
    "from ase.visualize import view\n",
    "from ase.io import read, write\n",
    "from ase.io import cif, vasp, lammpsdata\n",
    "from ase.build import make_supercell, sort, add_adsorbate, add_vacuum\n",
    "from ase.build import bulk\n",
    "import nglview"
   ]
  },
  {
   "cell_type": "code",
   "execution_count": 3,
   "id": "efac77d1",
   "metadata": {},
   "outputs": [],
   "source": [
    "#second_slab = supercell.copy()"
   ]
  },
  {
   "cell_type": "code",
   "execution_count": 4,
   "id": "8bfeddda",
   "metadata": {},
   "outputs": [],
   "source": [
    "#trans = np.zeros_like(supercell.positions)\n",
    "#trans[:,2] += (20 + supercell.cell[2][2])"
   ]
  },
  {
   "cell_type": "code",
   "execution_count": 5,
   "id": "82955b6e",
   "metadata": {},
   "outputs": [],
   "source": [
    "#second_slab.set_positions(second_slab.positions + trans)"
   ]
  },
  {
   "cell_type": "code",
   "execution_count": 6,
   "id": "c8b120d6",
   "metadata": {},
   "outputs": [],
   "source": [
    "#combined_slabs = supercell + second_slab"
   ]
  },
  {
   "cell_type": "code",
   "execution_count": 7,
   "id": "a731d22b",
   "metadata": {},
   "outputs": [],
   "source": [
    "#combined_slabs.cell[2][2] += (20 +supercell.cell[2][2])"
   ]
  },
  {
   "cell_type": "code",
   "execution_count": null,
   "id": "fe599bad",
   "metadata": {},
   "outputs": [],
   "source": []
  },
  {
   "cell_type": "code",
   "execution_count": 8,
   "id": "721b5bf5",
   "metadata": {},
   "outputs": [
    {
     "data": {
      "text/plain": [
       "Cell([2.4946727240261395, 2.4946727240261395, 3.528])"
      ]
     },
     "execution_count": 8,
     "metadata": {},
     "output_type": "execute_result"
    }
   ],
   "source": [
    "NiPrimitive = bulk('Ni', 'fcc', a=3.528, orthorhombic=True)\n",
    "NiPrimitive.cell"
   ]
  },
  {
   "cell_type": "code",
   "execution_count": 9,
   "id": "5acf495c",
   "metadata": {},
   "outputs": [],
   "source": [
    "NiPrimitive_a_b = NiPrimitive.cell[0][0]\n",
    "NiPrimitive_c = NiPrimitive.cell[2][2]"
   ]
  },
  {
   "cell_type": "code",
   "execution_count": 10,
   "id": "d8b89a92",
   "metadata": {},
   "outputs": [
    {
     "data": {
      "application/vnd.jupyter.widget-view+json": {
       "model_id": "84557a8d125141cba7dfae9a8a8f0a58",
       "version_major": 2,
       "version_minor": 0
      },
      "text/plain": [
       "HBox(children=(NGLWidget(), VBox(children=(Dropdown(description='Show', options=('All', 'Ni'), value='All'), D…"
      ]
     },
     "metadata": {},
     "output_type": "display_data"
    }
   ],
   "source": [
    "v = view(NiPrimitive, viewer='ngl')\n",
    "v"
   ]
  },
  {
   "cell_type": "code",
   "execution_count": 11,
   "id": "4b086bbb",
   "metadata": {},
   "outputs": [
    {
     "data": {
      "text/plain": [
       "41"
      ]
     },
     "execution_count": 11,
     "metadata": {},
     "output_type": "execute_result"
    }
   ],
   "source": [
    "target_height  = 101.8\n",
    "repeats_ni_a_b =  round(target_height/NiPrimitive_a_b)\n",
    "repeats_ni_a_b"
   ]
  },
  {
   "cell_type": "code",
   "execution_count": 12,
   "id": "a1a50ac5",
   "metadata": {},
   "outputs": [
    {
     "data": {
      "text/plain": [
       "22"
      ]
     },
     "execution_count": 12,
     "metadata": {},
     "output_type": "execute_result"
    }
   ],
   "source": [
    "target_width_ni = 40\n",
    "repeats_ni_c = 2*round(target_width_ni/NiPrimitive_c)\n",
    "repeats_ni_c"
   ]
  },
  {
   "cell_type": "code",
   "execution_count": 13,
   "id": "9796edb8",
   "metadata": {},
   "outputs": [
    {
     "data": {
      "text/plain": [
       "Cell([2.873681958742129, 2.873681958742129, 4.064])"
      ]
     },
     "execution_count": 13,
     "metadata": {},
     "output_type": "execute_result"
    }
   ],
   "source": [
    "AlPrimitive = bulk('Al', 'fcc', a=4.064, orthorhombic=True)\n",
    "AlPrimitive.cell"
   ]
  },
  {
   "cell_type": "code",
   "execution_count": 14,
   "id": "832212df",
   "metadata": {},
   "outputs": [],
   "source": [
    "AlPrimitive_a_b = AlPrimitive.cell[0][0]\n",
    "AlPrimitive_c = AlPrimitive.cell[2][2]"
   ]
  },
  {
   "cell_type": "code",
   "execution_count": 15,
   "id": "050b1882",
   "metadata": {},
   "outputs": [
    {
     "data": {
      "text/plain": [
       "35"
      ]
     },
     "execution_count": 15,
     "metadata": {},
     "output_type": "execute_result"
    }
   ],
   "source": [
    "repeats_al_a_b =  round(target_height/AlPrimitive_a_b)\n",
    "repeats_al_a_b"
   ]
  },
  {
   "cell_type": "code",
   "execution_count": 16,
   "id": "588e621b",
   "metadata": {},
   "outputs": [
    {
     "data": {
      "text/plain": [
       "30"
      ]
     },
     "execution_count": 16,
     "metadata": {},
     "output_type": "execute_result"
    }
   ],
   "source": [
    "target_width_al = 59\n",
    "repeats_al_c = 2*round(target_width_al/AlPrimitive_c)\n",
    "repeats_al_c"
   ]
  },
  {
   "cell_type": "code",
   "execution_count": 17,
   "id": "f5c356b4",
   "metadata": {},
   "outputs": [],
   "source": [
    "nisalb = ase.build.fcc100(\"Ni\", (repeats_ni_a_b, repeats_ni_a_b, repeats_ni_c), a=3.528, vacuum=1.0, orthogonal=True, periodic=True)"
   ]
  },
  {
   "cell_type": "code",
   "execution_count": 18,
   "id": "a8d3d404",
   "metadata": {},
   "outputs": [
    {
     "data": {
      "text/plain": [
       "Cell([102.28158168507174, 102.28158168507174, 39.04399999999999])"
      ]
     },
     "execution_count": 18,
     "metadata": {},
     "output_type": "execute_result"
    }
   ],
   "source": [
    "nisalb.cell"
   ]
  },
  {
   "cell_type": "code",
   "execution_count": 19,
   "id": "4f91b62d",
   "metadata": {},
   "outputs": [
    {
     "data": {
      "application/vnd.jupyter.widget-view+json": {
       "model_id": "c940bfc3b8594845b069573c3f0d0d09",
       "version_major": 2,
       "version_minor": 0
      },
      "text/plain": [
       "HBox(children=(NGLWidget(), VBox(children=(Dropdown(description='Show', options=('All', 'Ni'), value='All'), D…"
      ]
     },
     "metadata": {},
     "output_type": "display_data"
    }
   ],
   "source": [
    "v = view(nisalb, viewer='ngl')\n",
    "v"
   ]
  },
  {
   "cell_type": "code",
   "execution_count": 20,
   "id": "c08c51f3",
   "metadata": {},
   "outputs": [],
   "source": [
    "alsalb = ase.build.fcc100(\"Al\", (repeats_al_a_b, repeats_al_a_b, repeats_al_c), a=4.064, vacuum=1.0, orthogonal=True, periodic=True)"
   ]
  },
  {
   "cell_type": "code",
   "execution_count": 21,
   "id": "71324646",
   "metadata": {},
   "outputs": [
    {
     "data": {
      "text/plain": [
       "Cell([100.57886855597452, 100.57886855597452, 60.928])"
      ]
     },
     "execution_count": 21,
     "metadata": {},
     "output_type": "execute_result"
    }
   ],
   "source": [
    "alsalb.cell"
   ]
  },
  {
   "cell_type": "code",
   "execution_count": 22,
   "id": "bea2bdbb",
   "metadata": {},
   "outputs": [
    {
     "data": {
      "application/vnd.jupyter.widget-view+json": {
       "model_id": "734f8a4ee4f949bb9e27ef17cb72544e",
       "version_major": 2,
       "version_minor": 0
      },
      "text/plain": [
       "HBox(children=(NGLWidget(), VBox(children=(Dropdown(description='Show', options=('All', 'Al'), value='All'), D…"
      ]
     },
     "metadata": {},
     "output_type": "display_data"
    }
   ],
   "source": [
    "v = view(alsalb, viewer='ngl')\n",
    "v"
   ]
  },
  {
   "cell_type": "code",
   "execution_count": 23,
   "id": "1707202d",
   "metadata": {},
   "outputs": [],
   "source": [
    "nisalb_half  = ase.build.fcc100(\"Ni\", (repeats_ni_a_b, repeats_ni_a_b, repeats_ni_c//2), a=3.528, vacuum=1.0, orthogonal=True, periodic=True)"
   ]
  },
  {
   "cell_type": "code",
   "execution_count": 24,
   "id": "0b2c2e05",
   "metadata": {},
   "outputs": [
    {
     "data": {
      "text/plain": [
       "Cell([102.28158168507174, 102.28158168507174, 19.64])"
      ]
     },
     "execution_count": 24,
     "metadata": {},
     "output_type": "execute_result"
    }
   ],
   "source": [
    "nisalb_half.cell"
   ]
  },
  {
   "cell_type": "code",
   "execution_count": 25,
   "id": "c1dd393b",
   "metadata": {},
   "outputs": [
    {
     "data": {
      "application/vnd.jupyter.widget-view+json": {
       "model_id": "6516dc7aa9fe492d8e8afde44ceac104",
       "version_major": 2,
       "version_minor": 0
      },
      "text/plain": [
       "HBox(children=(NGLWidget(), VBox(children=(Dropdown(description='Show', options=('All', 'Ni'), value='All'), D…"
      ]
     },
     "metadata": {},
     "output_type": "display_data"
    }
   ],
   "source": [
    "v = view(nisalb_half, viewer='ngl')\n",
    "v"
   ]
  },
  {
   "cell_type": "code",
   "execution_count": 26,
   "id": "ebd8617b",
   "metadata": {},
   "outputs": [],
   "source": [
    "second_niaslb_half = nisalb_half.copy()"
   ]
  },
  {
   "cell_type": "code",
   "execution_count": 27,
   "id": "f29329e5",
   "metadata": {},
   "outputs": [],
   "source": [
    "trans = np.zeros_like(second_niaslb_half.positions)\n",
    "trans[:,2] += (20 + second_niaslb_half.cell[2][2])\n",
    "second_niaslb_half.set_positions(second_niaslb_half.positions + trans)\n",
    "combined_slabs = second_niaslb_half + nisalb_half\n",
    "combined_slabs.cell[2][2] += (20 +nisalb_half.cell[2][2])"
   ]
  },
  {
   "cell_type": "code",
   "execution_count": 28,
   "id": "4667e54c",
   "metadata": {},
   "outputs": [
    {
     "data": {
      "application/vnd.jupyter.widget-view+json": {
       "model_id": "01d4c1c4a6c342cdaf80e972645b9cf9",
       "version_major": 2,
       "version_minor": 0
      },
      "text/plain": [
       "HBox(children=(NGLWidget(), VBox(children=(Dropdown(description='Show', options=('All', 'Ni'), value='All'), D…"
      ]
     },
     "metadata": {},
     "output_type": "display_data"
    }
   ],
   "source": [
    "v = view(combined_slabs, viewer='ngl')\n",
    "v"
   ]
  },
  {
   "cell_type": "code",
   "execution_count": 29,
   "id": "de21a5db",
   "metadata": {},
   "outputs": [],
   "source": [
    "wafer = ase.build.stack(nisalb,alsalb, maxstrain=None)\n",
    "cap_left = ase.build.stack(nisalb_half,alsalb, maxstrain=None)"
   ]
  },
  {
   "cell_type": "code",
   "execution_count": 30,
   "id": "188ad774",
   "metadata": {},
   "outputs": [],
   "source": [
    "reverse_wafer = ase.build.stack(alsalb,nisalb, maxstrain=None)\n",
    "cap_right = ase.build.stack(alsalb,nisalb_half, maxstrain=None)\n"
   ]
  },
  {
   "cell_type": "code",
   "execution_count": 31,
   "id": "25496b4a",
   "metadata": {
    "tags": []
   },
   "outputs": [
    {
     "data": {
      "application/vnd.jupyter.widget-view+json": {
       "model_id": "2d5229cbf14d4e8f8aa2542abe0801c2",
       "version_major": 2,
       "version_minor": 0
      },
      "text/plain": [
       "HBox(children=(NGLWidget(), VBox(children=(Dropdown(description='Show', options=('All', 'Ni', 'Al'), value='Al…"
      ]
     },
     "metadata": {},
     "output_type": "display_data"
    }
   ],
   "source": [
    "v = view(wafer, viewer='ngl')\n",
    "v"
   ]
  },
  {
   "cell_type": "code",
   "execution_count": 32,
   "id": "4fca1e67",
   "metadata": {},
   "outputs": [
    {
     "data": {
      "application/vnd.jupyter.widget-view+json": {
       "model_id": "26ab480a3c954644917237677b3d901b",
       "version_major": 2,
       "version_minor": 0
      },
      "text/plain": [
       "HBox(children=(NGLWidget(), VBox(children=(Dropdown(description='Show', options=('All', 'Ni', 'Al'), value='Al…"
      ]
     },
     "metadata": {},
     "output_type": "display_data"
    }
   ],
   "source": [
    "v = view(reverse_wafer, viewer='ngl')\n",
    "v"
   ]
  },
  {
   "cell_type": "code",
   "execution_count": 33,
   "id": "47416e31",
   "metadata": {},
   "outputs": [
    {
     "data": {
      "text/plain": [
       "Cell([101.43022512052313, 101.43022512052313, 99.97199999999998])"
      ]
     },
     "execution_count": 33,
     "metadata": {},
     "output_type": "execute_result"
    }
   ],
   "source": [
    "wafer.cell"
   ]
  },
  {
   "cell_type": "code",
   "execution_count": 34,
   "id": "2d977c3e",
   "metadata": {},
   "outputs": [
    {
     "data": {
      "text/plain": [
       "Cell([100.57886855597452, 100.57886855597452, 60.928])"
      ]
     },
     "execution_count": 34,
     "metadata": {},
     "output_type": "execute_result"
    }
   ],
   "source": [
    "alsalb.cell"
   ]
  },
  {
   "cell_type": "code",
   "execution_count": 35,
   "id": "fbd12672",
   "metadata": {},
   "outputs": [
    {
     "data": {
      "text/plain": [
       "Cell([102.28158168507174, 102.28158168507174, 39.04399999999999])"
      ]
     },
     "execution_count": 35,
     "metadata": {},
     "output_type": "execute_result"
    }
   ],
   "source": [
    "nisalb.cell"
   ]
  },
  {
   "cell_type": "code",
   "execution_count": 36,
   "id": "601e85e7",
   "metadata": {},
   "outputs": [],
   "source": [
    "combined_wafer_left = ase.build.stack(wafer,wafer, maxstrain=None)\n",
    "combined_wafer_left = ase.build.stack(cap_left,combined_wafer_left, maxstrain=None)"
   ]
  },
  {
   "cell_type": "code",
   "execution_count": 37,
   "id": "11de4c93",
   "metadata": {},
   "outputs": [
    {
     "data": {
      "application/vnd.jupyter.widget-view+json": {
       "model_id": "789bc128a96d4940a6eafe3e10850233",
       "version_major": 2,
       "version_minor": 0
      },
      "text/plain": [
       "HBox(children=(NGLWidget(), VBox(children=(Dropdown(description='Show', options=('All', 'Ni', 'Al'), value='Al…"
      ]
     },
     "metadata": {},
     "output_type": "display_data"
    }
   ],
   "source": [
    "v = view(combined_wafer_left, viewer='ngl')\n",
    "v"
   ]
  },
  {
   "cell_type": "code",
   "execution_count": 38,
   "id": "6e013e72",
   "metadata": {},
   "outputs": [],
   "source": [
    "combined_wafer_right = ase.build.stack(reverse_wafer,reverse_wafer, maxstrain=None)\n",
    "combined_wafer_right = ase.build.stack(combined_wafer_right,cap_right, maxstrain=None)"
   ]
  },
  {
   "cell_type": "code",
   "execution_count": 39,
   "id": "4636d6bf",
   "metadata": {},
   "outputs": [
    {
     "data": {
      "application/vnd.jupyter.widget-view+json": {
       "model_id": "8a4b8400a62242c88762067d451616b3",
       "version_major": 2,
       "version_minor": 0
      },
      "text/plain": [
       "HBox(children=(NGLWidget(), VBox(children=(Dropdown(description='Show', options=('All', 'Ni', 'Al'), value='Al…"
      ]
     },
     "metadata": {},
     "output_type": "display_data"
    }
   ],
   "source": [
    "v = view(combined_wafer_right, viewer='ngl')\n",
    "v"
   ]
  },
  {
   "cell_type": "code",
   "execution_count": 40,
   "id": "2ccef527",
   "metadata": {},
   "outputs": [],
   "source": [
    "combined_including_al2O3 = ase.build.stack(combined_wafer_left,combined_slabs, maxstrain=None)\n"
   ]
  },
  {
   "cell_type": "code",
   "execution_count": 41,
   "id": "a529231a",
   "metadata": {},
   "outputs": [
    {
     "data": {
      "application/vnd.jupyter.widget-view+json": {
       "model_id": "1dcdaac574894953937ade400c6acf08",
       "version_major": 2,
       "version_minor": 0
      },
      "text/plain": [
       "HBox(children=(NGLWidget(), VBox(children=(Dropdown(description='Show', options=('All', 'Ni', 'Al'), value='Al…"
      ]
     },
     "metadata": {},
     "output_type": "display_data"
    }
   ],
   "source": [
    "v = view(combined_including_al2O3, viewer='ngl')\n",
    "v"
   ]
  },
  {
   "cell_type": "code",
   "execution_count": 42,
   "id": "a3d35ede",
   "metadata": {},
   "outputs": [],
   "source": [
    "combined_including_al2O3_both_sides = ase.build.stack(combined_including_al2O3,combined_wafer_right, maxstrain=None)\n"
   ]
  },
  {
   "cell_type": "code",
   "execution_count": 43,
   "id": "9d0877fc",
   "metadata": {},
   "outputs": [
    {
     "data": {
      "application/vnd.jupyter.widget-view+json": {
       "model_id": "83686ffaa8684dd1a6f9a344f865ef67",
       "version_major": 2,
       "version_minor": 0
      },
      "text/plain": [
       "HBox(children=(NGLWidget(), VBox(children=(Dropdown(description='Show', options=('All', 'Ni', 'Al'), value='Al…"
      ]
     },
     "metadata": {},
     "output_type": "display_data"
    }
   ],
   "source": [
    "v = view(combined_including_al2O3_both_sides, viewer='ngl')\n",
    "v"
   ]
  },
  {
   "cell_type": "code",
   "execution_count": 44,
   "id": "c0950ddc-5017-44bc-85b9-8eccdde12271",
   "metadata": {},
   "outputs": [
    {
     "name": "stderr",
     "output_type": "stream",
     "text": [
      "/home/hmacdope/anaconda3/envs/terry/lib/python3.9/site-packages/ase/io/extxyz.py:302: UserWarning: Skipping unhashable information adsorbate_info\n",
      "  warnings.warn('Skipping unhashable information '\n"
     ]
    }
   ],
   "source": [
    "combined_including_al2O3_both_sides.write(\"full_slab.xyz\")\n",
    "combined_including_al2O3_both_sides.write(\"full_slab.pdb\")"
   ]
  },
  {
   "cell_type": "code",
   "execution_count": 45,
   "id": "f5484bb6",
   "metadata": {},
   "outputs": [],
   "source": [
    "lammpsdata.write_lammps_data(\"full_slab.data\", combined_including_al2O3_both_sides)"
   ]
  },
  {
   "cell_type": "code",
   "execution_count": 46,
   "id": "f2de4e00",
   "metadata": {},
   "outputs": [
    {
     "data": {
      "text/plain": [
       "'Al220500Ni221892'"
      ]
     },
     "execution_count": 46,
     "metadata": {},
     "output_type": "execute_result"
    }
   ],
   "source": [
    "formula = combined_including_al2O3_both_sides.get_chemical_formula()\n",
    "formula"
   ]
  },
  {
   "cell_type": "code",
   "execution_count": 47,
   "id": "7f50805e",
   "metadata": {},
   "outputs": [],
   "source": [
    " import re\n",
    "numbers = re.findall(r'\\d+', formula)\n"
   ]
  },
  {
   "cell_type": "code",
   "execution_count": 48,
   "id": "9740d8f0",
   "metadata": {},
   "outputs": [],
   "source": [
    "Al = int(numbers[0])\n",
    "Ni = int(numbers[1])"
   ]
  },
  {
   "cell_type": "code",
   "execution_count": 49,
   "id": "752f13c3",
   "metadata": {},
   "outputs": [
    {
     "data": {
      "text/plain": [
       "1.006312925170068"
      ]
     },
     "execution_count": 49,
     "metadata": {},
     "output_type": "execute_result"
    }
   ],
   "source": [
    "Ni/Al"
   ]
  },
  {
   "cell_type": "code",
   "execution_count": null,
   "id": "a7efe1d3",
   "metadata": {},
   "outputs": [],
   "source": []
  }
 ],
 "metadata": {
  "kernelspec": {
   "display_name": "Python 3 (ipykernel)",
   "language": "python",
   "name": "python3"
  },
  "language_info": {
   "codemirror_mode": {
    "name": "ipython",
    "version": 3
   },
   "file_extension": ".py",
   "mimetype": "text/x-python",
   "name": "python",
   "nbconvert_exporter": "python",
   "pygments_lexer": "ipython3",
   "version": "3.9.12"
  }
 },
 "nbformat": 4,
 "nbformat_minor": 5
}

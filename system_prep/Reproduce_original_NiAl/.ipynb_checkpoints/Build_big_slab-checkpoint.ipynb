{
 "cells": [
  {
   "cell_type": "code",
   "execution_count": 1,
   "id": "397d399d",
   "metadata": {},
   "outputs": [
    {
     "data": {
      "application/vnd.jupyter.widget-view+json": {
       "model_id": "f03d88c27b8c43459ee4edf1f3a676f8",
       "version_major": 2,
       "version_minor": 0
      },
      "text/plain": []
     },
     "metadata": {},
     "output_type": "display_data"
    }
   ],
   "source": [
    "\n",
    "import ase\n",
    "import numpy as np\n",
    "from ase.visualize import view\n",
    "from ase.io import read, write\n",
    "from ase.io import cif, vasp, lammpsdata\n",
    "from ase.build import make_supercell, sort, add_adsorbate, add_vacuum\n",
    "from ase.build import bulk\n",
    "import nglview"
   ]
  },
  {
   "cell_type": "code",
   "execution_count": 2,
   "id": "8d0c65dc",
   "metadata": {},
   "outputs": [],
   "source": [
    "#second_slab = supercell.copy()"
   ]
  },
  {
   "cell_type": "code",
   "execution_count": 3,
   "id": "9945a1c2",
   "metadata": {},
   "outputs": [],
   "source": [
    "#trans = np.zeros_like(supercell.positions)\n",
    "#trans[:,2] += (20 + supercell.cell[2][2])"
   ]
  },
  {
   "cell_type": "code",
   "execution_count": 4,
   "id": "340fc69e",
   "metadata": {},
   "outputs": [],
   "source": [
    "#second_slab.set_positions(second_slab.positions + trans)"
   ]
  },
  {
   "cell_type": "code",
   "execution_count": 5,
   "id": "1fbf45e5",
   "metadata": {},
   "outputs": [],
   "source": [
    "#combined_slabs = supercell + second_slab"
   ]
  },
  {
   "cell_type": "code",
   "execution_count": 6,
   "id": "c4e78c6a",
   "metadata": {},
   "outputs": [],
   "source": [
    "#combined_slabs.cell[2][2] += (20 +supercell.cell[2][2])"
   ]
  },
  {
   "cell_type": "code",
   "execution_count": null,
   "id": "a4d0d3fc",
   "metadata": {},
   "outputs": [],
   "source": []
  },
  {
   "cell_type": "code",
   "execution_count": 7,
   "id": "f7614570",
   "metadata": {},
   "outputs": [
    {
     "data": {
      "text/plain": [
       "Cell([2.4946727240261395, 2.4946727240261395, 3.528])"
      ]
     },
     "execution_count": 7,
     "metadata": {},
     "output_type": "execute_result"
    }
   ],
   "source": [
    "NiPrimitive = bulk('Ni', 'fcc', a=3.528, orthorhombic=True)\n",
    "NiPrimitive.cell"
   ]
  },
  {
   "cell_type": "code",
   "execution_count": 8,
   "id": "d48a34e8",
   "metadata": {},
   "outputs": [],
   "source": [
    "NiPrimitive_a_b = NiPrimitive.cell[0][0]\n",
    "NiPrimitive_c = NiPrimitive.cell[2][2]"
   ]
  },
  {
   "cell_type": "code",
   "execution_count": 9,
   "id": "798e880e",
   "metadata": {},
   "outputs": [
    {
     "data": {
      "application/vnd.jupyter.widget-view+json": {
       "model_id": "8b4ae998c452409ea7e75ea504c97eee",
       "version_major": 2,
       "version_minor": 0
      },
      "text/plain": [
       "HBox(children=(NGLWidget(), VBox(children=(Dropdown(description='Show', options=('All', 'Ni'), value='All'), D…"
      ]
     },
     "metadata": {},
     "output_type": "display_data"
    }
   ],
   "source": [
    "v = view(NiPrimitive, viewer='ngl')\n",
    "v"
   ]
  },
  {
   "cell_type": "code",
   "execution_count": 10,
   "id": "b12c8fe7",
   "metadata": {},
   "outputs": [
    {
     "data": {
      "text/plain": [
       "41"
      ]
     },
     "execution_count": 10,
     "metadata": {},
     "output_type": "execute_result"
    }
   ],
   "source": [
    "target_height  = 101.8\n",
    "repeats_ni_a_b =  round(target_height/NiPrimitive_a_b)\n",
    "repeats_ni_a_b"
   ]
  },
  {
   "cell_type": "code",
   "execution_count": 11,
   "id": "a3188d41",
   "metadata": {},
   "outputs": [
    {
     "data": {
      "text/plain": [
       "32"
      ]
     },
     "execution_count": 11,
     "metadata": {},
     "output_type": "execute_result"
    }
   ],
   "source": [
    "target_width_ni = 56\n",
    "repeats_ni_c = 2*round(target_width_ni/NiPrimitive_c)\n",
    "repeats_ni_c"
   ]
  },
  {
   "cell_type": "code",
   "execution_count": 12,
   "id": "6005409a",
   "metadata": {},
   "outputs": [
    {
     "data": {
      "text/plain": [
       "Cell([2.873681958742129, 2.873681958742129, 4.064])"
      ]
     },
     "execution_count": 12,
     "metadata": {},
     "output_type": "execute_result"
    }
   ],
   "source": [
    "AlPrimitive = bulk('Al', 'fcc', a=4.064, orthorhombic=True)\n",
    "AlPrimitive.cell"
   ]
  },
  {
   "cell_type": "code",
   "execution_count": 13,
   "id": "dedfdbf1",
   "metadata": {},
   "outputs": [],
   "source": [
    "AlPrimitive_a_b = AlPrimitive.cell[0][0]\n",
    "AlPrimitive_c = AlPrimitive.cell[2][2]"
   ]
  },
  {
   "cell_type": "code",
   "execution_count": 14,
   "id": "c05ba669",
   "metadata": {},
   "outputs": [
    {
     "data": {
      "text/plain": [
       "35"
      ]
     },
     "execution_count": 14,
     "metadata": {},
     "output_type": "execute_result"
    }
   ],
   "source": [
    "repeats_al_a_b =  round(target_height/AlPrimitive_a_b)\n",
    "repeats_al_a_b"
   ]
  },
  {
   "cell_type": "code",
   "execution_count": 15,
   "id": "7d6d3111",
   "metadata": {},
   "outputs": [
    {
     "data": {
      "text/plain": [
       "14"
      ]
     },
     "execution_count": 15,
     "metadata": {},
     "output_type": "execute_result"
    }
   ],
   "source": [
    "target_width_al = 28\n",
    "repeats_al_c = 2*round(target_width_al/AlPrimitive_c) \n",
    "repeats_al_c "
   ]
  },
  {
   "cell_type": "code",
   "execution_count": 16,
   "id": "fba3c666",
   "metadata": {},
   "outputs": [],
   "source": [
    "nisalb = ase.build.fcc100(\"Ni\", (repeats_ni_a_b, repeats_ni_a_b, repeats_ni_c), a=3.528, vacuum=1.0, orthogonal=True, periodic=True)"
   ]
  },
  {
   "cell_type": "code",
   "execution_count": 17,
   "id": "a99968a8",
   "metadata": {},
   "outputs": [
    {
     "data": {
      "text/plain": [
       "Cell([102.28158168507174, 102.28158168507174, 56.684])"
      ]
     },
     "execution_count": 17,
     "metadata": {},
     "output_type": "execute_result"
    }
   ],
   "source": [
    "nisalb.cell"
   ]
  },
  {
   "cell_type": "code",
   "execution_count": 18,
   "id": "f552a216",
   "metadata": {},
   "outputs": [
    {
     "data": {
      "application/vnd.jupyter.widget-view+json": {
       "model_id": "c886466d8716444186c781bda1b75327",
       "version_major": 2,
       "version_minor": 0
      },
      "text/plain": [
       "HBox(children=(NGLWidget(), VBox(children=(Dropdown(description='Show', options=('All', 'Ni'), value='All'), D…"
      ]
     },
     "metadata": {},
     "output_type": "display_data"
    }
   ],
   "source": [
    "v = view(nisalb, viewer='ngl')\n",
    "v"
   ]
  },
  {
   "cell_type": "code",
   "execution_count": 19,
   "id": "c183b596",
   "metadata": {},
   "outputs": [],
   "source": [
    "alsalb = ase.build.fcc100(\"Al\", (repeats_al_a_b, repeats_al_a_b, repeats_al_c), a=4.064, vacuum=1.0, orthogonal=True, periodic=True)"
   ]
  },
  {
   "cell_type": "code",
   "execution_count": 20,
   "id": "043f93c7",
   "metadata": {},
   "outputs": [
    {
     "data": {
      "text/plain": [
       "Cell([100.57886855597452, 100.57886855597452, 28.416])"
      ]
     },
     "execution_count": 20,
     "metadata": {},
     "output_type": "execute_result"
    }
   ],
   "source": [
    "alsalb.cell"
   ]
  },
  {
   "cell_type": "code",
   "execution_count": 21,
   "id": "62a5c83c-aa58-45e6-95b2-a7c267111259",
   "metadata": {},
   "outputs": [],
   "source": [
    "alsal_2 = alsalb.copy()"
   ]
  },
  {
   "cell_type": "code",
   "execution_count": 22,
   "id": "7f771879",
   "metadata": {},
   "outputs": [
    {
     "name": "stderr",
     "output_type": "stream",
     "text": [
      "/Users/hugo/opt/anaconda3/envs/terry/lib/python3.6/site-packages/ase/io/extxyz.py:303: UserWarning: Skipping unhashable information adsorbate_info\n",
      "  '{0}'.format(key))\n"
     ]
    }
   ],
   "source": [
    "trans = np.zeros_like(alsal_2.positions)\n",
    "trans[:,2] += (20 + nisalb.cell[2][2])\n",
    "alsal_2.set_positions(alsal_2.positions + trans)\n",
    "combined_slabs = alsal_2 + nisalb\n",
    "combined_slabs.cell[2][2] += (20 +nisalb.cell[2][2])\n",
    "combined_slabs.write(\"gapped.xyz\")"
   ]
  },
  {
   "cell_type": "code",
   "execution_count": 23,
   "id": "d2fa353e",
   "metadata": {},
   "outputs": [
    {
     "data": {
      "application/vnd.jupyter.widget-view+json": {
       "model_id": "4ae229fe44f54e0fb7b3028be4f05fae",
       "version_major": 2,
       "version_minor": 0
      },
      "text/plain": [
       "HBox(children=(NGLWidget(), VBox(children=(Dropdown(description='Show', options=('All', 'Al', 'Ni'), value='Al…"
      ]
     },
     "metadata": {},
     "output_type": "display_data"
    }
   ],
   "source": [
    "v = view(combined_slabs, viewer='ngl')\n",
    "v"
   ]
  },
  {
   "cell_type": "code",
   "execution_count": 26,
   "id": "e7dd8d79",
   "metadata": {},
   "outputs": [],
   "source": [
    "wafer = ase.build.stack(nisalb, alsalb, maxstrain=None)"
   ]
  },
  {
   "cell_type": "code",
   "execution_count": 27,
   "id": "25926605",
   "metadata": {},
   "outputs": [],
   "source": [
    "cap_left = ase.build.stack(nisalb, alsalb, maxstrain=None)"
   ]
  },
  {
   "cell_type": "code",
   "execution_count": 28,
   "id": "580c8d8a",
   "metadata": {},
   "outputs": [],
   "source": [
    "reverse_wafer = ase.build.stack(nisalb,alsalb, maxstrain=None)"
   ]
  },
  {
   "cell_type": "code",
   "execution_count": 29,
   "id": "a3603aad",
   "metadata": {},
   "outputs": [],
   "source": [
    "cap_right = ase.build.stack(nisalb, alsalb, maxstrain=None)"
   ]
  },
  {
   "cell_type": "code",
   "execution_count": 30,
   "id": "23be1662",
   "metadata": {
    "tags": []
   },
   "outputs": [
    {
     "data": {
      "application/vnd.jupyter.widget-view+json": {
       "model_id": "741b0d75f3cb410f84c7a5c89f2e35b7",
       "version_major": 2,
       "version_minor": 0
      },
      "text/plain": [
       "HBox(children=(NGLWidget(), VBox(children=(Dropdown(description='Show', options=('All', 'Al', 'Ni'), value='Al…"
      ]
     },
     "metadata": {},
     "output_type": "display_data"
    }
   ],
   "source": [
    "v = view(wafer, viewer='ngl')\n",
    "v"
   ]
  },
  {
   "cell_type": "code",
   "execution_count": 31,
   "id": "e76ffe06",
   "metadata": {},
   "outputs": [
    {
     "data": {
      "application/vnd.jupyter.widget-view+json": {
       "model_id": "058046d222834787963309ea5f361a68",
       "version_major": 2,
       "version_minor": 0
      },
      "text/plain": [
       "HBox(children=(NGLWidget(), VBox(children=(Dropdown(description='Show', options=('All', 'Al', 'Ni'), value='Al…"
      ]
     },
     "metadata": {},
     "output_type": "display_data"
    }
   ],
   "source": [
    "v = view(reverse_wafer, viewer='ngl')\n",
    "v"
   ]
  },
  {
   "cell_type": "code",
   "execution_count": 32,
   "id": "6f40aef1",
   "metadata": {},
   "outputs": [],
   "source": [
    "combined_wafer_left = ase.build.stack(wafer,wafer, maxstrain=None)\n",
    "combined_wafer_left = ase.build.stack(combined_wafer_left,cap_left, maxstrain=None)"
   ]
  },
  {
   "cell_type": "code",
   "execution_count": 33,
   "id": "0dabf59f",
   "metadata": {},
   "outputs": [
    {
     "data": {
      "application/vnd.jupyter.widget-view+json": {
       "model_id": "3546a03e203d415c98a70240d95e2b2e",
       "version_major": 2,
       "version_minor": 0
      },
      "text/plain": [
       "HBox(children=(NGLWidget(), VBox(children=(Dropdown(description='Show', options=('All', 'Al', 'Ni'), value='Al…"
      ]
     },
     "metadata": {},
     "output_type": "display_data"
    }
   ],
   "source": [
    "v = view(combined_wafer_left, viewer='ngl')\n",
    "v"
   ]
  },
  {
   "cell_type": "code",
   "execution_count": 34,
   "id": "66226faf",
   "metadata": {},
   "outputs": [],
   "source": [
    "combined_wafer_right = ase.build.stack(reverse_wafer,reverse_wafer, maxstrain=None)\n",
    "combined_wafer_right = ase.build.stack(cap_right,combined_wafer_right, maxstrain=None)"
   ]
  },
  {
   "cell_type": "code",
   "execution_count": 35,
   "id": "29e3ce22",
   "metadata": {},
   "outputs": [
    {
     "data": {
      "application/vnd.jupyter.widget-view+json": {
       "model_id": "79b77b6e53344689b3cd72d8e38a6745",
       "version_major": 2,
       "version_minor": 0
      },
      "text/plain": [
       "HBox(children=(NGLWidget(), VBox(children=(Dropdown(description='Show', options=('All', 'Al', 'Ni'), value='Al…"
      ]
     },
     "metadata": {},
     "output_type": "display_data"
    }
   ],
   "source": [
    "v = view(combined_wafer_right, viewer='ngl')\n",
    "v"
   ]
  },
  {
   "cell_type": "code",
   "execution_count": 36,
   "id": "9bf1c8b7",
   "metadata": {},
   "outputs": [],
   "source": [
    "combined_including_al2O3 = ase.build.stack(combined_wafer_left,combined_slabs, maxstrain=None)\n"
   ]
  },
  {
   "cell_type": "code",
   "execution_count": 37,
   "id": "17d4e3ef",
   "metadata": {},
   "outputs": [
    {
     "data": {
      "application/vnd.jupyter.widget-view+json": {
       "model_id": "d300d6e5e39647a98f86c038f0d60571",
       "version_major": 2,
       "version_minor": 0
      },
      "text/plain": [
       "HBox(children=(NGLWidget(), VBox(children=(Dropdown(description='Show', options=('All', 'Al', 'Ni'), value='Al…"
      ]
     },
     "metadata": {},
     "output_type": "display_data"
    }
   ],
   "source": [
    "v = view(combined_including_al2O3, viewer='ngl')\n",
    "v"
   ]
  },
  {
   "cell_type": "code",
   "execution_count": 38,
   "id": "f13767bf",
   "metadata": {},
   "outputs": [],
   "source": [
    "combined_including_al2O3_both_sides = ase.build.stack(combined_including_al2O3,combined_wafer_right, maxstrain=None)\n"
   ]
  },
  {
   "cell_type": "code",
   "execution_count": 39,
   "id": "638dd06a",
   "metadata": {},
   "outputs": [
    {
     "data": {
      "application/vnd.jupyter.widget-view+json": {
       "model_id": "e594ddac93f6410fa24f1b71a3ca35fc",
       "version_major": 2,
       "version_minor": 0
      },
      "text/plain": [
       "HBox(children=(NGLWidget(), VBox(children=(Dropdown(description='Show', options=('All', 'Al', 'Ni'), value='Al…"
      ]
     },
     "metadata": {},
     "output_type": "display_data"
    }
   ],
   "source": [
    "v = view(combined_including_al2O3_both_sides, viewer='ngl')\n",
    "v"
   ]
  },
  {
   "cell_type": "code",
   "execution_count": null,
   "id": "fd0be9a6",
   "metadata": {},
   "outputs": [],
   "source": [
    "lammpsdata.write_lammps_data(\"full_slab.data\", combined_including_al2O3_both_sides)\n",
    "combined_including_al2O3_both_sides.write(\"full_slab.xyz\")"
   ]
  },
  {
   "cell_type": "code",
   "execution_count": 41,
   "id": "196381ba",
   "metadata": {},
   "outputs": [
    {
     "data": {
      "text/plain": [
       "'Al120050Ni376544'"
      ]
     },
     "execution_count": 41,
     "metadata": {},
     "output_type": "execute_result"
    }
   ],
   "source": [
    "formula = combined_including_al2O3_both_sides.get_chemical_formula()\n",
    "formula"
   ]
  },
  {
   "cell_type": "code",
   "execution_count": 42,
   "id": "b6292c17",
   "metadata": {},
   "outputs": [],
   "source": [
    " import re\n",
    "numbers = re.findall(r'\\d+', formula)\n"
   ]
  },
  {
   "cell_type": "code",
   "execution_count": 43,
   "id": "ffad521f",
   "metadata": {},
   "outputs": [],
   "source": [
    "Al = int(numbers[0])\n",
    "Ni = int(numbers[1])"
   ]
  },
  {
   "cell_type": "code",
   "execution_count": 44,
   "id": "639ee94c",
   "metadata": {},
   "outputs": [
    {
     "data": {
      "text/plain": [
       "0.3188206424747174"
      ]
     },
     "execution_count": 44,
     "metadata": {},
     "output_type": "execute_result"
    }
   ],
   "source": [
    "Al/Ni"
   ]
  },
  {
   "cell_type": "code",
   "execution_count": null,
   "id": "4c5b8869",
   "metadata": {},
   "outputs": [],
   "source": []
  },
  {
   "cell_type": "code",
   "execution_count": null,
   "id": "fe2c807c",
   "metadata": {},
   "outputs": [],
   "source": []
  }
 ],
 "metadata": {
  "kernelspec": {
   "display_name": "Python 3",
   "language": "python",
   "name": "python3"
  },
  "language_info": {
   "codemirror_mode": {
    "name": "ipython",
    "version": 3
   },
   "file_extension": ".py",
   "mimetype": "text/x-python",
   "name": "python",
   "nbconvert_exporter": "python",
   "pygments_lexer": "ipython3",
   "version": "3.6.15"
  }
 },
 "nbformat": 4,
 "nbformat_minor": 5
}
